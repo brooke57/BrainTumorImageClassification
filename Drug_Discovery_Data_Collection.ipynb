{
  "nbformat": 4,
  "nbformat_minor": 0,
  "metadata": {
    "colab": {
      "name": "Drug_Discovery_Data_Collection.ipynb",
      "provenance": [],
      "collapsed_sections": [],
      "mount_file_id": "1spjcZtwqOLsJckG3u5IESucA00hxQLns",
      "authorship_tag": "ABX9TyOFYy+/nAcbDwPbWqnvz+73",
      "include_colab_link": true
    },
    "kernelspec": {
      "name": "python3",
      "display_name": "Python 3"
    },
    "language_info": {
      "name": "python"
    }
  },
  "cells": [
    {
      "cell_type": "markdown",
      "metadata": {
        "id": "view-in-github",
        "colab_type": "text"
      },
      "source": [
        "<a href=\"https://colab.research.google.com/github/brooke57/BrainTumorImageClassification/blob/main/Drug_Discovery_Data_Collection.ipynb\" target=\"_parent\"><img src=\"https://colab.research.google.com/assets/colab-badge.svg\" alt=\"Open In Colab\"/></a>"
      ]
    },
    {
      "cell_type": "markdown",
      "source": [
        "## **Drug Discovery Data Collection for TKR_FLT3**"
      ],
      "metadata": {
        "id": "yLXp5PXD3Nh-"
      }
    },
    {
      "cell_type": "markdown",
      "source": [
        "For much of this project, I will be following tutorials from the Data professor, who has a [youtube channel](https://www.youtube.com/channel/UCV8e2g4IWQqK71bbzGDEI4Q) and [github](https://github.com/dataprofessor/code/tree/master/python)."
      ],
      "metadata": {
        "id": "q2eZnz3z3VRV"
      }
    },
    {
      "cell_type": "code",
      "execution_count": null,
      "metadata": {
        "id": "0e8NUvken0H2",
        "colab": {
          "base_uri": "https://localhost:8080/"
        },
        "outputId": "97f9b08d-7831-4ddc-9774-ee7a01fe38c0"
      },
      "outputs": [
        {
          "output_type": "stream",
          "name": "stdout",
          "text": [
            "Collecting rdkit-pypi\n",
            "  Downloading rdkit_pypi-2021.9.4-cp37-cp37m-manylinux_2_17_x86_64.manylinux2014_x86_64.whl (20.6 MB)\n",
            "\u001b[K     |████████████████████████████████| 20.6 MB 34.1 MB/s \n",
            "\u001b[?25hRequirement already satisfied: Pillow in /usr/local/lib/python3.7/dist-packages (from rdkit-pypi) (7.1.2)\n",
            "Requirement already satisfied: numpy>=1.19 in /usr/local/lib/python3.7/dist-packages (from rdkit-pypi) (1.21.5)\n",
            "Installing collected packages: rdkit-pypi\n",
            "Successfully installed rdkit-pypi-2021.9.4\n"
          ]
        }
      ],
      "source": [
        "!pip install rdkit-pypi"
      ]
    },
    {
      "cell_type": "code",
      "source": [
        "from rdkit import Chem"
      ],
      "metadata": {
        "id": "QsznGYtYp0SX"
      },
      "execution_count": null,
      "outputs": []
    },
    {
      "cell_type": "markdown",
      "source": [
        "## **Install ChEMBL web service package**"
      ],
      "metadata": {
        "id": "W5QVZzSxoEkh"
      }
    },
    {
      "cell_type": "code",
      "source": [
        "! pip install chembl_webresource_client"
      ],
      "metadata": {
        "colab": {
          "base_uri": "https://localhost:8080/"
        },
        "id": "oJIzUf__oLCG",
        "outputId": "fa4146e7-866e-492c-ce4d-36b6ed0485ba"
      },
      "execution_count": null,
      "outputs": [
        {
          "output_type": "stream",
          "name": "stdout",
          "text": [
            "Collecting chembl_webresource_client\n",
            "  Downloading chembl_webresource_client-0.10.7-py3-none-any.whl (55 kB)\n",
            "\u001b[?25l\r\u001b[K     |██████                          | 10 kB 15.4 MB/s eta 0:00:01\r\u001b[K     |███████████▉                    | 20 kB 11.7 MB/s eta 0:00:01\r\u001b[K     |█████████████████▊              | 30 kB 6.8 MB/s eta 0:00:01\r\u001b[K     |███████████████████████▋        | 40 kB 6.2 MB/s eta 0:00:01\r\u001b[K     |█████████████████████████████▌  | 51 kB 3.2 MB/s eta 0:00:01\r\u001b[K     |████████████████████████████████| 55 kB 1.9 MB/s \n",
            "\u001b[?25hCollecting requests-cache~=0.7.0\n",
            "  Downloading requests_cache-0.7.5-py3-none-any.whl (39 kB)\n",
            "Requirement already satisfied: requests>=2.18.4 in /usr/local/lib/python3.7/dist-packages (from chembl_webresource_client) (2.23.0)\n",
            "Requirement already satisfied: urllib3 in /usr/local/lib/python3.7/dist-packages (from chembl_webresource_client) (1.24.3)\n",
            "Requirement already satisfied: easydict in /usr/local/lib/python3.7/dist-packages (from chembl_webresource_client) (1.9)\n",
            "Requirement already satisfied: certifi>=2017.4.17 in /usr/local/lib/python3.7/dist-packages (from requests>=2.18.4->chembl_webresource_client) (2021.10.8)\n",
            "Requirement already satisfied: chardet<4,>=3.0.2 in /usr/local/lib/python3.7/dist-packages (from requests>=2.18.4->chembl_webresource_client) (3.0.4)\n",
            "Requirement already satisfied: idna<3,>=2.5 in /usr/local/lib/python3.7/dist-packages (from requests>=2.18.4->chembl_webresource_client) (2.10)\n",
            "Collecting itsdangerous>=2.0.1\n",
            "  Downloading itsdangerous-2.0.1-py3-none-any.whl (18 kB)\n",
            "Requirement already satisfied: attrs<22.0,>=21.2 in /usr/local/lib/python3.7/dist-packages (from requests-cache~=0.7.0->chembl_webresource_client) (21.4.0)\n",
            "Collecting url-normalize<2.0,>=1.4\n",
            "  Downloading url_normalize-1.4.3-py2.py3-none-any.whl (6.8 kB)\n",
            "Collecting pyyaml>=5.4\n",
            "  Downloading PyYAML-6.0-cp37-cp37m-manylinux_2_5_x86_64.manylinux1_x86_64.manylinux_2_12_x86_64.manylinux2010_x86_64.whl (596 kB)\n",
            "\u001b[K     |████████████████████████████████| 596 kB 5.8 MB/s \n",
            "\u001b[?25hRequirement already satisfied: six in /usr/local/lib/python3.7/dist-packages (from url-normalize<2.0,>=1.4->requests-cache~=0.7.0->chembl_webresource_client) (1.15.0)\n",
            "Installing collected packages: url-normalize, pyyaml, itsdangerous, requests-cache, chembl-webresource-client\n",
            "  Attempting uninstall: pyyaml\n",
            "    Found existing installation: PyYAML 3.13\n",
            "    Uninstalling PyYAML-3.13:\n",
            "      Successfully uninstalled PyYAML-3.13\n",
            "  Attempting uninstall: itsdangerous\n",
            "    Found existing installation: itsdangerous 1.1.0\n",
            "    Uninstalling itsdangerous-1.1.0:\n",
            "      Successfully uninstalled itsdangerous-1.1.0\n",
            "\u001b[31mERROR: pip's dependency resolver does not currently take into account all the packages that are installed. This behaviour is the source of the following dependency conflicts.\n",
            "flask 1.1.4 requires itsdangerous<2.0,>=0.24, but you have itsdangerous 2.0.1 which is incompatible.\u001b[0m\n",
            "Successfully installed chembl-webresource-client-0.10.7 itsdangerous-2.0.1 pyyaml-6.0 requests-cache-0.7.5 url-normalize-1.4.3\n"
          ]
        }
      ]
    },
    {
      "cell_type": "markdown",
      "source": [
        "## **Importing Libraries**"
      ],
      "metadata": {
        "id": "RL7JxG2KoWIh"
      }
    },
    {
      "cell_type": "code",
      "source": [
        "# Import necessary libraries\n",
        "import pandas as pd\n",
        "from chembl_webresource_client.new_client import new_client\n",
        "import pandas as pd\n",
        "import numpy as np\n",
        "import matplotlib.pyplot as plt\n",
        "import seaborn as sns"
      ],
      "metadata": {
        "id": "Bi6Vy_0toNm6"
      },
      "execution_count": null,
      "outputs": []
    },
    {
      "cell_type": "code",
      "source": [
        "# Target search for \n",
        "target = new_client.target\n",
        "target_query = target.search('Tyrosine-protein kinase receptor FLT3')\n",
        "targets = pd.DataFrame.from_dict(target_query)\n",
        "targets"
      ],
      "metadata": {
        "colab": {
          "base_uri": "https://localhost:8080/",
          "height": 731
        },
        "id": "XbV_6ZDCocMH",
        "outputId": "1f538a33-cea2-4dfa-a298-9f37d72c72df"
      },
      "execution_count": null,
      "outputs": [
        {
          "output_type": "execute_result",
          "data": {
            "text/html": [
              "\n",
              "  <div id=\"df-d49ab8f6-80f3-41de-b34e-2f9e1f131ce0\">\n",
              "    <div class=\"colab-df-container\">\n",
              "      <div>\n",
              "<style scoped>\n",
              "    .dataframe tbody tr th:only-of-type {\n",
              "        vertical-align: middle;\n",
              "    }\n",
              "\n",
              "    .dataframe tbody tr th {\n",
              "        vertical-align: top;\n",
              "    }\n",
              "\n",
              "    .dataframe thead th {\n",
              "        text-align: right;\n",
              "    }\n",
              "</style>\n",
              "<table border=\"1\" class=\"dataframe\">\n",
              "  <thead>\n",
              "    <tr style=\"text-align: right;\">\n",
              "      <th></th>\n",
              "      <th>cross_references</th>\n",
              "      <th>organism</th>\n",
              "      <th>pref_name</th>\n",
              "      <th>score</th>\n",
              "      <th>species_group_flag</th>\n",
              "      <th>target_chembl_id</th>\n",
              "      <th>target_components</th>\n",
              "      <th>target_type</th>\n",
              "      <th>tax_id</th>\n",
              "    </tr>\n",
              "  </thead>\n",
              "  <tbody>\n",
              "    <tr>\n",
              "      <th>0</th>\n",
              "      <td>[]</td>\n",
              "      <td>Mus musculus</td>\n",
              "      <td>Receptor-type tyrosine-protein kinase FLT3</td>\n",
              "      <td>33.0</td>\n",
              "      <td>False</td>\n",
              "      <td>CHEMBL2034796</td>\n",
              "      <td>[{'accession': 'Q00342', 'component_descriptio...</td>\n",
              "      <td>SINGLE PROTEIN</td>\n",
              "      <td>10090.0</td>\n",
              "    </tr>\n",
              "    <tr>\n",
              "      <th>1</th>\n",
              "      <td>[{'xref_id': 'P36888', 'xref_name': None, 'xre...</td>\n",
              "      <td>Homo sapiens</td>\n",
              "      <td>Tyrosine-protein kinase receptor FLT3</td>\n",
              "      <td>32.0</td>\n",
              "      <td>False</td>\n",
              "      <td>CHEMBL1974</td>\n",
              "      <td>[{'accession': 'P36888', 'component_descriptio...</td>\n",
              "      <td>SINGLE PROTEIN</td>\n",
              "      <td>9606.0</td>\n",
              "    </tr>\n",
              "    <tr>\n",
              "      <th>2</th>\n",
              "      <td>[]</td>\n",
              "      <td>Homo sapiens</td>\n",
              "      <td>Protein cereblon/Tyrosine-protein kinase recep...</td>\n",
              "      <td>32.0</td>\n",
              "      <td>False</td>\n",
              "      <td>CHEMBL4630730</td>\n",
              "      <td>[{'accession': 'P36888', 'component_descriptio...</td>\n",
              "      <td>PROTEIN-PROTEIN INTERACTION</td>\n",
              "      <td>9606.0</td>\n",
              "    </tr>\n",
              "    <tr>\n",
              "      <th>3</th>\n",
              "      <td>[]</td>\n",
              "      <td>Homo sapiens</td>\n",
              "      <td>VHL/FLT3</td>\n",
              "      <td>30.0</td>\n",
              "      <td>False</td>\n",
              "      <td>CHEMBL4523735</td>\n",
              "      <td>[{'accession': 'P36888', 'component_descriptio...</td>\n",
              "      <td>PROTEIN-PROTEIN INTERACTION</td>\n",
              "      <td>9606.0</td>\n",
              "    </tr>\n",
              "    <tr>\n",
              "      <th>4</th>\n",
              "      <td>[{'xref_id': 'Q06418', 'xref_name': None, 'xre...</td>\n",
              "      <td>Homo sapiens</td>\n",
              "      <td>Tyrosine-protein kinase receptor TYRO3</td>\n",
              "      <td>20.0</td>\n",
              "      <td>False</td>\n",
              "      <td>CHEMBL5314</td>\n",
              "      <td>[{'accession': 'Q06418', 'component_descriptio...</td>\n",
              "      <td>SINGLE PROTEIN</td>\n",
              "      <td>9606.0</td>\n",
              "    </tr>\n",
              "    <tr>\n",
              "      <th>...</th>\n",
              "      <td>...</td>\n",
              "      <td>...</td>\n",
              "      <td>...</td>\n",
              "      <td>...</td>\n",
              "      <td>...</td>\n",
              "      <td>...</td>\n",
              "      <td>...</td>\n",
              "      <td>...</td>\n",
              "      <td>...</td>\n",
              "    </tr>\n",
              "    <tr>\n",
              "      <th>5725</th>\n",
              "      <td>[]</td>\n",
              "      <td>Homo sapiens</td>\n",
              "      <td>Lysophosphatidylcholine acyltransferase 1</td>\n",
              "      <td>0.0</td>\n",
              "      <td>False</td>\n",
              "      <td>CHEMBL4295903</td>\n",
              "      <td>[{'accession': 'Q8NF37', 'component_descriptio...</td>\n",
              "      <td>SINGLE PROTEIN</td>\n",
              "      <td>9606.0</td>\n",
              "    </tr>\n",
              "    <tr>\n",
              "      <th>5726</th>\n",
              "      <td>[]</td>\n",
              "      <td>Homo sapiens</td>\n",
              "      <td>Glycerol-3-phosphate acyltransferase 3</td>\n",
              "      <td>0.0</td>\n",
              "      <td>False</td>\n",
              "      <td>CHEMBL4523318</td>\n",
              "      <td>[{'accession': 'Q53EU6', 'component_descriptio...</td>\n",
              "      <td>SINGLE PROTEIN</td>\n",
              "      <td>9606.0</td>\n",
              "    </tr>\n",
              "    <tr>\n",
              "      <th>5727</th>\n",
              "      <td>[]</td>\n",
              "      <td>Homo sapiens</td>\n",
              "      <td>Geranylgeranyl transferase type-2</td>\n",
              "      <td>0.0</td>\n",
              "      <td>False</td>\n",
              "      <td>CHEMBL4523994</td>\n",
              "      <td>[{'accession': 'P53611', 'component_descriptio...</td>\n",
              "      <td>PROTEIN COMPLEX</td>\n",
              "      <td>9606.0</td>\n",
              "    </tr>\n",
              "    <tr>\n",
              "      <th>5728</th>\n",
              "      <td>[]</td>\n",
              "      <td>Rattus norvegicus</td>\n",
              "      <td>Geranylgeranyl transferase type-2</td>\n",
              "      <td>0.0</td>\n",
              "      <td>False</td>\n",
              "      <td>CHEMBL4523995</td>\n",
              "      <td>[{'accession': 'Q08603', 'component_descriptio...</td>\n",
              "      <td>PROTEIN COMPLEX</td>\n",
              "      <td>10116.0</td>\n",
              "    </tr>\n",
              "    <tr>\n",
              "      <th>5729</th>\n",
              "      <td>[]</td>\n",
              "      <td>Homo sapiens</td>\n",
              "      <td>Secretory phospholipase A2</td>\n",
              "      <td>0.0</td>\n",
              "      <td>False</td>\n",
              "      <td>CHEMBL4524005</td>\n",
              "      <td>[{'accession': 'Q5R387', 'component_descriptio...</td>\n",
              "      <td>PROTEIN FAMILY</td>\n",
              "      <td>9606.0</td>\n",
              "    </tr>\n",
              "  </tbody>\n",
              "</table>\n",
              "<p>5730 rows × 9 columns</p>\n",
              "</div>\n",
              "      <button class=\"colab-df-convert\" onclick=\"convertToInteractive('df-d49ab8f6-80f3-41de-b34e-2f9e1f131ce0')\"\n",
              "              title=\"Convert this dataframe to an interactive table.\"\n",
              "              style=\"display:none;\">\n",
              "        \n",
              "  <svg xmlns=\"http://www.w3.org/2000/svg\" height=\"24px\"viewBox=\"0 0 24 24\"\n",
              "       width=\"24px\">\n",
              "    <path d=\"M0 0h24v24H0V0z\" fill=\"none\"/>\n",
              "    <path d=\"M18.56 5.44l.94 2.06.94-2.06 2.06-.94-2.06-.94-.94-2.06-.94 2.06-2.06.94zm-11 1L8.5 8.5l.94-2.06 2.06-.94-2.06-.94L8.5 2.5l-.94 2.06-2.06.94zm10 10l.94 2.06.94-2.06 2.06-.94-2.06-.94-.94-2.06-.94 2.06-2.06.94z\"/><path d=\"M17.41 7.96l-1.37-1.37c-.4-.4-.92-.59-1.43-.59-.52 0-1.04.2-1.43.59L10.3 9.45l-7.72 7.72c-.78.78-.78 2.05 0 2.83L4 21.41c.39.39.9.59 1.41.59.51 0 1.02-.2 1.41-.59l7.78-7.78 2.81-2.81c.8-.78.8-2.07 0-2.86zM5.41 20L4 18.59l7.72-7.72 1.47 1.35L5.41 20z\"/>\n",
              "  </svg>\n",
              "      </button>\n",
              "      \n",
              "  <style>\n",
              "    .colab-df-container {\n",
              "      display:flex;\n",
              "      flex-wrap:wrap;\n",
              "      gap: 12px;\n",
              "    }\n",
              "\n",
              "    .colab-df-convert {\n",
              "      background-color: #E8F0FE;\n",
              "      border: none;\n",
              "      border-radius: 50%;\n",
              "      cursor: pointer;\n",
              "      display: none;\n",
              "      fill: #1967D2;\n",
              "      height: 32px;\n",
              "      padding: 0 0 0 0;\n",
              "      width: 32px;\n",
              "    }\n",
              "\n",
              "    .colab-df-convert:hover {\n",
              "      background-color: #E2EBFA;\n",
              "      box-shadow: 0px 1px 2px rgba(60, 64, 67, 0.3), 0px 1px 3px 1px rgba(60, 64, 67, 0.15);\n",
              "      fill: #174EA6;\n",
              "    }\n",
              "\n",
              "    [theme=dark] .colab-df-convert {\n",
              "      background-color: #3B4455;\n",
              "      fill: #D2E3FC;\n",
              "    }\n",
              "\n",
              "    [theme=dark] .colab-df-convert:hover {\n",
              "      background-color: #434B5C;\n",
              "      box-shadow: 0px 1px 3px 1px rgba(0, 0, 0, 0.15);\n",
              "      filter: drop-shadow(0px 1px 2px rgba(0, 0, 0, 0.3));\n",
              "      fill: #FFFFFF;\n",
              "    }\n",
              "  </style>\n",
              "\n",
              "      <script>\n",
              "        const buttonEl =\n",
              "          document.querySelector('#df-d49ab8f6-80f3-41de-b34e-2f9e1f131ce0 button.colab-df-convert');\n",
              "        buttonEl.style.display =\n",
              "          google.colab.kernel.accessAllowed ? 'block' : 'none';\n",
              "\n",
              "        async function convertToInteractive(key) {\n",
              "          const element = document.querySelector('#df-d49ab8f6-80f3-41de-b34e-2f9e1f131ce0');\n",
              "          const dataTable =\n",
              "            await google.colab.kernel.invokeFunction('convertToInteractive',\n",
              "                                                     [key], {});\n",
              "          if (!dataTable) return;\n",
              "\n",
              "          const docLinkHtml = 'Like what you see? Visit the ' +\n",
              "            '<a target=\"_blank\" href=https://colab.research.google.com/notebooks/data_table.ipynb>data table notebook</a>'\n",
              "            + ' to learn more about interactive tables.';\n",
              "          element.innerHTML = '';\n",
              "          dataTable['output_type'] = 'display_data';\n",
              "          await google.colab.output.renderOutput(dataTable, element);\n",
              "          const docLink = document.createElement('div');\n",
              "          docLink.innerHTML = docLinkHtml;\n",
              "          element.appendChild(docLink);\n",
              "        }\n",
              "      </script>\n",
              "    </div>\n",
              "  </div>\n",
              "  "
            ],
            "text/plain": [
              "                                       cross_references  ...   tax_id\n",
              "0                                                    []  ...  10090.0\n",
              "1     [{'xref_id': 'P36888', 'xref_name': None, 'xre...  ...   9606.0\n",
              "2                                                    []  ...   9606.0\n",
              "3                                                    []  ...   9606.0\n",
              "4     [{'xref_id': 'Q06418', 'xref_name': None, 'xre...  ...   9606.0\n",
              "...                                                 ...  ...      ...\n",
              "5725                                                 []  ...   9606.0\n",
              "5726                                                 []  ...   9606.0\n",
              "5727                                                 []  ...   9606.0\n",
              "5728                                                 []  ...  10116.0\n",
              "5729                                                 []  ...   9606.0\n",
              "\n",
              "[5730 rows x 9 columns]"
            ]
          },
          "metadata": {},
          "execution_count": 3
        }
      ]
    },
    {
      "cell_type": "markdown",
      "source": [
        "### **Select the correct version of Tyrosine-protein kinase receptor FLT3**"
      ],
      "metadata": {
        "id": "SK9PV3NTxmmm"
      }
    },
    {
      "cell_type": "code",
      "source": [
        "targets.columns"
      ],
      "metadata": {
        "colab": {
          "base_uri": "https://localhost:8080/"
        },
        "id": "5qjYAvekyDY9",
        "outputId": "7044652b-d36f-4bc3-e39f-100d983f7dce"
      },
      "execution_count": null,
      "outputs": [
        {
          "output_type": "execute_result",
          "data": {
            "text/plain": [
              "Index(['cross_references', 'organism', 'pref_name', 'score',\n",
              "       'species_group_flag', 'target_chembl_id', 'target_components',\n",
              "       'target_type', 'tax_id'],\n",
              "      dtype='object')"
            ]
          },
          "metadata": {},
          "execution_count": 4
        }
      ]
    },
    {
      "cell_type": "code",
      "source": [
        "sel_tar = targets['target_chembl_id'][1]\n",
        "sel_tar"
      ],
      "metadata": {
        "colab": {
          "base_uri": "https://localhost:8080/",
          "height": 35
        },
        "id": "KS5bSynxvax1",
        "outputId": "b42c8275-681d-473e-dd44-0fcf2e68c5ab"
      },
      "execution_count": null,
      "outputs": [
        {
          "output_type": "execute_result",
          "data": {
            "application/vnd.google.colaboratory.intrinsic+json": {
              "type": "string"
            },
            "text/plain": [
              "'CHEMBL1974'"
            ]
          },
          "metadata": {},
          "execution_count": 5
        }
      ]
    },
    {
      "cell_type": "markdown",
      "source": [
        "Now, I want to retrieve bioactivity data for Tyrosine-protein kinase receptor FLT3 "
      ],
      "metadata": {
        "id": "8ubE61dczCWI"
      }
    },
    {
      "cell_type": "code",
      "source": [
        "activity = new_client.activity\n",
        "refine = activity.filter(target_chembl_id=sel_tar)"
      ],
      "metadata": {
        "id": "kRtBrasHx5tw"
      },
      "execution_count": null,
      "outputs": []
    },
    {
      "cell_type": "code",
      "source": [
        "df = pd.DataFrame.from_dict(refine)"
      ],
      "metadata": {
        "id": "HPoo4mcH8iLs"
      },
      "execution_count": null,
      "outputs": []
    },
    {
      "cell_type": "code",
      "source": [
        "df.head()"
      ],
      "metadata": {
        "colab": {
          "base_uri": "https://localhost:8080/",
          "height": 444
        },
        "id": "2jO6HqSB8QdI",
        "outputId": "dd751d3e-e018-4454-f6a3-8d6c82910704"
      },
      "execution_count": null,
      "outputs": [
        {
          "output_type": "execute_result",
          "data": {
            "text/html": [
              "\n",
              "  <div id=\"df-f83d0d8b-cad2-4b82-b922-8d9efecf0624\">\n",
              "    <div class=\"colab-df-container\">\n",
              "      <div>\n",
              "<style scoped>\n",
              "    .dataframe tbody tr th:only-of-type {\n",
              "        vertical-align: middle;\n",
              "    }\n",
              "\n",
              "    .dataframe tbody tr th {\n",
              "        vertical-align: top;\n",
              "    }\n",
              "\n",
              "    .dataframe thead th {\n",
              "        text-align: right;\n",
              "    }\n",
              "</style>\n",
              "<table border=\"1\" class=\"dataframe\">\n",
              "  <thead>\n",
              "    <tr style=\"text-align: right;\">\n",
              "      <th></th>\n",
              "      <th>activity_comment</th>\n",
              "      <th>activity_id</th>\n",
              "      <th>activity_properties</th>\n",
              "      <th>assay_chembl_id</th>\n",
              "      <th>assay_description</th>\n",
              "      <th>assay_type</th>\n",
              "      <th>assay_variant_accession</th>\n",
              "      <th>assay_variant_mutation</th>\n",
              "      <th>bao_endpoint</th>\n",
              "      <th>bao_format</th>\n",
              "      <th>bao_label</th>\n",
              "      <th>canonical_smiles</th>\n",
              "      <th>data_validity_comment</th>\n",
              "      <th>data_validity_description</th>\n",
              "      <th>document_chembl_id</th>\n",
              "      <th>document_journal</th>\n",
              "      <th>document_year</th>\n",
              "      <th>ligand_efficiency</th>\n",
              "      <th>molecule_chembl_id</th>\n",
              "      <th>molecule_pref_name</th>\n",
              "      <th>parent_molecule_chembl_id</th>\n",
              "      <th>pchembl_value</th>\n",
              "      <th>potential_duplicate</th>\n",
              "      <th>qudt_units</th>\n",
              "      <th>record_id</th>\n",
              "      <th>relation</th>\n",
              "      <th>src_id</th>\n",
              "      <th>standard_flag</th>\n",
              "      <th>standard_relation</th>\n",
              "      <th>standard_text_value</th>\n",
              "      <th>standard_type</th>\n",
              "      <th>standard_units</th>\n",
              "      <th>standard_upper_value</th>\n",
              "      <th>standard_value</th>\n",
              "      <th>target_chembl_id</th>\n",
              "      <th>target_organism</th>\n",
              "      <th>target_pref_name</th>\n",
              "      <th>target_tax_id</th>\n",
              "      <th>text_value</th>\n",
              "      <th>toid</th>\n",
              "      <th>type</th>\n",
              "      <th>units</th>\n",
              "      <th>uo_units</th>\n",
              "      <th>upper_value</th>\n",
              "      <th>value</th>\n",
              "    </tr>\n",
              "  </thead>\n",
              "  <tbody>\n",
              "    <tr>\n",
              "      <th>0</th>\n",
              "      <td>None</td>\n",
              "      <td>572148</td>\n",
              "      <td>[]</td>\n",
              "      <td>CHEMBL770281</td>\n",
              "      <td>Inhibition of Protein kinase Flt-3 at 10 uM</td>\n",
              "      <td>B</td>\n",
              "      <td>None</td>\n",
              "      <td>None</td>\n",
              "      <td>BAO_0000201</td>\n",
              "      <td>BAO_0000357</td>\n",
              "      <td>single protein format</td>\n",
              "      <td>O=C(O)Cc1c2ccccc2n2c1[nH]c(=O)c1ccccc12</td>\n",
              "      <td>None</td>\n",
              "      <td>None</td>\n",
              "      <td>CHEMBL1144893</td>\n",
              "      <td>J. Med. Chem.</td>\n",
              "      <td>2003.0</td>\n",
              "      <td>None</td>\n",
              "      <td>CHEMBL92361</td>\n",
              "      <td>None</td>\n",
              "      <td>CHEMBL92361</td>\n",
              "      <td>None</td>\n",
              "      <td>False</td>\n",
              "      <td>http://qudt.org/vocab/unit#Percent</td>\n",
              "      <td>163302</td>\n",
              "      <td>=</td>\n",
              "      <td>1</td>\n",
              "      <td>True</td>\n",
              "      <td>=</td>\n",
              "      <td>None</td>\n",
              "      <td>Inhibition</td>\n",
              "      <td>%</td>\n",
              "      <td>None</td>\n",
              "      <td>41.0</td>\n",
              "      <td>CHEMBL1974</td>\n",
              "      <td>Homo sapiens</td>\n",
              "      <td>Tyrosine-protein kinase receptor FLT3</td>\n",
              "      <td>9606</td>\n",
              "      <td>None</td>\n",
              "      <td>None</td>\n",
              "      <td>Inhibition</td>\n",
              "      <td>%</td>\n",
              "      <td>UO_0000187</td>\n",
              "      <td>None</td>\n",
              "      <td>41.0</td>\n",
              "    </tr>\n",
              "    <tr>\n",
              "      <th>1</th>\n",
              "      <td>None</td>\n",
              "      <td>866063</td>\n",
              "      <td>[]</td>\n",
              "      <td>CHEMBL766072</td>\n",
              "      <td>Inhibition of chimeric PDGF receptor with FLT-...</td>\n",
              "      <td>B</td>\n",
              "      <td>None</td>\n",
              "      <td>None</td>\n",
              "      <td>BAO_0000190</td>\n",
              "      <td>BAO_0000219</td>\n",
              "      <td>cell-based format</td>\n",
              "      <td>COc1cc2c(N3CCN(C(=O)Nc4ccc(OC(C)C)cc4)CC3)ncnc...</td>\n",
              "      <td>None</td>\n",
              "      <td>None</td>\n",
              "      <td>CHEMBL1135998</td>\n",
              "      <td>J. Med. Chem.</td>\n",
              "      <td>2002.0</td>\n",
              "      <td>{'bei': '11.95', 'le': '0.22', 'lle': '1.61', ...</td>\n",
              "      <td>CHEMBL330863</td>\n",
              "      <td>None</td>\n",
              "      <td>CHEMBL330863</td>\n",
              "      <td>6.89</td>\n",
              "      <td>False</td>\n",
              "      <td>http://www.openphacts.org/units/Nanomolar</td>\n",
              "      <td>237034</td>\n",
              "      <td>=</td>\n",
              "      <td>1</td>\n",
              "      <td>True</td>\n",
              "      <td>=</td>\n",
              "      <td>None</td>\n",
              "      <td>IC50</td>\n",
              "      <td>nM</td>\n",
              "      <td>None</td>\n",
              "      <td>128.0</td>\n",
              "      <td>CHEMBL1974</td>\n",
              "      <td>Homo sapiens</td>\n",
              "      <td>Tyrosine-protein kinase receptor FLT3</td>\n",
              "      <td>9606</td>\n",
              "      <td>None</td>\n",
              "      <td>None</td>\n",
              "      <td>IC50</td>\n",
              "      <td>uM</td>\n",
              "      <td>UO_0000065</td>\n",
              "      <td>None</td>\n",
              "      <td>0.128</td>\n",
              "    </tr>\n",
              "    <tr>\n",
              "      <th>2</th>\n",
              "      <td>None</td>\n",
              "      <td>872532</td>\n",
              "      <td>[]</td>\n",
              "      <td>CHEMBL766072</td>\n",
              "      <td>Inhibition of chimeric PDGF receptor with FLT-...</td>\n",
              "      <td>B</td>\n",
              "      <td>None</td>\n",
              "      <td>None</td>\n",
              "      <td>BAO_0000190</td>\n",
              "      <td>BAO_0000219</td>\n",
              "      <td>cell-based format</td>\n",
              "      <td>COc1cc2c(N3CCN(C(=O)Nc4ccc(OC(C)C)cc4)CC3)ncnc...</td>\n",
              "      <td>None</td>\n",
              "      <td>None</td>\n",
              "      <td>CHEMBL1135998</td>\n",
              "      <td>J. Med. Chem.</td>\n",
              "      <td>2002.0</td>\n",
              "      <td>{'bei': '11.83', 'le': '0.22', 'lle': '1.63', ...</td>\n",
              "      <td>CHEMBL124660</td>\n",
              "      <td>TANDUTINIB</td>\n",
              "      <td>CHEMBL124660</td>\n",
              "      <td>6.66</td>\n",
              "      <td>True</td>\n",
              "      <td>http://www.openphacts.org/units/Nanomolar</td>\n",
              "      <td>237044</td>\n",
              "      <td>=</td>\n",
              "      <td>1</td>\n",
              "      <td>True</td>\n",
              "      <td>=</td>\n",
              "      <td>None</td>\n",
              "      <td>IC50</td>\n",
              "      <td>nM</td>\n",
              "      <td>None</td>\n",
              "      <td>220.0</td>\n",
              "      <td>CHEMBL1974</td>\n",
              "      <td>Homo sapiens</td>\n",
              "      <td>Tyrosine-protein kinase receptor FLT3</td>\n",
              "      <td>9606</td>\n",
              "      <td>None</td>\n",
              "      <td>None</td>\n",
              "      <td>IC50</td>\n",
              "      <td>uM</td>\n",
              "      <td>UO_0000065</td>\n",
              "      <td>None</td>\n",
              "      <td>0.22</td>\n",
              "    </tr>\n",
              "    <tr>\n",
              "      <th>3</th>\n",
              "      <td>Active</td>\n",
              "      <td>872555</td>\n",
              "      <td>[]</td>\n",
              "      <td>CHEMBL679500</td>\n",
              "      <td>Inhibition of Flt3/ITD mutant expressed in hem...</td>\n",
              "      <td>F</td>\n",
              "      <td>None</td>\n",
              "      <td>None</td>\n",
              "      <td>BAO_0000376</td>\n",
              "      <td>BAO_0000219</td>\n",
              "      <td>cell-based format</td>\n",
              "      <td>COc1cc2c(N3CCN(C(=O)Nc4ccc(OC(C)C)cc4)CC3)ncnc...</td>\n",
              "      <td>None</td>\n",
              "      <td>None</td>\n",
              "      <td>CHEMBL1135998</td>\n",
              "      <td>J. Med. Chem.</td>\n",
              "      <td>2002.0</td>\n",
              "      <td>None</td>\n",
              "      <td>CHEMBL124660</td>\n",
              "      <td>TANDUTINIB</td>\n",
              "      <td>CHEMBL124660</td>\n",
              "      <td>None</td>\n",
              "      <td>False</td>\n",
              "      <td>None</td>\n",
              "      <td>237044</td>\n",
              "      <td>None</td>\n",
              "      <td>1</td>\n",
              "      <td>False</td>\n",
              "      <td>None</td>\n",
              "      <td>None</td>\n",
              "      <td>Inhibition</td>\n",
              "      <td>None</td>\n",
              "      <td>None</td>\n",
              "      <td>None</td>\n",
              "      <td>CHEMBL1974</td>\n",
              "      <td>Homo sapiens</td>\n",
              "      <td>Tyrosine-protein kinase receptor FLT3</td>\n",
              "      <td>9606</td>\n",
              "      <td>None</td>\n",
              "      <td>None</td>\n",
              "      <td>Inhibition</td>\n",
              "      <td>None</td>\n",
              "      <td>None</td>\n",
              "      <td>None</td>\n",
              "      <td>None</td>\n",
              "    </tr>\n",
              "    <tr>\n",
              "      <th>4</th>\n",
              "      <td>None</td>\n",
              "      <td>872564</td>\n",
              "      <td>[]</td>\n",
              "      <td>CHEMBL766072</td>\n",
              "      <td>Inhibition of chimeric PDGF receptor with FLT-...</td>\n",
              "      <td>B</td>\n",
              "      <td>None</td>\n",
              "      <td>None</td>\n",
              "      <td>BAO_0000190</td>\n",
              "      <td>BAO_0000219</td>\n",
              "      <td>cell-based format</td>\n",
              "      <td>COc1cc2c(N3CCN(C(=O)Nc4ccc(C#N)cc4)CC3)ncnc2cc...</td>\n",
              "      <td>None</td>\n",
              "      <td>None</td>\n",
              "      <td>CHEMBL1135998</td>\n",
              "      <td>J. Med. Chem.</td>\n",
              "      <td>2002.0</td>\n",
              "      <td>{'bei': '9.30', 'le': '0.17', 'lle': '0.55', '...</td>\n",
              "      <td>CHEMBL126699</td>\n",
              "      <td>None</td>\n",
              "      <td>CHEMBL126699</td>\n",
              "      <td>5.06</td>\n",
              "      <td>False</td>\n",
              "      <td>http://www.openphacts.org/units/Nanomolar</td>\n",
              "      <td>237033</td>\n",
              "      <td>=</td>\n",
              "      <td>1</td>\n",
              "      <td>True</td>\n",
              "      <td>=</td>\n",
              "      <td>None</td>\n",
              "      <td>IC50</td>\n",
              "      <td>nM</td>\n",
              "      <td>None</td>\n",
              "      <td>8790.0</td>\n",
              "      <td>CHEMBL1974</td>\n",
              "      <td>Homo sapiens</td>\n",
              "      <td>Tyrosine-protein kinase receptor FLT3</td>\n",
              "      <td>9606</td>\n",
              "      <td>None</td>\n",
              "      <td>None</td>\n",
              "      <td>IC50</td>\n",
              "      <td>uM</td>\n",
              "      <td>UO_0000065</td>\n",
              "      <td>None</td>\n",
              "      <td>8.79</td>\n",
              "    </tr>\n",
              "  </tbody>\n",
              "</table>\n",
              "</div>\n",
              "      <button class=\"colab-df-convert\" onclick=\"convertToInteractive('df-f83d0d8b-cad2-4b82-b922-8d9efecf0624')\"\n",
              "              title=\"Convert this dataframe to an interactive table.\"\n",
              "              style=\"display:none;\">\n",
              "        \n",
              "  <svg xmlns=\"http://www.w3.org/2000/svg\" height=\"24px\"viewBox=\"0 0 24 24\"\n",
              "       width=\"24px\">\n",
              "    <path d=\"M0 0h24v24H0V0z\" fill=\"none\"/>\n",
              "    <path d=\"M18.56 5.44l.94 2.06.94-2.06 2.06-.94-2.06-.94-.94-2.06-.94 2.06-2.06.94zm-11 1L8.5 8.5l.94-2.06 2.06-.94-2.06-.94L8.5 2.5l-.94 2.06-2.06.94zm10 10l.94 2.06.94-2.06 2.06-.94-2.06-.94-.94-2.06-.94 2.06-2.06.94z\"/><path d=\"M17.41 7.96l-1.37-1.37c-.4-.4-.92-.59-1.43-.59-.52 0-1.04.2-1.43.59L10.3 9.45l-7.72 7.72c-.78.78-.78 2.05 0 2.83L4 21.41c.39.39.9.59 1.41.59.51 0 1.02-.2 1.41-.59l7.78-7.78 2.81-2.81c.8-.78.8-2.07 0-2.86zM5.41 20L4 18.59l7.72-7.72 1.47 1.35L5.41 20z\"/>\n",
              "  </svg>\n",
              "      </button>\n",
              "      \n",
              "  <style>\n",
              "    .colab-df-container {\n",
              "      display:flex;\n",
              "      flex-wrap:wrap;\n",
              "      gap: 12px;\n",
              "    }\n",
              "\n",
              "    .colab-df-convert {\n",
              "      background-color: #E8F0FE;\n",
              "      border: none;\n",
              "      border-radius: 50%;\n",
              "      cursor: pointer;\n",
              "      display: none;\n",
              "      fill: #1967D2;\n",
              "      height: 32px;\n",
              "      padding: 0 0 0 0;\n",
              "      width: 32px;\n",
              "    }\n",
              "\n",
              "    .colab-df-convert:hover {\n",
              "      background-color: #E2EBFA;\n",
              "      box-shadow: 0px 1px 2px rgba(60, 64, 67, 0.3), 0px 1px 3px 1px rgba(60, 64, 67, 0.15);\n",
              "      fill: #174EA6;\n",
              "    }\n",
              "\n",
              "    [theme=dark] .colab-df-convert {\n",
              "      background-color: #3B4455;\n",
              "      fill: #D2E3FC;\n",
              "    }\n",
              "\n",
              "    [theme=dark] .colab-df-convert:hover {\n",
              "      background-color: #434B5C;\n",
              "      box-shadow: 0px 1px 3px 1px rgba(0, 0, 0, 0.15);\n",
              "      filter: drop-shadow(0px 1px 2px rgba(0, 0, 0, 0.3));\n",
              "      fill: #FFFFFF;\n",
              "    }\n",
              "  </style>\n",
              "\n",
              "      <script>\n",
              "        const buttonEl =\n",
              "          document.querySelector('#df-f83d0d8b-cad2-4b82-b922-8d9efecf0624 button.colab-df-convert');\n",
              "        buttonEl.style.display =\n",
              "          google.colab.kernel.accessAllowed ? 'block' : 'none';\n",
              "\n",
              "        async function convertToInteractive(key) {\n",
              "          const element = document.querySelector('#df-f83d0d8b-cad2-4b82-b922-8d9efecf0624');\n",
              "          const dataTable =\n",
              "            await google.colab.kernel.invokeFunction('convertToInteractive',\n",
              "                                                     [key], {});\n",
              "          if (!dataTable) return;\n",
              "\n",
              "          const docLinkHtml = 'Like what you see? Visit the ' +\n",
              "            '<a target=\"_blank\" href=https://colab.research.google.com/notebooks/data_table.ipynb>data table notebook</a>'\n",
              "            + ' to learn more about interactive tables.';\n",
              "          element.innerHTML = '';\n",
              "          dataTable['output_type'] = 'display_data';\n",
              "          await google.colab.output.renderOutput(dataTable, element);\n",
              "          const docLink = document.createElement('div');\n",
              "          docLink.innerHTML = docLinkHtml;\n",
              "          element.appendChild(docLink);\n",
              "        }\n",
              "      </script>\n",
              "    </div>\n",
              "  </div>\n",
              "  "
            ],
            "text/plain": [
              "  activity_comment  activity_id  ... upper_value  value\n",
              "0             None       572148  ...        None   41.0\n",
              "1             None       866063  ...        None  0.128\n",
              "2             None       872532  ...        None   0.22\n",
              "3           Active       872555  ...        None   None\n",
              "4             None       872564  ...        None   8.79\n",
              "\n",
              "[5 rows x 45 columns]"
            ]
          },
          "metadata": {},
          "execution_count": 8
        }
      ]
    },
    {
      "cell_type": "code",
      "source": [
        "df.info()"
      ],
      "metadata": {
        "colab": {
          "base_uri": "https://localhost:8080/"
        },
        "id": "N2vI8wG39MDd",
        "outputId": "1cfcf918-1529-4cfc-d121-d9ab996d198a"
      },
      "execution_count": null,
      "outputs": [
        {
          "output_type": "stream",
          "name": "stdout",
          "text": [
            "<class 'pandas.core.frame.DataFrame'>\n",
            "RangeIndex: 11694 entries, 0 to 11693\n",
            "Data columns (total 45 columns):\n",
            " #   Column                     Non-Null Count  Dtype  \n",
            "---  ------                     --------------  -----  \n",
            " 0   activity_comment           3137 non-null   object \n",
            " 1   activity_id                11694 non-null  int64  \n",
            " 2   activity_properties        11694 non-null  object \n",
            " 3   assay_chembl_id            11694 non-null  object \n",
            " 4   assay_description          11694 non-null  object \n",
            " 5   assay_type                 11694 non-null  object \n",
            " 6   assay_variant_accession    2544 non-null   object \n",
            " 7   assay_variant_mutation     3249 non-null   object \n",
            " 8   bao_endpoint               11694 non-null  object \n",
            " 9   bao_format                 11694 non-null  object \n",
            " 10  bao_label                  11694 non-null  object \n",
            " 11  canonical_smiles           11682 non-null  object \n",
            " 12  data_validity_comment      40 non-null     object \n",
            " 13  data_validity_description  40 non-null     object \n",
            " 14  document_chembl_id         11694 non-null  object \n",
            " 15  document_journal           6486 non-null   object \n",
            " 16  document_year              9225 non-null   float64\n",
            " 17  ligand_efficiency          3298 non-null   object \n",
            " 18  molecule_chembl_id         11694 non-null  object \n",
            " 19  molecule_pref_name         3914 non-null   object \n",
            " 20  parent_molecule_chembl_id  11694 non-null  object \n",
            " 21  pchembl_value              3741 non-null   object \n",
            " 22  potential_duplicate        11694 non-null  bool   \n",
            " 23  qudt_units                 11127 non-null  object \n",
            " 24  record_id                  11694 non-null  int64  \n",
            " 25  relation                   9982 non-null   object \n",
            " 26  src_id                     11694 non-null  int64  \n",
            " 27  standard_flag              11694 non-null  bool   \n",
            " 28  standard_relation          9982 non-null   object \n",
            " 29  standard_text_value        0 non-null      object \n",
            " 30  standard_type              11694 non-null  object \n",
            " 31  standard_units             11138 non-null  object \n",
            " 32  standard_upper_value       0 non-null      object \n",
            " 33  standard_value             11181 non-null  object \n",
            " 34  target_chembl_id           11694 non-null  object \n",
            " 35  target_organism            11694 non-null  object \n",
            " 36  target_pref_name           11694 non-null  object \n",
            " 37  target_tax_id              11694 non-null  object \n",
            " 38  text_value                 0 non-null      object \n",
            " 39  toid                       0 non-null      object \n",
            " 40  type                       11694 non-null  object \n",
            " 41  units                      8838 non-null   object \n",
            " 42  uo_units                   11127 non-null  object \n",
            " 43  upper_value                46 non-null     object \n",
            " 44  value                      11181 non-null  object \n",
            "dtypes: bool(2), float64(1), int64(3), object(39)\n",
            "memory usage: 3.9+ MB\n"
          ]
        }
      ]
    },
    {
      "cell_type": "code",
      "source": [
        "df.standard_type.unique()"
      ],
      "metadata": {
        "colab": {
          "base_uri": "https://localhost:8080/"
        },
        "id": "P9z7l-M-8fvV",
        "outputId": "b1b102b2-56ac-4562-cea9-dc2adb515bc6"
      },
      "execution_count": null,
      "outputs": [
        {
          "output_type": "execute_result",
          "data": {
            "text/plain": [
              "array(['Inhibition', 'IC50', 'Kd', 'Activity', 'Ki', 'EC50',\n",
              "       'Selectivity', 'Residual activity', 'Inihibition',\n",
              "       'Residual Activity', 'Ratio IC50', 'K', 'T1/2', 'GI50', 'INH',\n",
              "       'FC', 'Ratio', '% Control', '% residual kinase activity', '% Ctrl',\n",
              "       '% Residual activity with Skepinone-L'], dtype=object)"
            ]
          },
          "metadata": {},
          "execution_count": 10
        }
      ]
    },
    {
      "cell_type": "code",
      "source": [
        "# Only want the standard type reported as IC50 as this is unit type we will use to make the target categories.\n",
        "# IC 50 values are reported in the nM (Nanomolar) unit\n",
        "final_df = df.loc[df['standard_type'] == 'IC50']\n",
        "final_df['standard_type'].value_counts()"
      ],
      "metadata": {
        "id": "emTP9Xcv9FMz",
        "colab": {
          "base_uri": "https://localhost:8080/"
        },
        "outputId": "6029fab6-e1fd-4592-d5f3-bc629f9a4bd3"
      },
      "execution_count": null,
      "outputs": [
        {
          "output_type": "execute_result",
          "data": {
            "text/plain": [
              "IC50    4041\n",
              "Name: standard_type, dtype: int64"
            ]
          },
          "metadata": {},
          "execution_count": 13
        }
      ]
    },
    {
      "cell_type": "code",
      "source": [
        "final_df.to_csv('TKR_Bioactivity_Data.csv')"
      ],
      "metadata": {
        "id": "hYefRGkr_Qae"
      },
      "execution_count": null,
      "outputs": []
    },
    {
      "cell_type": "markdown",
      "source": [
        "## **Putting Files into Google Drive**"
      ],
      "metadata": {
        "id": "WKWl9n_jOHTd"
      }
    },
    {
      "cell_type": "code",
      "source": [
        "from google.colab import drive\n",
        "drive.mount('/content/gdrive/', force_remount=True)"
      ],
      "metadata": {
        "id": "Q-96ROO1_tXU",
        "colab": {
          "base_uri": "https://localhost:8080/"
        },
        "outputId": "aee5fc1f-346f-4736-8c28-8fd32bd148f1"
      },
      "execution_count": null,
      "outputs": [
        {
          "output_type": "stream",
          "name": "stdout",
          "text": [
            "Mounted at /content/gdrive/\n"
          ]
        }
      ]
    },
    {
      "cell_type": "code",
      "source": [
        "! mkdir \"/content/gdrive/My Drive/Colab Notebooks/data\""
      ],
      "metadata": {
        "id": "INM7qHKDOjfp",
        "colab": {
          "base_uri": "https://localhost:8080/"
        },
        "outputId": "11289822-dc62-40f9-b19a-225622fd5872"
      },
      "execution_count": null,
      "outputs": [
        {
          "output_type": "stream",
          "name": "stdout",
          "text": [
            "mkdir: cannot create directory ‘/content/gdrive/My Drive/Colab Notebooks/data’: File exists\n"
          ]
        }
      ]
    },
    {
      "cell_type": "code",
      "source": [
        "! cp TKR_Bioactivity_Data.csv \"/content/gdrive/My Drive/Colab Notebooks/data\""
      ],
      "metadata": {
        "id": "n4anAkHZOzSA",
        "colab": {
          "base_uri": "https://localhost:8080/"
        },
        "outputId": "763a0e3c-03fc-4655-d2e5-1cf2c38ae6bf"
      },
      "execution_count": null,
      "outputs": [
        {
          "output_type": "stream",
          "name": "stdout",
          "text": [
            "cp: cannot stat 'TKR_Bioactivity_Data.csv': No such file or directory\n"
          ]
        }
      ]
    },
    {
      "cell_type": "code",
      "source": [
        "! ls -l \"/content/gdrive/My Drive/Colab Notebooks/data\""
      ],
      "metadata": {
        "colab": {
          "base_uri": "https://localhost:8080/"
        },
        "id": "LI3lrFpqPNBa",
        "outputId": "f3203520-8738-4066-db0b-9f6629f33ca4"
      },
      "execution_count": null,
      "outputs": [
        {
          "output_type": "stream",
          "name": "stdout",
          "text": [
            "total 2311\n",
            "-rw------- 1 root root 2366105 Feb 15 21:15 TKR_Bioactivity_Data.csv\n"
          ]
        }
      ]
    },
    {
      "cell_type": "code",
      "source": [
        "final_df = pd.read_csv(\"/content/gdrive/My Drive/Colab Notebooks/data/TKR_Bioactivity_Data.csv\")"
      ],
      "metadata": {
        "id": "WO_06YRtSX41"
      },
      "execution_count": null,
      "outputs": []
    },
    {
      "cell_type": "markdown",
      "source": [
        "## **Missing Data Manipulation**"
      ],
      "metadata": {
        "id": "ryeQieciRMrn"
      }
    },
    {
      "cell_type": "code",
      "source": [
        "# Need to drop rows which have no value for standard value, since this will be the target\n",
        "final_df2 = final_df[final_df.standard_value.notna()]\n",
        "final_df2"
      ],
      "metadata": {
        "colab": {
          "base_uri": "https://localhost:8080/",
          "height": 852
        },
        "id": "xlN_hJtRPkRa",
        "outputId": "4f53f228-7c3e-4b87-93a1-26a8c89b2fa2"
      },
      "execution_count": null,
      "outputs": [
        {
          "output_type": "execute_result",
          "data": {
            "text/html": [
              "\n",
              "  <div id=\"df-bb3aa839-cfe1-4208-950b-91988faf9394\">\n",
              "    <div class=\"colab-df-container\">\n",
              "      <div>\n",
              "<style scoped>\n",
              "    .dataframe tbody tr th:only-of-type {\n",
              "        vertical-align: middle;\n",
              "    }\n",
              "\n",
              "    .dataframe tbody tr th {\n",
              "        vertical-align: top;\n",
              "    }\n",
              "\n",
              "    .dataframe thead th {\n",
              "        text-align: right;\n",
              "    }\n",
              "</style>\n",
              "<table border=\"1\" class=\"dataframe\">\n",
              "  <thead>\n",
              "    <tr style=\"text-align: right;\">\n",
              "      <th></th>\n",
              "      <th>Unnamed: 0</th>\n",
              "      <th>activity_comment</th>\n",
              "      <th>activity_id</th>\n",
              "      <th>activity_properties</th>\n",
              "      <th>assay_chembl_id</th>\n",
              "      <th>assay_description</th>\n",
              "      <th>assay_type</th>\n",
              "      <th>assay_variant_accession</th>\n",
              "      <th>assay_variant_mutation</th>\n",
              "      <th>bao_endpoint</th>\n",
              "      <th>bao_format</th>\n",
              "      <th>bao_label</th>\n",
              "      <th>canonical_smiles</th>\n",
              "      <th>data_validity_comment</th>\n",
              "      <th>data_validity_description</th>\n",
              "      <th>document_chembl_id</th>\n",
              "      <th>document_journal</th>\n",
              "      <th>document_year</th>\n",
              "      <th>ligand_efficiency</th>\n",
              "      <th>molecule_chembl_id</th>\n",
              "      <th>molecule_pref_name</th>\n",
              "      <th>parent_molecule_chembl_id</th>\n",
              "      <th>pchembl_value</th>\n",
              "      <th>potential_duplicate</th>\n",
              "      <th>qudt_units</th>\n",
              "      <th>record_id</th>\n",
              "      <th>relation</th>\n",
              "      <th>src_id</th>\n",
              "      <th>standard_flag</th>\n",
              "      <th>standard_relation</th>\n",
              "      <th>standard_text_value</th>\n",
              "      <th>standard_type</th>\n",
              "      <th>standard_units</th>\n",
              "      <th>standard_upper_value</th>\n",
              "      <th>standard_value</th>\n",
              "      <th>target_chembl_id</th>\n",
              "      <th>target_organism</th>\n",
              "      <th>target_pref_name</th>\n",
              "      <th>target_tax_id</th>\n",
              "      <th>text_value</th>\n",
              "      <th>toid</th>\n",
              "      <th>type</th>\n",
              "      <th>units</th>\n",
              "      <th>uo_units</th>\n",
              "      <th>upper_value</th>\n",
              "      <th>value</th>\n",
              "    </tr>\n",
              "  </thead>\n",
              "  <tbody>\n",
              "    <tr>\n",
              "      <th>0</th>\n",
              "      <td>1</td>\n",
              "      <td>NaN</td>\n",
              "      <td>866063</td>\n",
              "      <td>[]</td>\n",
              "      <td>CHEMBL766072</td>\n",
              "      <td>Inhibition of chimeric PDGF receptor with FLT-...</td>\n",
              "      <td>B</td>\n",
              "      <td>NaN</td>\n",
              "      <td>NaN</td>\n",
              "      <td>BAO_0000190</td>\n",
              "      <td>BAO_0000219</td>\n",
              "      <td>cell-based format</td>\n",
              "      <td>COc1cc2c(N3CCN(C(=O)Nc4ccc(OC(C)C)cc4)CC3)ncnc...</td>\n",
              "      <td>NaN</td>\n",
              "      <td>NaN</td>\n",
              "      <td>CHEMBL1135998</td>\n",
              "      <td>J. Med. Chem.</td>\n",
              "      <td>2002.0</td>\n",
              "      <td>{'bei': '11.95', 'le': '0.22', 'lle': '1.61', ...</td>\n",
              "      <td>CHEMBL330863</td>\n",
              "      <td>NaN</td>\n",
              "      <td>CHEMBL330863</td>\n",
              "      <td>6.89</td>\n",
              "      <td>False</td>\n",
              "      <td>http://www.openphacts.org/units/Nanomolar</td>\n",
              "      <td>237034</td>\n",
              "      <td>=</td>\n",
              "      <td>1</td>\n",
              "      <td>True</td>\n",
              "      <td>=</td>\n",
              "      <td>NaN</td>\n",
              "      <td>IC50</td>\n",
              "      <td>nM</td>\n",
              "      <td>NaN</td>\n",
              "      <td>128.0</td>\n",
              "      <td>CHEMBL1974</td>\n",
              "      <td>Homo sapiens</td>\n",
              "      <td>Tyrosine-protein kinase receptor FLT3</td>\n",
              "      <td>9606</td>\n",
              "      <td>NaN</td>\n",
              "      <td>NaN</td>\n",
              "      <td>IC50</td>\n",
              "      <td>uM</td>\n",
              "      <td>UO_0000065</td>\n",
              "      <td>NaN</td>\n",
              "      <td>0.128</td>\n",
              "    </tr>\n",
              "    <tr>\n",
              "      <th>1</th>\n",
              "      <td>2</td>\n",
              "      <td>NaN</td>\n",
              "      <td>872532</td>\n",
              "      <td>[]</td>\n",
              "      <td>CHEMBL766072</td>\n",
              "      <td>Inhibition of chimeric PDGF receptor with FLT-...</td>\n",
              "      <td>B</td>\n",
              "      <td>NaN</td>\n",
              "      <td>NaN</td>\n",
              "      <td>BAO_0000190</td>\n",
              "      <td>BAO_0000219</td>\n",
              "      <td>cell-based format</td>\n",
              "      <td>COc1cc2c(N3CCN(C(=O)Nc4ccc(OC(C)C)cc4)CC3)ncnc...</td>\n",
              "      <td>NaN</td>\n",
              "      <td>NaN</td>\n",
              "      <td>CHEMBL1135998</td>\n",
              "      <td>J. Med. Chem.</td>\n",
              "      <td>2002.0</td>\n",
              "      <td>{'bei': '11.83', 'le': '0.22', 'lle': '1.63', ...</td>\n",
              "      <td>CHEMBL124660</td>\n",
              "      <td>TANDUTINIB</td>\n",
              "      <td>CHEMBL124660</td>\n",
              "      <td>6.66</td>\n",
              "      <td>True</td>\n",
              "      <td>http://www.openphacts.org/units/Nanomolar</td>\n",
              "      <td>237044</td>\n",
              "      <td>=</td>\n",
              "      <td>1</td>\n",
              "      <td>True</td>\n",
              "      <td>=</td>\n",
              "      <td>NaN</td>\n",
              "      <td>IC50</td>\n",
              "      <td>nM</td>\n",
              "      <td>NaN</td>\n",
              "      <td>220.0</td>\n",
              "      <td>CHEMBL1974</td>\n",
              "      <td>Homo sapiens</td>\n",
              "      <td>Tyrosine-protein kinase receptor FLT3</td>\n",
              "      <td>9606</td>\n",
              "      <td>NaN</td>\n",
              "      <td>NaN</td>\n",
              "      <td>IC50</td>\n",
              "      <td>uM</td>\n",
              "      <td>UO_0000065</td>\n",
              "      <td>NaN</td>\n",
              "      <td>0.220</td>\n",
              "    </tr>\n",
              "    <tr>\n",
              "      <th>2</th>\n",
              "      <td>4</td>\n",
              "      <td>NaN</td>\n",
              "      <td>872564</td>\n",
              "      <td>[]</td>\n",
              "      <td>CHEMBL766072</td>\n",
              "      <td>Inhibition of chimeric PDGF receptor with FLT-...</td>\n",
              "      <td>B</td>\n",
              "      <td>NaN</td>\n",
              "      <td>NaN</td>\n",
              "      <td>BAO_0000190</td>\n",
              "      <td>BAO_0000219</td>\n",
              "      <td>cell-based format</td>\n",
              "      <td>COc1cc2c(N3CCN(C(=O)Nc4ccc(C#N)cc4)CC3)ncnc2cc...</td>\n",
              "      <td>NaN</td>\n",
              "      <td>NaN</td>\n",
              "      <td>CHEMBL1135998</td>\n",
              "      <td>J. Med. Chem.</td>\n",
              "      <td>2002.0</td>\n",
              "      <td>{'bei': '9.30', 'le': '0.17', 'lle': '0.55', '...</td>\n",
              "      <td>CHEMBL126699</td>\n",
              "      <td>NaN</td>\n",
              "      <td>CHEMBL126699</td>\n",
              "      <td>5.06</td>\n",
              "      <td>False</td>\n",
              "      <td>http://www.openphacts.org/units/Nanomolar</td>\n",
              "      <td>237033</td>\n",
              "      <td>=</td>\n",
              "      <td>1</td>\n",
              "      <td>True</td>\n",
              "      <td>=</td>\n",
              "      <td>NaN</td>\n",
              "      <td>IC50</td>\n",
              "      <td>nM</td>\n",
              "      <td>NaN</td>\n",
              "      <td>8790.0</td>\n",
              "      <td>CHEMBL1974</td>\n",
              "      <td>Homo sapiens</td>\n",
              "      <td>Tyrosine-protein kinase receptor FLT3</td>\n",
              "      <td>9606</td>\n",
              "      <td>NaN</td>\n",
              "      <td>NaN</td>\n",
              "      <td>IC50</td>\n",
              "      <td>uM</td>\n",
              "      <td>UO_0000065</td>\n",
              "      <td>NaN</td>\n",
              "      <td>8.790</td>\n",
              "    </tr>\n",
              "    <tr>\n",
              "      <th>3</th>\n",
              "      <td>5</td>\n",
              "      <td>NaN</td>\n",
              "      <td>879718</td>\n",
              "      <td>[]</td>\n",
              "      <td>CHEMBL766072</td>\n",
              "      <td>Inhibition of chimeric PDGF receptor with FLT-...</td>\n",
              "      <td>B</td>\n",
              "      <td>NaN</td>\n",
              "      <td>NaN</td>\n",
              "      <td>BAO_0000190</td>\n",
              "      <td>BAO_0000219</td>\n",
              "      <td>cell-based format</td>\n",
              "      <td>COc1cc2c(N3CCN(C(=O)Nc4ccc(C#N)cc4)CC3)ncnc2cc...</td>\n",
              "      <td>NaN</td>\n",
              "      <td>NaN</td>\n",
              "      <td>CHEMBL1135998</td>\n",
              "      <td>J. Med. Chem.</td>\n",
              "      <td>2002.0</td>\n",
              "      <td>{'bei': '10.52', 'le': '0.20', 'lle': '1.36', ...</td>\n",
              "      <td>CHEMBL445636</td>\n",
              "      <td>NaN</td>\n",
              "      <td>CHEMBL445636</td>\n",
              "      <td>5.72</td>\n",
              "      <td>False</td>\n",
              "      <td>http://www.openphacts.org/units/Nanomolar</td>\n",
              "      <td>237035</td>\n",
              "      <td>=</td>\n",
              "      <td>1</td>\n",
              "      <td>True</td>\n",
              "      <td>=</td>\n",
              "      <td>NaN</td>\n",
              "      <td>IC50</td>\n",
              "      <td>nM</td>\n",
              "      <td>NaN</td>\n",
              "      <td>1910.0</td>\n",
              "      <td>CHEMBL1974</td>\n",
              "      <td>Homo sapiens</td>\n",
              "      <td>Tyrosine-protein kinase receptor FLT3</td>\n",
              "      <td>9606</td>\n",
              "      <td>NaN</td>\n",
              "      <td>NaN</td>\n",
              "      <td>IC50</td>\n",
              "      <td>uM</td>\n",
              "      <td>UO_0000065</td>\n",
              "      <td>NaN</td>\n",
              "      <td>1.910</td>\n",
              "    </tr>\n",
              "    <tr>\n",
              "      <th>4</th>\n",
              "      <td>6</td>\n",
              "      <td>NaN</td>\n",
              "      <td>884645</td>\n",
              "      <td>[]</td>\n",
              "      <td>CHEMBL766072</td>\n",
              "      <td>Inhibition of chimeric PDGF receptor with FLT-...</td>\n",
              "      <td>B</td>\n",
              "      <td>NaN</td>\n",
              "      <td>NaN</td>\n",
              "      <td>BAO_0000190</td>\n",
              "      <td>BAO_0000219</td>\n",
              "      <td>cell-based format</td>\n",
              "      <td>Cc1ccc(NC(=O)c2ccc(CN3CCN(C)CC3)cc2)cc1Nc1nccc...</td>\n",
              "      <td>NaN</td>\n",
              "      <td>NaN</td>\n",
              "      <td>CHEMBL1135998</td>\n",
              "      <td>J. Med. Chem.</td>\n",
              "      <td>2002.0</td>\n",
              "      <td>NaN</td>\n",
              "      <td>CHEMBL941</td>\n",
              "      <td>IMATINIB</td>\n",
              "      <td>CHEMBL941</td>\n",
              "      <td>NaN</td>\n",
              "      <td>False</td>\n",
              "      <td>http://www.openphacts.org/units/Nanomolar</td>\n",
              "      <td>237053</td>\n",
              "      <td>&gt;</td>\n",
              "      <td>1</td>\n",
              "      <td>True</td>\n",
              "      <td>&gt;</td>\n",
              "      <td>NaN</td>\n",
              "      <td>IC50</td>\n",
              "      <td>nM</td>\n",
              "      <td>NaN</td>\n",
              "      <td>30000.0</td>\n",
              "      <td>CHEMBL1974</td>\n",
              "      <td>Homo sapiens</td>\n",
              "      <td>Tyrosine-protein kinase receptor FLT3</td>\n",
              "      <td>9606</td>\n",
              "      <td>NaN</td>\n",
              "      <td>NaN</td>\n",
              "      <td>IC50</td>\n",
              "      <td>uM</td>\n",
              "      <td>UO_0000065</td>\n",
              "      <td>NaN</td>\n",
              "      <td>30.000</td>\n",
              "    </tr>\n",
              "    <tr>\n",
              "      <th>...</th>\n",
              "      <td>...</td>\n",
              "      <td>...</td>\n",
              "      <td>...</td>\n",
              "      <td>...</td>\n",
              "      <td>...</td>\n",
              "      <td>...</td>\n",
              "      <td>...</td>\n",
              "      <td>...</td>\n",
              "      <td>...</td>\n",
              "      <td>...</td>\n",
              "      <td>...</td>\n",
              "      <td>...</td>\n",
              "      <td>...</td>\n",
              "      <td>...</td>\n",
              "      <td>...</td>\n",
              "      <td>...</td>\n",
              "      <td>...</td>\n",
              "      <td>...</td>\n",
              "      <td>...</td>\n",
              "      <td>...</td>\n",
              "      <td>...</td>\n",
              "      <td>...</td>\n",
              "      <td>...</td>\n",
              "      <td>...</td>\n",
              "      <td>...</td>\n",
              "      <td>...</td>\n",
              "      <td>...</td>\n",
              "      <td>...</td>\n",
              "      <td>...</td>\n",
              "      <td>...</td>\n",
              "      <td>...</td>\n",
              "      <td>...</td>\n",
              "      <td>...</td>\n",
              "      <td>...</td>\n",
              "      <td>...</td>\n",
              "      <td>...</td>\n",
              "      <td>...</td>\n",
              "      <td>...</td>\n",
              "      <td>...</td>\n",
              "      <td>...</td>\n",
              "      <td>...</td>\n",
              "      <td>...</td>\n",
              "      <td>...</td>\n",
              "      <td>...</td>\n",
              "      <td>...</td>\n",
              "      <td>...</td>\n",
              "    </tr>\n",
              "    <tr>\n",
              "      <th>4036</th>\n",
              "      <td>10889</td>\n",
              "      <td>Not Active</td>\n",
              "      <td>20739016</td>\n",
              "      <td>[]</td>\n",
              "      <td>CHEMBL4511057</td>\n",
              "      <td>NanoBRET (SGC Frankfurt) (FLT3)</td>\n",
              "      <td>B</td>\n",
              "      <td>NaN</td>\n",
              "      <td>NaN</td>\n",
              "      <td>BAO_0000190</td>\n",
              "      <td>BAO_0000357</td>\n",
              "      <td>single protein format</td>\n",
              "      <td>CN1CCN(C(=O)C(C)(C)c2ccc(C(=O)Nc3cn4cc(-c5cc(C...</td>\n",
              "      <td>Non standard unit for type</td>\n",
              "      <td>Units for this activity type are unusual and m...</td>\n",
              "      <td>CHEMBL4507307</td>\n",
              "      <td>NaN</td>\n",
              "      <td>2021.0</td>\n",
              "      <td>NaN</td>\n",
              "      <td>CHEMBL4576555</td>\n",
              "      <td>T3-CLK-N</td>\n",
              "      <td>CHEMBL4576555</td>\n",
              "      <td>NaN</td>\n",
              "      <td>False</td>\n",
              "      <td>NaN</td>\n",
              "      <td>3359744</td>\n",
              "      <td>&gt;</td>\n",
              "      <td>54</td>\n",
              "      <td>False</td>\n",
              "      <td>&gt;</td>\n",
              "      <td>NaN</td>\n",
              "      <td>IC50</td>\n",
              "      <td>µM</td>\n",
              "      <td>NaN</td>\n",
              "      <td>10.0</td>\n",
              "      <td>CHEMBL1974</td>\n",
              "      <td>Homo sapiens</td>\n",
              "      <td>Tyrosine-protein kinase receptor FLT3</td>\n",
              "      <td>9606</td>\n",
              "      <td>NaN</td>\n",
              "      <td>NaN</td>\n",
              "      <td>IC50</td>\n",
              "      <td>µM</td>\n",
              "      <td>NaN</td>\n",
              "      <td>NaN</td>\n",
              "      <td>10.000</td>\n",
              "    </tr>\n",
              "    <tr>\n",
              "      <th>4037</th>\n",
              "      <td>10890</td>\n",
              "      <td>Not Active</td>\n",
              "      <td>20739017</td>\n",
              "      <td>[]</td>\n",
              "      <td>CHEMBL4511058</td>\n",
              "      <td>NanoBRET (SGC Frankfurt) (FLT3 (D835V))</td>\n",
              "      <td>B</td>\n",
              "      <td>P36888</td>\n",
              "      <td>D835V</td>\n",
              "      <td>BAO_0000190</td>\n",
              "      <td>BAO_0000357</td>\n",
              "      <td>single protein format</td>\n",
              "      <td>CN1CCN(C(=O)C(C)(C)c2ccc(C(=O)Nc3cn4cc(-c5cc(C...</td>\n",
              "      <td>Non standard unit for type</td>\n",
              "      <td>Units for this activity type are unusual and m...</td>\n",
              "      <td>CHEMBL4507307</td>\n",
              "      <td>NaN</td>\n",
              "      <td>2021.0</td>\n",
              "      <td>NaN</td>\n",
              "      <td>CHEMBL4576555</td>\n",
              "      <td>T3-CLK-N</td>\n",
              "      <td>CHEMBL4576555</td>\n",
              "      <td>NaN</td>\n",
              "      <td>False</td>\n",
              "      <td>NaN</td>\n",
              "      <td>3359744</td>\n",
              "      <td>&gt;</td>\n",
              "      <td>54</td>\n",
              "      <td>False</td>\n",
              "      <td>&gt;</td>\n",
              "      <td>NaN</td>\n",
              "      <td>IC50</td>\n",
              "      <td>µM</td>\n",
              "      <td>NaN</td>\n",
              "      <td>10.0</td>\n",
              "      <td>CHEMBL1974</td>\n",
              "      <td>Homo sapiens</td>\n",
              "      <td>Tyrosine-protein kinase receptor FLT3</td>\n",
              "      <td>9606</td>\n",
              "      <td>NaN</td>\n",
              "      <td>NaN</td>\n",
              "      <td>IC50</td>\n",
              "      <td>µM</td>\n",
              "      <td>NaN</td>\n",
              "      <td>NaN</td>\n",
              "      <td>10.000</td>\n",
              "    </tr>\n",
              "    <tr>\n",
              "      <th>4038</th>\n",
              "      <td>11350</td>\n",
              "      <td>NaN</td>\n",
              "      <td>20764823</td>\n",
              "      <td>[{'comments': None, 'relation': None, 'result_...</td>\n",
              "      <td>CHEMBL4512236</td>\n",
              "      <td>FLT3(FLT3MGE1) Takeda global kinase panel</td>\n",
              "      <td>B</td>\n",
              "      <td>NaN</td>\n",
              "      <td>NaN</td>\n",
              "      <td>BAO_0000190</td>\n",
              "      <td>BAO_0000357</td>\n",
              "      <td>single protein format</td>\n",
              "      <td>CN1C(=O)[C@@H](N2CCc3c(nn(Cc4ccccc4)c3Br)C2=O)...</td>\n",
              "      <td>NaN</td>\n",
              "      <td>NaN</td>\n",
              "      <td>CHEMBL4507326</td>\n",
              "      <td>NaN</td>\n",
              "      <td>2021.0</td>\n",
              "      <td>NaN</td>\n",
              "      <td>CHEMBL4549667</td>\n",
              "      <td>TP-030-2</td>\n",
              "      <td>CHEMBL4549667</td>\n",
              "      <td>NaN</td>\n",
              "      <td>False</td>\n",
              "      <td>http://www.openphacts.org/units/Nanomolar</td>\n",
              "      <td>3359780</td>\n",
              "      <td>NaN</td>\n",
              "      <td>54</td>\n",
              "      <td>True</td>\n",
              "      <td>NaN</td>\n",
              "      <td>NaN</td>\n",
              "      <td>IC50</td>\n",
              "      <td>nM</td>\n",
              "      <td>NaN</td>\n",
              "      <td>1000.0</td>\n",
              "      <td>CHEMBL1974</td>\n",
              "      <td>Homo sapiens</td>\n",
              "      <td>Tyrosine-protein kinase receptor FLT3</td>\n",
              "      <td>9606</td>\n",
              "      <td>NaN</td>\n",
              "      <td>NaN</td>\n",
              "      <td>pIC50</td>\n",
              "      <td>NaN</td>\n",
              "      <td>UO_0000065</td>\n",
              "      <td>NaN</td>\n",
              "      <td>6.000</td>\n",
              "    </tr>\n",
              "    <tr>\n",
              "      <th>4039</th>\n",
              "      <td>11351</td>\n",
              "      <td>NaN</td>\n",
              "      <td>20765184</td>\n",
              "      <td>[{'comments': None, 'relation': None, 'result_...</td>\n",
              "      <td>CHEMBL4512810</td>\n",
              "      <td>FLT3(FLT3MGE1) Takeda global kinase panel</td>\n",
              "      <td>B</td>\n",
              "      <td>NaN</td>\n",
              "      <td>NaN</td>\n",
              "      <td>BAO_0000190</td>\n",
              "      <td>BAO_0000357</td>\n",
              "      <td>single protein format</td>\n",
              "      <td>CN1C(=O)[C@@H](N2CCc3cn(CC4CCS(=O)(=O)CC4)nc3C...</td>\n",
              "      <td>NaN</td>\n",
              "      <td>NaN</td>\n",
              "      <td>CHEMBL4507327</td>\n",
              "      <td>NaN</td>\n",
              "      <td>2021.0</td>\n",
              "      <td>NaN</td>\n",
              "      <td>CHEMBL4097778</td>\n",
              "      <td>TP-030n</td>\n",
              "      <td>CHEMBL4097778</td>\n",
              "      <td>NaN</td>\n",
              "      <td>False</td>\n",
              "      <td>http://www.openphacts.org/units/Nanomolar</td>\n",
              "      <td>3489319</td>\n",
              "      <td>NaN</td>\n",
              "      <td>54</td>\n",
              "      <td>True</td>\n",
              "      <td>NaN</td>\n",
              "      <td>NaN</td>\n",
              "      <td>IC50</td>\n",
              "      <td>nM</td>\n",
              "      <td>NaN</td>\n",
              "      <td>1000.0</td>\n",
              "      <td>CHEMBL1974</td>\n",
              "      <td>Homo sapiens</td>\n",
              "      <td>Tyrosine-protein kinase receptor FLT3</td>\n",
              "      <td>9606</td>\n",
              "      <td>NaN</td>\n",
              "      <td>NaN</td>\n",
              "      <td>pIC50</td>\n",
              "      <td>NaN</td>\n",
              "      <td>UO_0000065</td>\n",
              "      <td>NaN</td>\n",
              "      <td>6.000</td>\n",
              "    </tr>\n",
              "    <tr>\n",
              "      <th>4040</th>\n",
              "      <td>11352</td>\n",
              "      <td>Active</td>\n",
              "      <td>20765489</td>\n",
              "      <td>[]</td>\n",
              "      <td>CHEMBL4512083</td>\n",
              "      <td>Kinase panel</td>\n",
              "      <td>B</td>\n",
              "      <td>NaN</td>\n",
              "      <td>NaN</td>\n",
              "      <td>BAO_0000190</td>\n",
              "      <td>BAO_0000357</td>\n",
              "      <td>single protein format</td>\n",
              "      <td>CO[C@@H](C)c1c(Nc2ccc([C@H](N(C)C(=O)C3CCS(=O)...</td>\n",
              "      <td>Non standard unit for type</td>\n",
              "      <td>Units for this activity type are unusual and m...</td>\n",
              "      <td>CHEMBL4507320</td>\n",
              "      <td>NaN</td>\n",
              "      <td>2021.0</td>\n",
              "      <td>NaN</td>\n",
              "      <td>CHEMBL4568735</td>\n",
              "      <td>NVS-MALT1</td>\n",
              "      <td>CHEMBL4568735</td>\n",
              "      <td>NaN</td>\n",
              "      <td>False</td>\n",
              "      <td>NaN</td>\n",
              "      <td>3359768</td>\n",
              "      <td>NaN</td>\n",
              "      <td>54</td>\n",
              "      <td>False</td>\n",
              "      <td>NaN</td>\n",
              "      <td>NaN</td>\n",
              "      <td>IC50</td>\n",
              "      <td>µM</td>\n",
              "      <td>NaN</td>\n",
              "      <td>3.5</td>\n",
              "      <td>CHEMBL1974</td>\n",
              "      <td>Homo sapiens</td>\n",
              "      <td>Tyrosine-protein kinase receptor FLT3</td>\n",
              "      <td>9606</td>\n",
              "      <td>NaN</td>\n",
              "      <td>NaN</td>\n",
              "      <td>IC50</td>\n",
              "      <td>µM</td>\n",
              "      <td>NaN</td>\n",
              "      <td>NaN</td>\n",
              "      <td>3.500</td>\n",
              "    </tr>\n",
              "  </tbody>\n",
              "</table>\n",
              "<p>3943 rows × 46 columns</p>\n",
              "</div>\n",
              "      <button class=\"colab-df-convert\" onclick=\"convertToInteractive('df-bb3aa839-cfe1-4208-950b-91988faf9394')\"\n",
              "              title=\"Convert this dataframe to an interactive table.\"\n",
              "              style=\"display:none;\">\n",
              "        \n",
              "  <svg xmlns=\"http://www.w3.org/2000/svg\" height=\"24px\"viewBox=\"0 0 24 24\"\n",
              "       width=\"24px\">\n",
              "    <path d=\"M0 0h24v24H0V0z\" fill=\"none\"/>\n",
              "    <path d=\"M18.56 5.44l.94 2.06.94-2.06 2.06-.94-2.06-.94-.94-2.06-.94 2.06-2.06.94zm-11 1L8.5 8.5l.94-2.06 2.06-.94-2.06-.94L8.5 2.5l-.94 2.06-2.06.94zm10 10l.94 2.06.94-2.06 2.06-.94-2.06-.94-.94-2.06-.94 2.06-2.06.94z\"/><path d=\"M17.41 7.96l-1.37-1.37c-.4-.4-.92-.59-1.43-.59-.52 0-1.04.2-1.43.59L10.3 9.45l-7.72 7.72c-.78.78-.78 2.05 0 2.83L4 21.41c.39.39.9.59 1.41.59.51 0 1.02-.2 1.41-.59l7.78-7.78 2.81-2.81c.8-.78.8-2.07 0-2.86zM5.41 20L4 18.59l7.72-7.72 1.47 1.35L5.41 20z\"/>\n",
              "  </svg>\n",
              "      </button>\n",
              "      \n",
              "  <style>\n",
              "    .colab-df-container {\n",
              "      display:flex;\n",
              "      flex-wrap:wrap;\n",
              "      gap: 12px;\n",
              "    }\n",
              "\n",
              "    .colab-df-convert {\n",
              "      background-color: #E8F0FE;\n",
              "      border: none;\n",
              "      border-radius: 50%;\n",
              "      cursor: pointer;\n",
              "      display: none;\n",
              "      fill: #1967D2;\n",
              "      height: 32px;\n",
              "      padding: 0 0 0 0;\n",
              "      width: 32px;\n",
              "    }\n",
              "\n",
              "    .colab-df-convert:hover {\n",
              "      background-color: #E2EBFA;\n",
              "      box-shadow: 0px 1px 2px rgba(60, 64, 67, 0.3), 0px 1px 3px 1px rgba(60, 64, 67, 0.15);\n",
              "      fill: #174EA6;\n",
              "    }\n",
              "\n",
              "    [theme=dark] .colab-df-convert {\n",
              "      background-color: #3B4455;\n",
              "      fill: #D2E3FC;\n",
              "    }\n",
              "\n",
              "    [theme=dark] .colab-df-convert:hover {\n",
              "      background-color: #434B5C;\n",
              "      box-shadow: 0px 1px 3px 1px rgba(0, 0, 0, 0.15);\n",
              "      filter: drop-shadow(0px 1px 2px rgba(0, 0, 0, 0.3));\n",
              "      fill: #FFFFFF;\n",
              "    }\n",
              "  </style>\n",
              "\n",
              "      <script>\n",
              "        const buttonEl =\n",
              "          document.querySelector('#df-bb3aa839-cfe1-4208-950b-91988faf9394 button.colab-df-convert');\n",
              "        buttonEl.style.display =\n",
              "          google.colab.kernel.accessAllowed ? 'block' : 'none';\n",
              "\n",
              "        async function convertToInteractive(key) {\n",
              "          const element = document.querySelector('#df-bb3aa839-cfe1-4208-950b-91988faf9394');\n",
              "          const dataTable =\n",
              "            await google.colab.kernel.invokeFunction('convertToInteractive',\n",
              "                                                     [key], {});\n",
              "          if (!dataTable) return;\n",
              "\n",
              "          const docLinkHtml = 'Like what you see? Visit the ' +\n",
              "            '<a target=\"_blank\" href=https://colab.research.google.com/notebooks/data_table.ipynb>data table notebook</a>'\n",
              "            + ' to learn more about interactive tables.';\n",
              "          element.innerHTML = '';\n",
              "          dataTable['output_type'] = 'display_data';\n",
              "          await google.colab.output.renderOutput(dataTable, element);\n",
              "          const docLink = document.createElement('div');\n",
              "          docLink.innerHTML = docLinkHtml;\n",
              "          element.appendChild(docLink);\n",
              "        }\n",
              "      </script>\n",
              "    </div>\n",
              "  </div>\n",
              "  "
            ],
            "text/plain": [
              "      Unnamed: 0 activity_comment  activity_id  ...    uo_units upper_value   value\n",
              "0              1              NaN       866063  ...  UO_0000065         NaN   0.128\n",
              "1              2              NaN       872532  ...  UO_0000065         NaN   0.220\n",
              "2              4              NaN       872564  ...  UO_0000065         NaN   8.790\n",
              "3              5              NaN       879718  ...  UO_0000065         NaN   1.910\n",
              "4              6              NaN       884645  ...  UO_0000065         NaN  30.000\n",
              "...          ...              ...          ...  ...         ...         ...     ...\n",
              "4036       10889       Not Active     20739016  ...         NaN         NaN  10.000\n",
              "4037       10890       Not Active     20739017  ...         NaN         NaN  10.000\n",
              "4038       11350              NaN     20764823  ...  UO_0000065         NaN   6.000\n",
              "4039       11351              NaN     20765184  ...  UO_0000065         NaN   6.000\n",
              "4040       11352           Active     20765489  ...         NaN         NaN   3.500\n",
              "\n",
              "[3943 rows x 46 columns]"
            ]
          },
          "metadata": {},
          "execution_count": 15
        }
      ]
    },
    {
      "cell_type": "code",
      "source": [
        "# Check for duplicated chemicals\n",
        "final_df2.duplicated('molecule_chembl_id').value_counts()"
      ],
      "metadata": {
        "colab": {
          "base_uri": "https://localhost:8080/"
        },
        "id": "eBLH4e3FeY8u",
        "outputId": "0b9991c3-2bc7-4348-c562-780809a41510"
      },
      "execution_count": null,
      "outputs": [
        {
          "output_type": "execute_result",
          "data": {
            "text/plain": [
              "False    2860\n",
              "True     1083\n",
              "dtype: int64"
            ]
          },
          "metadata": {},
          "execution_count": 16
        }
      ]
    },
    {
      "cell_type": "code",
      "source": [
        "# Drop the duplicates\n",
        "final_df2 = final_df2.drop_duplicates('molecule_chembl_id')"
      ],
      "metadata": {
        "id": "qAk9NvOQetiR"
      },
      "execution_count": null,
      "outputs": []
    },
    {
      "cell_type": "code",
      "source": [
        "# Looking to see if all units are the same or not\n",
        "final_df2['standard_units'].value_counts()"
      ],
      "metadata": {
        "colab": {
          "base_uri": "https://localhost:8080/"
        },
        "id": "sSyTKsFUVyVS",
        "outputId": "ce8b7e92-b668-4722-d7d9-189106519199"
      },
      "execution_count": null,
      "outputs": [
        {
          "output_type": "execute_result",
          "data": {
            "text/plain": [
              "nM         2844\n",
              "ug.mL-1      14\n",
              "µM            2\n",
              "Name: standard_units, dtype: int64"
            ]
          },
          "metadata": {},
          "execution_count": 18
        }
      ]
    },
    {
      "cell_type": "markdown",
      "source": [
        "It looks like not all of the units are in the desired nM unit; this means that the other units will have to either be converted to nM or dropped. For the entries with the 'ug.mL-1' unit, conversion to the nanomolar unit would require first calculating the unique molar mass of each chemical compound. This would make the calculation process more time than it is worth, since there are only 15 entries with this unit. All that would be required to conver the entries with the micromolar (µM) unit is to multiply these values by one thousand, but since there are only 2 it makes more sense to drop chemicals with these units as well."
      ],
      "metadata": {
        "id": "6zkMFACVaKy5"
      }
    },
    {
      "cell_type": "code",
      "source": [
        "# Dropping chemicals not in unit 'nM'\n",
        "final_df2 = final_df2.loc[final_df2['standard_units'] == 'nM']"
      ],
      "metadata": {
        "id": "yVcfxI5aUCfN"
      },
      "execution_count": null,
      "outputs": []
    },
    {
      "cell_type": "code",
      "source": [
        "# Checking to see that the values are dropped\n",
        "final_df2['standard_units'].value_counts()"
      ],
      "metadata": {
        "colab": {
          "base_uri": "https://localhost:8080/"
        },
        "id": "ZJSZYsK-UVEP",
        "outputId": "0c6199aa-4ca9-48d4-9e77-43572a1863c7"
      },
      "execution_count": null,
      "outputs": [
        {
          "output_type": "execute_result",
          "data": {
            "text/plain": [
              "nM    2844\n",
              "Name: standard_units, dtype: int64"
            ]
          },
          "metadata": {},
          "execution_count": 20
        }
      ]
    },
    {
      "cell_type": "markdown",
      "source": [
        "## **Categorizing Compounds According to Bioactivity Level**"
      ],
      "metadata": {
        "id": "aMkGQ639SvBg"
      }
    },
    {
      "cell_type": "code",
      "source": [
        "bio_level = []\n",
        "for i in final_df2['standard_value']:\n",
        "  if float(i) >= 10000:\n",
        "    bio_level.append(\"inactive\")\n",
        "  elif float(i) <= 1000:\n",
        "    bio_level.append(\"active\")\n",
        "  else:\n",
        "    bio_level.append(\"intermediate\")\n"
      ],
      "metadata": {
        "id": "zy70v53XQGL0"
      },
      "execution_count": null,
      "outputs": []
    },
    {
      "cell_type": "code",
      "source": [
        "# Counting the different classes for a bar graph\n",
        "active = bio_level.count('active')\n",
        "intermediate = bio_level.count('intermediate')\n",
        "inactive = bio_level.count('inactive')\n",
        "bio_list = [active, intermediate, inactive]\n",
        "bio_names = ['active', 'intermediate', 'inactive']"
      ],
      "metadata": {
        "id": "IOi99qImZ824"
      },
      "execution_count": null,
      "outputs": []
    },
    {
      "cell_type": "code",
      "source": [
        "# Plotting a bargraph to visualize class imbalance\n",
        "plt.figure(figsize=(7,5))\n",
        "sns.set(font_scale=1.4)\n",
        "sns.barplot(bio_names, bio_list)\n",
        "plt.ylabel(\"Number of Compounds\")\n",
        "plt.title('Bioactivity of chemical compounds');"
      ],
      "metadata": {
        "colab": {
          "base_uri": "https://localhost:8080/",
          "height": 402
        },
        "id": "dvV2J3bTUpwd",
        "outputId": "5b49efcb-a500-4f23-f45f-c6f39af0d85c"
      },
      "execution_count": null,
      "outputs": [
        {
          "output_type": "stream",
          "name": "stderr",
          "text": [
            "/usr/local/lib/python3.7/dist-packages/seaborn/_decorators.py:43: FutureWarning: Pass the following variables as keyword args: x, y. From version 0.12, the only valid positional argument will be `data`, and passing other arguments without an explicit keyword will result in an error or misinterpretation.\n",
            "  FutureWarning\n"
          ]
        },
        {
          "output_type": "display_data",
          "data": {
            "image/png": "[encoded data removed]",
            "text/plain": [
              "<Figure size 504x360 with 1 Axes>"
            ]
          },
          "metadata": {
            "needs_background": "light"
          }
        }
      ]
    },
    {
      "cell_type": "markdown",
      "source": [
        "Combining the intermediate and inactive classes would reduce the class imbalance, which would make for more accurate modeling. I will do this after selecting relevant features."
      ],
      "metadata": {
        "id": "XppRibWvY4c1"
      }
    },
    {
      "cell_type": "markdown",
      "source": [
        "## **Selection of features to be used in Modeling**"
      ],
      "metadata": {
        "id": "7hw1-CLXbwnF"
      }
    },
    {
      "cell_type": "markdown",
      "source": [
        "Since not all of the features in the original dataset will need to be used, I will select the most important ones, as outlined by the data professor (molecule_chembl_id, canonical_smiles, standard_value)"
      ],
      "metadata": {
        "id": "wW82Y6-1bzNN"
      }
    },
    {
      "cell_type": "code",
      "source": [
        "# Putting the molecule_chembl_id in a list\n",
        "mol_id = [i for i in final_df2['molecule_chembl_id']]"
      ],
      "metadata": {
        "id": "BdchZkCUZ7tH"
      },
      "execution_count": null,
      "outputs": []
    },
    {
      "cell_type": "code",
      "source": [
        "# Putting canonical_smiles into a list\n",
        "canon_smiles = [i for i in final_df2['canonical_smiles']]"
      ],
      "metadata": {
        "id": "8CnGktGnbtCK"
      },
      "execution_count": null,
      "outputs": []
    },
    {
      "cell_type": "code",
      "source": [
        "# Putting standard_value into a list\n",
        "std_value = [i for i in final_df2['standard_value']]"
      ],
      "metadata": {
        "id": "074qEqvmcrZL"
      },
      "execution_count": null,
      "outputs": []
    },
    {
      "cell_type": "code",
      "source": [
        "# Combining relevant lists into a dataframe\n",
        "df_tuples = list(zip(mol_id, canon_smiles, std_value, bio_level))\n",
        "sel_df = pd.DataFrame(df_tuples, columns=['mol_id', 'canon_smiles', 'std_value', 'bio_level'])"
      ],
      "metadata": {
        "id": "kGPbw2Ydc0p8"
      },
      "execution_count": null,
      "outputs": []
    },
    {
      "cell_type": "code",
      "source": [
        "sel_df"
      ],
      "metadata": {
        "colab": {
          "base_uri": "https://localhost:8080/",
          "height": 424
        },
        "id": "B8KfAR2Od9ML",
        "outputId": "21c97b7c-c15f-40fb-c0c5-4b4083fd3dbe"
      },
      "execution_count": null,
      "outputs": [
        {
          "output_type": "execute_result",
          "data": {
            "text/html": [
              "\n",
              "  <div id=\"df-2173bc6e-5755-4d1f-bd7f-c2100f8f062b\">\n",
              "    <div class=\"colab-df-container\">\n",
              "      <div>\n",
              "<style scoped>\n",
              "    .dataframe tbody tr th:only-of-type {\n",
              "        vertical-align: middle;\n",
              "    }\n",
              "\n",
              "    .dataframe tbody tr th {\n",
              "        vertical-align: top;\n",
              "    }\n",
              "\n",
              "    .dataframe thead th {\n",
              "        text-align: right;\n",
              "    }\n",
              "</style>\n",
              "<table border=\"1\" class=\"dataframe\">\n",
              "  <thead>\n",
              "    <tr style=\"text-align: right;\">\n",
              "      <th></th>\n",
              "      <th>mol_id</th>\n",
              "      <th>canon_smiles</th>\n",
              "      <th>std_value</th>\n",
              "      <th>bio_level</th>\n",
              "    </tr>\n",
              "  </thead>\n",
              "  <tbody>\n",
              "    <tr>\n",
              "      <th>0</th>\n",
              "      <td>CHEMBL330863</td>\n",
              "      <td>COc1cc2c(N3CCN(C(=O)Nc4ccc(OC(C)C)cc4)CC3)ncnc...</td>\n",
              "      <td>128.0</td>\n",
              "      <td>active</td>\n",
              "    </tr>\n",
              "    <tr>\n",
              "      <th>1</th>\n",
              "      <td>CHEMBL124660</td>\n",
              "      <td>COc1cc2c(N3CCN(C(=O)Nc4ccc(OC(C)C)cc4)CC3)ncnc...</td>\n",
              "      <td>220.0</td>\n",
              "      <td>active</td>\n",
              "    </tr>\n",
              "    <tr>\n",
              "      <th>2</th>\n",
              "      <td>CHEMBL126699</td>\n",
              "      <td>COc1cc2c(N3CCN(C(=O)Nc4ccc(C#N)cc4)CC3)ncnc2cc...</td>\n",
              "      <td>8790.0</td>\n",
              "      <td>intermediate</td>\n",
              "    </tr>\n",
              "    <tr>\n",
              "      <th>3</th>\n",
              "      <td>CHEMBL445636</td>\n",
              "      <td>COc1cc2c(N3CCN(C(=O)Nc4ccc(C#N)cc4)CC3)ncnc2cc...</td>\n",
              "      <td>1910.0</td>\n",
              "      <td>intermediate</td>\n",
              "    </tr>\n",
              "    <tr>\n",
              "      <th>4</th>\n",
              "      <td>CHEMBL941</td>\n",
              "      <td>Cc1ccc(NC(=O)c2ccc(CN3CCN(C)CC3)cc2)cc1Nc1nccc...</td>\n",
              "      <td>30000.0</td>\n",
              "      <td>inactive</td>\n",
              "    </tr>\n",
              "    <tr>\n",
              "      <th>...</th>\n",
              "      <td>...</td>\n",
              "      <td>...</td>\n",
              "      <td>...</td>\n",
              "      <td>...</td>\n",
              "    </tr>\n",
              "    <tr>\n",
              "      <th>2839</th>\n",
              "      <td>CHEMBL1971943</td>\n",
              "      <td>Cc1c[nH]c2nccc(Oc3c(F)cc(Nc4cc(Cl)nc(N)n4)cc3F...</td>\n",
              "      <td>303.0</td>\n",
              "      <td>active</td>\n",
              "    </tr>\n",
              "    <tr>\n",
              "      <th>2840</th>\n",
              "      <td>CHEMBL4088216</td>\n",
              "      <td>CN1C(=O)[C@@H](N2CCc3cn(Cc4ccccc4)nc3C2=O)COc2...</td>\n",
              "      <td>1000.0</td>\n",
              "      <td>active</td>\n",
              "    </tr>\n",
              "    <tr>\n",
              "      <th>2841</th>\n",
              "      <td>CHEMBL4531334</td>\n",
              "      <td>CN1CCN(C(=O)C(C)(C)c2ccc(C(=O)Nc3cn4cc(-c5ccnc...</td>\n",
              "      <td>668.0</td>\n",
              "      <td>active</td>\n",
              "    </tr>\n",
              "    <tr>\n",
              "      <th>2842</th>\n",
              "      <td>CHEMBL4549667</td>\n",
              "      <td>CN1C(=O)[C@@H](N2CCc3c(nn(Cc4ccccc4)c3Br)C2=O)...</td>\n",
              "      <td>1000.0</td>\n",
              "      <td>active</td>\n",
              "    </tr>\n",
              "    <tr>\n",
              "      <th>2843</th>\n",
              "      <td>CHEMBL4097778</td>\n",
              "      <td>CN1C(=O)[C@@H](N2CCc3cn(CC4CCS(=O)(=O)CC4)nc3C...</td>\n",
              "      <td>1000.0</td>\n",
              "      <td>active</td>\n",
              "    </tr>\n",
              "  </tbody>\n",
              "</table>\n",
              "<p>2844 rows × 4 columns</p>\n",
              "</div>\n",
              "      <button class=\"colab-df-convert\" onclick=\"convertToInteractive('df-2173bc6e-5755-4d1f-bd7f-c2100f8f062b')\"\n",
              "              title=\"Convert this dataframe to an interactive table.\"\n",
              "              style=\"display:none;\">\n",
              "        \n",
              "  <svg xmlns=\"http://www.w3.org/2000/svg\" height=\"24px\"viewBox=\"0 0 24 24\"\n",
              "       width=\"24px\">\n",
              "    <path d=\"M0 0h24v24H0V0z\" fill=\"none\"/>\n",
              "    <path d=\"M18.56 5.44l.94 2.06.94-2.06 2.06-.94-2.06-.94-.94-2.06-.94 2.06-2.06.94zm-11 1L8.5 8.5l.94-2.06 2.06-.94-2.06-.94L8.5 2.5l-.94 2.06-2.06.94zm10 10l.94 2.06.94-2.06 2.06-.94-2.06-.94-.94-2.06-.94 2.06-2.06.94z\"/><path d=\"M17.41 7.96l-1.37-1.37c-.4-.4-.92-.59-1.43-.59-.52 0-1.04.2-1.43.59L10.3 9.45l-7.72 7.72c-.78.78-.78 2.05 0 2.83L4 21.41c.39.39.9.59 1.41.59.51 0 1.02-.2 1.41-.59l7.78-7.78 2.81-2.81c.8-.78.8-2.07 0-2.86zM5.41 20L4 18.59l7.72-7.72 1.47 1.35L5.41 20z\"/>\n",
              "  </svg>\n",
              "      </button>\n",
              "      \n",
              "  <style>\n",
              "    .colab-df-container {\n",
              "      display:flex;\n",
              "      flex-wrap:wrap;\n",
              "      gap: 12px;\n",
              "    }\n",
              "\n",
              "    .colab-df-convert {\n",
              "      background-color: #E8F0FE;\n",
              "      border: none;\n",
              "      border-radius: 50%;\n",
              "      cursor: pointer;\n",
              "      display: none;\n",
              "      fill: #1967D2;\n",
              "      height: 32px;\n",
              "      padding: 0 0 0 0;\n",
              "      width: 32px;\n",
              "    }\n",
              "\n",
              "    .colab-df-convert:hover {\n",
              "      background-color: #E2EBFA;\n",
              "      box-shadow: 0px 1px 2px rgba(60, 64, 67, 0.3), 0px 1px 3px 1px rgba(60, 64, 67, 0.15);\n",
              "      fill: #174EA6;\n",
              "    }\n",
              "\n",
              "    [theme=dark] .colab-df-convert {\n",
              "      background-color: #3B4455;\n",
              "      fill: #D2E3FC;\n",
              "    }\n",
              "\n",
              "    [theme=dark] .colab-df-convert:hover {\n",
              "      background-color: #434B5C;\n",
              "      box-shadow: 0px 1px 3px 1px rgba(0, 0, 0, 0.15);\n",
              "      filter: drop-shadow(0px 1px 2px rgba(0, 0, 0, 0.3));\n",
              "      fill: #FFFFFF;\n",
              "    }\n",
              "  </style>\n",
              "\n",
              "      <script>\n",
              "        const buttonEl =\n",
              "          document.querySelector('#df-2173bc6e-5755-4d1f-bd7f-c2100f8f062b button.colab-df-convert');\n",
              "        buttonEl.style.display =\n",
              "          google.colab.kernel.accessAllowed ? 'block' : 'none';\n",
              "\n",
              "        async function convertToInteractive(key) {\n",
              "          const element = document.querySelector('#df-2173bc6e-5755-4d1f-bd7f-c2100f8f062b');\n",
              "          const dataTable =\n",
              "            await google.colab.kernel.invokeFunction('convertToInteractive',\n",
              "                                                     [key], {});\n",
              "          if (!dataTable) return;\n",
              "\n",
              "          const docLinkHtml = 'Like what you see? Visit the ' +\n",
              "            '<a target=\"_blank\" href=https://colab.research.google.com/notebooks/data_table.ipynb>data table notebook</a>'\n",
              "            + ' to learn more about interactive tables.';\n",
              "          element.innerHTML = '';\n",
              "          dataTable['output_type'] = 'display_data';\n",
              "          await google.colab.output.renderOutput(dataTable, element);\n",
              "          const docLink = document.createElement('div');\n",
              "          docLink.innerHTML = docLinkHtml;\n",
              "          element.appendChild(docLink);\n",
              "        }\n",
              "      </script>\n",
              "    </div>\n",
              "  </div>\n",
              "  "
            ],
            "text/plain": [
              "             mol_id  ...     bio_level\n",
              "0      CHEMBL330863  ...        active\n",
              "1      CHEMBL124660  ...        active\n",
              "2      CHEMBL126699  ...  intermediate\n",
              "3      CHEMBL445636  ...  intermediate\n",
              "4         CHEMBL941  ...      inactive\n",
              "...             ...  ...           ...\n",
              "2839  CHEMBL1971943  ...        active\n",
              "2840  CHEMBL4088216  ...        active\n",
              "2841  CHEMBL4531334  ...        active\n",
              "2842  CHEMBL4549667  ...        active\n",
              "2843  CHEMBL4097778  ...        active\n",
              "\n",
              "[2844 rows x 4 columns]"
            ]
          },
          "metadata": {},
          "execution_count": 41
        }
      ]
    },
    {
      "cell_type": "code",
      "source": [
        "# Dictionary for combining intermediate and inactive classes\n",
        "activity = {'active': 'active',\n",
        "            'intermediate': 'inactive',\n",
        "            'inactive': 'inactive'}"
      ],
      "metadata": {
        "id": "_3iEQ8nmeF4h"
      },
      "execution_count": null,
      "outputs": []
    },
    {
      "cell_type": "code",
      "source": [
        "sel_df['Bioactivity'] = sel_df['bio_level'].map(activity)"
      ],
      "metadata": {
        "id": "_YsYH0add-nT"
      },
      "execution_count": null,
      "outputs": []
    },
    {
      "cell_type": "code",
      "source": [
        "sel_df.head()"
      ],
      "metadata": {
        "colab": {
          "base_uri": "https://localhost:8080/",
          "height": 206
        },
        "id": "OzxwmWeEfJef",
        "outputId": "9a3b990e-e2b6-46f3-e91b-669174bb1280"
      },
      "execution_count": null,
      "outputs": [
        {
          "output_type": "execute_result",
          "data": {
            "text/html": [
              "\n",
              "  <div id=\"df-d4c65f29-a522-4060-87c3-5e001377f59e\">\n",
              "    <div class=\"colab-df-container\">\n",
              "      <div>\n",
              "<style scoped>\n",
              "    .dataframe tbody tr th:only-of-type {\n",
              "        vertical-align: middle;\n",
              "    }\n",
              "\n",
              "    .dataframe tbody tr th {\n",
              "        vertical-align: top;\n",
              "    }\n",
              "\n",
              "    .dataframe thead th {\n",
              "        text-align: right;\n",
              "    }\n",
              "</style>\n",
              "<table border=\"1\" class=\"dataframe\">\n",
              "  <thead>\n",
              "    <tr style=\"text-align: right;\">\n",
              "      <th></th>\n",
              "      <th>mol_id</th>\n",
              "      <th>canon_smiles</th>\n",
              "      <th>std_value</th>\n",
              "      <th>bio_level</th>\n",
              "      <th>Bioactivity</th>\n",
              "    </tr>\n",
              "  </thead>\n",
              "  <tbody>\n",
              "    <tr>\n",
              "      <th>0</th>\n",
              "      <td>CHEMBL330863</td>\n",
              "      <td>COc1cc2c(N3CCN(C(=O)Nc4ccc(OC(C)C)cc4)CC3)ncnc...</td>\n",
              "      <td>128.0</td>\n",
              "      <td>active</td>\n",
              "      <td>active</td>\n",
              "    </tr>\n",
              "    <tr>\n",
              "      <th>1</th>\n",
              "      <td>CHEMBL124660</td>\n",
              "      <td>COc1cc2c(N3CCN(C(=O)Nc4ccc(OC(C)C)cc4)CC3)ncnc...</td>\n",
              "      <td>220.0</td>\n",
              "      <td>active</td>\n",
              "      <td>active</td>\n",
              "    </tr>\n",
              "    <tr>\n",
              "      <th>2</th>\n",
              "      <td>CHEMBL126699</td>\n",
              "      <td>COc1cc2c(N3CCN(C(=O)Nc4ccc(C#N)cc4)CC3)ncnc2cc...</td>\n",
              "      <td>8790.0</td>\n",
              "      <td>intermediate</td>\n",
              "      <td>inactive</td>\n",
              "    </tr>\n",
              "    <tr>\n",
              "      <th>3</th>\n",
              "      <td>CHEMBL445636</td>\n",
              "      <td>COc1cc2c(N3CCN(C(=O)Nc4ccc(C#N)cc4)CC3)ncnc2cc...</td>\n",
              "      <td>1910.0</td>\n",
              "      <td>intermediate</td>\n",
              "      <td>inactive</td>\n",
              "    </tr>\n",
              "    <tr>\n",
              "      <th>4</th>\n",
              "      <td>CHEMBL941</td>\n",
              "      <td>Cc1ccc(NC(=O)c2ccc(CN3CCN(C)CC3)cc2)cc1Nc1nccc...</td>\n",
              "      <td>30000.0</td>\n",
              "      <td>inactive</td>\n",
              "      <td>inactive</td>\n",
              "    </tr>\n",
              "  </tbody>\n",
              "</table>\n",
              "</div>\n",
              "      <button class=\"colab-df-convert\" onclick=\"convertToInteractive('df-d4c65f29-a522-4060-87c3-5e001377f59e')\"\n",
              "              title=\"Convert this dataframe to an interactive table.\"\n",
              "              style=\"display:none;\">\n",
              "        \n",
              "  <svg xmlns=\"http://www.w3.org/2000/svg\" height=\"24px\"viewBox=\"0 0 24 24\"\n",
              "       width=\"24px\">\n",
              "    <path d=\"M0 0h24v24H0V0z\" fill=\"none\"/>\n",
              "    <path d=\"M18.56 5.44l.94 2.06.94-2.06 2.06-.94-2.06-.94-.94-2.06-.94 2.06-2.06.94zm-11 1L8.5 8.5l.94-2.06 2.06-.94-2.06-.94L8.5 2.5l-.94 2.06-2.06.94zm10 10l.94 2.06.94-2.06 2.06-.94-2.06-.94-.94-2.06-.94 2.06-2.06.94z\"/><path d=\"M17.41 7.96l-1.37-1.37c-.4-.4-.92-.59-1.43-.59-.52 0-1.04.2-1.43.59L10.3 9.45l-7.72 7.72c-.78.78-.78 2.05 0 2.83L4 21.41c.39.39.9.59 1.41.59.51 0 1.02-.2 1.41-.59l7.78-7.78 2.81-2.81c.8-.78.8-2.07 0-2.86zM5.41 20L4 18.59l7.72-7.72 1.47 1.35L5.41 20z\"/>\n",
              "  </svg>\n",
              "      </button>\n",
              "      \n",
              "  <style>\n",
              "    .colab-df-container {\n",
              "      display:flex;\n",
              "      flex-wrap:wrap;\n",
              "      gap: 12px;\n",
              "    }\n",
              "\n",
              "    .colab-df-convert {\n",
              "      background-color: #E8F0FE;\n",
              "      border: none;\n",
              "      border-radius: 50%;\n",
              "      cursor: pointer;\n",
              "      display: none;\n",
              "      fill: #1967D2;\n",
              "      height: 32px;\n",
              "      padding: 0 0 0 0;\n",
              "      width: 32px;\n",
              "    }\n",
              "\n",
              "    .colab-df-convert:hover {\n",
              "      background-color: #E2EBFA;\n",
              "      box-shadow: 0px 1px 2px rgba(60, 64, 67, 0.3), 0px 1px 3px 1px rgba(60, 64, 67, 0.15);\n",
              "      fill: #174EA6;\n",
              "    }\n",
              "\n",
              "    [theme=dark] .colab-df-convert {\n",
              "      background-color: #3B4455;\n",
              "      fill: #D2E3FC;\n",
              "    }\n",
              "\n",
              "    [theme=dark] .colab-df-convert:hover {\n",
              "      background-color: #434B5C;\n",
              "      box-shadow: 0px 1px 3px 1px rgba(0, 0, 0, 0.15);\n",
              "      filter: drop-shadow(0px 1px 2px rgba(0, 0, 0, 0.3));\n",
              "      fill: #FFFFFF;\n",
              "    }\n",
              "  </style>\n",
              "\n",
              "      <script>\n",
              "        const buttonEl =\n",
              "          document.querySelector('#df-d4c65f29-a522-4060-87c3-5e001377f59e button.colab-df-convert');\n",
              "        buttonEl.style.display =\n",
              "          google.colab.kernel.accessAllowed ? 'block' : 'none';\n",
              "\n",
              "        async function convertToInteractive(key) {\n",
              "          const element = document.querySelector('#df-d4c65f29-a522-4060-87c3-5e001377f59e');\n",
              "          const dataTable =\n",
              "            await google.colab.kernel.invokeFunction('convertToInteractive',\n",
              "                                                     [key], {});\n",
              "          if (!dataTable) return;\n",
              "\n",
              "          const docLinkHtml = 'Like what you see? Visit the ' +\n",
              "            '<a target=\"_blank\" href=https://colab.research.google.com/notebooks/data_table.ipynb>data table notebook</a>'\n",
              "            + ' to learn more about interactive tables.';\n",
              "          element.innerHTML = '';\n",
              "          dataTable['output_type'] = 'display_data';\n",
              "          await google.colab.output.renderOutput(dataTable, element);\n",
              "          const docLink = document.createElement('div');\n",
              "          docLink.innerHTML = docLinkHtml;\n",
              "          element.appendChild(docLink);\n",
              "        }\n",
              "      </script>\n",
              "    </div>\n",
              "  </div>\n",
              "  "
            ],
            "text/plain": [
              "         mol_id  ... Bioactivity\n",
              "0  CHEMBL330863  ...      active\n",
              "1  CHEMBL124660  ...      active\n",
              "2  CHEMBL126699  ...    inactive\n",
              "3  CHEMBL445636  ...    inactive\n",
              "4     CHEMBL941  ...    inactive\n",
              "\n",
              "[5 rows x 5 columns]"
            ]
          },
          "metadata": {},
          "execution_count": 46
        }
      ]
    },
    {
      "cell_type": "code",
      "source": [
        "sel_df['bio_level'].value_counts()"
      ],
      "metadata": {
        "colab": {
          "base_uri": "https://localhost:8080/"
        },
        "id": "AZrHxkakfQTF",
        "outputId": "6f23de6f-31ed-43fa-8a4d-7705942d844f"
      },
      "execution_count": null,
      "outputs": [
        {
          "output_type": "execute_result",
          "data": {
            "text/plain": [
              "active          1641\n",
              "inactive         727\n",
              "intermediate     476\n",
              "Name: bio_level, dtype: int64"
            ]
          },
          "metadata": {},
          "execution_count": 48
        }
      ]
    },
    {
      "cell_type": "code",
      "source": [
        "sel_df['Bioactivity'].value_counts()"
      ],
      "metadata": {
        "colab": {
          "base_uri": "https://localhost:8080/"
        },
        "id": "x-d3p39ffYEM",
        "outputId": "3f1e583c-f916-4fe8-c4e0-defed48d32fc"
      },
      "execution_count": null,
      "outputs": [
        {
          "output_type": "execute_result",
          "data": {
            "text/plain": [
              "active      1641\n",
              "inactive    1203\n",
              "Name: Bioactivity, dtype: int64"
            ]
          },
          "metadata": {},
          "execution_count": 49
        }
      ]
    },
    {
      "cell_type": "code",
      "source": [
        "sel_df2 = sel_df.drop(['bio_level'], axis=1)"
      ],
      "metadata": {
        "id": "5F9sK937fef8"
      },
      "execution_count": null,
      "outputs": []
    },
    {
      "cell_type": "code",
      "source": [
        "sel_df2.head()"
      ],
      "metadata": {
        "colab": {
          "base_uri": "https://localhost:8080/",
          "height": 206
        },
        "id": "KUdEor1rftq-",
        "outputId": "fd916f6e-f6ac-44e7-c79f-2d4bc903d60d"
      },
      "execution_count": null,
      "outputs": [
        {
          "output_type": "execute_result",
          "data": {
            "text/html": [
              "\n",
              "  <div id=\"df-f59fb2cf-2e88-4151-bec2-bd35f72dc975\">\n",
              "    <div class=\"colab-df-container\">\n",
              "      <div>\n",
              "<style scoped>\n",
              "    .dataframe tbody tr th:only-of-type {\n",
              "        vertical-align: middle;\n",
              "    }\n",
              "\n",
              "    .dataframe tbody tr th {\n",
              "        vertical-align: top;\n",
              "    }\n",
              "\n",
              "    .dataframe thead th {\n",
              "        text-align: right;\n",
              "    }\n",
              "</style>\n",
              "<table border=\"1\" class=\"dataframe\">\n",
              "  <thead>\n",
              "    <tr style=\"text-align: right;\">\n",
              "      <th></th>\n",
              "      <th>mol_id</th>\n",
              "      <th>canon_smiles</th>\n",
              "      <th>std_value</th>\n",
              "      <th>Bioactivity</th>\n",
              "    </tr>\n",
              "  </thead>\n",
              "  <tbody>\n",
              "    <tr>\n",
              "      <th>0</th>\n",
              "      <td>CHEMBL330863</td>\n",
              "      <td>COc1cc2c(N3CCN(C(=O)Nc4ccc(OC(C)C)cc4)CC3)ncnc...</td>\n",
              "      <td>128.0</td>\n",
              "      <td>active</td>\n",
              "    </tr>\n",
              "    <tr>\n",
              "      <th>1</th>\n",
              "      <td>CHEMBL124660</td>\n",
              "      <td>COc1cc2c(N3CCN(C(=O)Nc4ccc(OC(C)C)cc4)CC3)ncnc...</td>\n",
              "      <td>220.0</td>\n",
              "      <td>active</td>\n",
              "    </tr>\n",
              "    <tr>\n",
              "      <th>2</th>\n",
              "      <td>CHEMBL126699</td>\n",
              "      <td>COc1cc2c(N3CCN(C(=O)Nc4ccc(C#N)cc4)CC3)ncnc2cc...</td>\n",
              "      <td>8790.0</td>\n",
              "      <td>inactive</td>\n",
              "    </tr>\n",
              "    <tr>\n",
              "      <th>3</th>\n",
              "      <td>CHEMBL445636</td>\n",
              "      <td>COc1cc2c(N3CCN(C(=O)Nc4ccc(C#N)cc4)CC3)ncnc2cc...</td>\n",
              "      <td>1910.0</td>\n",
              "      <td>inactive</td>\n",
              "    </tr>\n",
              "    <tr>\n",
              "      <th>4</th>\n",
              "      <td>CHEMBL941</td>\n",
              "      <td>Cc1ccc(NC(=O)c2ccc(CN3CCN(C)CC3)cc2)cc1Nc1nccc...</td>\n",
              "      <td>30000.0</td>\n",
              "      <td>inactive</td>\n",
              "    </tr>\n",
              "  </tbody>\n",
              "</table>\n",
              "</div>\n",
              "      <button class=\"colab-df-convert\" onclick=\"convertToInteractive('df-f59fb2cf-2e88-4151-bec2-bd35f72dc975')\"\n",
              "              title=\"Convert this dataframe to an interactive table.\"\n",
              "              style=\"display:none;\">\n",
              "        \n",
              "  <svg xmlns=\"http://www.w3.org/2000/svg\" height=\"24px\"viewBox=\"0 0 24 24\"\n",
              "       width=\"24px\">\n",
              "    <path d=\"M0 0h24v24H0V0z\" fill=\"none\"/>\n",
              "    <path d=\"M18.56 5.44l.94 2.06.94-2.06 2.06-.94-2.06-.94-.94-2.06-.94 2.06-2.06.94zm-11 1L8.5 8.5l.94-2.06 2.06-.94-2.06-.94L8.5 2.5l-.94 2.06-2.06.94zm10 10l.94 2.06.94-2.06 2.06-.94-2.06-.94-.94-2.06-.94 2.06-2.06.94z\"/><path d=\"M17.41 7.96l-1.37-1.37c-.4-.4-.92-.59-1.43-.59-.52 0-1.04.2-1.43.59L10.3 9.45l-7.72 7.72c-.78.78-.78 2.05 0 2.83L4 21.41c.39.39.9.59 1.41.59.51 0 1.02-.2 1.41-.59l7.78-7.78 2.81-2.81c.8-.78.8-2.07 0-2.86zM5.41 20L4 18.59l7.72-7.72 1.47 1.35L5.41 20z\"/>\n",
              "  </svg>\n",
              "      </button>\n",
              "      \n",
              "  <style>\n",
              "    .colab-df-container {\n",
              "      display:flex;\n",
              "      flex-wrap:wrap;\n",
              "      gap: 12px;\n",
              "    }\n",
              "\n",
              "    .colab-df-convert {\n",
              "      background-color: #E8F0FE;\n",
              "      border: none;\n",
              "      border-radius: 50%;\n",
              "      cursor: pointer;\n",
              "      display: none;\n",
              "      fill: #1967D2;\n",
              "      height: 32px;\n",
              "      padding: 0 0 0 0;\n",
              "      width: 32px;\n",
              "    }\n",
              "\n",
              "    .colab-df-convert:hover {\n",
              "      background-color: #E2EBFA;\n",
              "      box-shadow: 0px 1px 2px rgba(60, 64, 67, 0.3), 0px 1px 3px 1px rgba(60, 64, 67, 0.15);\n",
              "      fill: #174EA6;\n",
              "    }\n",
              "\n",
              "    [theme=dark] .colab-df-convert {\n",
              "      background-color: #3B4455;\n",
              "      fill: #D2E3FC;\n",
              "    }\n",
              "\n",
              "    [theme=dark] .colab-df-convert:hover {\n",
              "      background-color: #434B5C;\n",
              "      box-shadow: 0px 1px 3px 1px rgba(0, 0, 0, 0.15);\n",
              "      filter: drop-shadow(0px 1px 2px rgba(0, 0, 0, 0.3));\n",
              "      fill: #FFFFFF;\n",
              "    }\n",
              "  </style>\n",
              "\n",
              "      <script>\n",
              "        const buttonEl =\n",
              "          document.querySelector('#df-f59fb2cf-2e88-4151-bec2-bd35f72dc975 button.colab-df-convert');\n",
              "        buttonEl.style.display =\n",
              "          google.colab.kernel.accessAllowed ? 'block' : 'none';\n",
              "\n",
              "        async function convertToInteractive(key) {\n",
              "          const element = document.querySelector('#df-f59fb2cf-2e88-4151-bec2-bd35f72dc975');\n",
              "          const dataTable =\n",
              "            await google.colab.kernel.invokeFunction('convertToInteractive',\n",
              "                                                     [key], {});\n",
              "          if (!dataTable) return;\n",
              "\n",
              "          const docLinkHtml = 'Like what you see? Visit the ' +\n",
              "            '<a target=\"_blank\" href=https://colab.research.google.com/notebooks/data_table.ipynb>data table notebook</a>'\n",
              "            + ' to learn more about interactive tables.';\n",
              "          element.innerHTML = '';\n",
              "          dataTable['output_type'] = 'display_data';\n",
              "          await google.colab.output.renderOutput(dataTable, element);\n",
              "          const docLink = document.createElement('div');\n",
              "          docLink.innerHTML = docLinkHtml;\n",
              "          element.appendChild(docLink);\n",
              "        }\n",
              "      </script>\n",
              "    </div>\n",
              "  </div>\n",
              "  "
            ],
            "text/plain": [
              "         mol_id  ... Bioactivity\n",
              "0  CHEMBL330863  ...      active\n",
              "1  CHEMBL124660  ...      active\n",
              "2  CHEMBL126699  ...    inactive\n",
              "3  CHEMBL445636  ...    inactive\n",
              "4     CHEMBL941  ...    inactive\n",
              "\n",
              "[5 rows x 4 columns]"
            ]
          },
          "metadata": {},
          "execution_count": 53
        }
      ]
    },
    {
      "cell_type": "code",
      "source": [
        "from google.colab import files\n",
        "\n",
        "sel_df2.to_csv('preprocessed_TKR_bioactivity_data.csv', index=False, encoding = 'utf-8-sig')\n",
        "files.download('preprocessed_TKR_bioactivity_data.csv')"
      ],
      "metadata": {
        "colab": {
          "base_uri": "https://localhost:8080/",
          "height": 17
        },
        "id": "KidiHoyffydw",
        "outputId": "d337f06e-0169-45c4-fc3c-2994536a5d18"
      },
      "execution_count": null,
      "outputs": [
        {
          "output_type": "display_data",
          "data": {
            "application/javascript": [
              "\n",
              "    async function download(id, filename, size) {\n",
              "      if (!google.colab.kernel.accessAllowed) {\n",
              "        return;\n",
              "      }\n",
              "      const div = document.createElement('div');\n",
              "      const label = document.createElement('label');\n",
              "      label.textContent = `Downloading \"${filename}\": `;\n",
              "      div.appendChild(label);\n",
              "      const progress = document.createElement('progress');\n",
              "      progress.max = size;\n",
              "      div.appendChild(progress);\n",
              "      document.body.appendChild(div);\n",
              "\n",
              "      const buffers = [];\n",
              "      let downloaded = 0;\n",
              "\n",
              "      const channel = await google.colab.kernel.comms.open(id);\n",
              "      // Send a message to notify the kernel that we're ready.\n",
              "      channel.send({})\n",
              "\n",
              "      for await (const message of channel.messages) {\n",
              "        // Send a message to notify the kernel that we're ready.\n",
              "        channel.send({})\n",
              "        if (message.buffers) {\n",
              "          for (const buffer of message.buffers) {\n",
              "            buffers.push(buffer);\n",
              "            downloaded += buffer.byteLength;\n",
              "            progress.value = downloaded;\n",
              "          }\n",
              "        }\n",
              "      }\n",
              "      const blob = new Blob(buffers, {type: 'application/binary'});\n",
              "      const a = document.createElement('a');\n",
              "      a.href = window.URL.createObjectURL(blob);\n",
              "      a.download = filename;\n",
              "      div.appendChild(a);\n",
              "      a.click();\n",
              "      div.remove();\n",
              "    }\n",
              "  "
            ],
            "text/plain": [
              "<IPython.core.display.Javascript object>"
            ]
          },
          "metadata": {}
        },
        {
          "output_type": "display_data",
          "data": {
            "application/javascript": [
              "download(\"download_82ad6a04-24d2-47c2-b183-6809ffa60543\", \"preprocessed_TKR_bioactivity_data.csv\", 242468)"
            ],
            "text/plain": [
              "<IPython.core.display.Javascript object>"
            ]
          },
          "metadata": {}
        }
      ]
    },
    {
      "cell_type": "code",
      "source": [
        "! ls -l"
      ],
      "metadata": {
        "colab": {
          "base_uri": "https://localhost:8080/"
        },
        "id": "9wxrpAOUhSM8",
        "outputId": "0d2a6430-4b14-4eb1-ab76-40fbd812e768"
      },
      "execution_count": null,
      "outputs": [
        {
          "output_type": "stream",
          "name": "stdout",
          "text": [
            "ls: cannot access 'drive': Transport endpoint is not connected\n",
            "total 500\n",
            "d????????? ? ?    ?         ?            ? drive\n",
            "drwx------ 5 root root   4096 Feb 16 21:54 gdrive\n",
            "-rw-r--r-- 1 root root 255576 Feb 16 21:51 preprocessed_TKR_bioactivity_data\n",
            "-rw-r--r-- 1 root root 242465 Feb 16 21:55 preprocessed_TKR_bioactivity_data.csv\n",
            "drwxr-xr-x 1 root root   4096 Feb  1 14:32 sample_data\n"
          ]
        }
      ]
    },
    {
      "cell_type": "code",
      "source": [
        "! cp preprocessed_TKR_bioactivity_data.csv \"/content/gdrive/My Drive/Colab Notebooks/data\""
      ],
      "metadata": {
        "id": "021KjuRlhT63"
      },
      "execution_count": null,
      "outputs": []
    },
    {
      "cell_type": "code",
      "source": [
        "! ls \"/content/gdrive/My Drive/Colab Notebooks/data"
      ],
      "metadata": {
        "colab": {
          "base_uri": "https://localhost:8080/"
        },
        "id": "5uTEK0Auhpwa",
        "outputId": "3793d3cb-bc2e-4bde-c557-83ed32497e8e"
      },
      "execution_count": null,
      "outputs": [
        {
          "output_type": "stream",
          "name": "stdout",
          "text": [
            "/bin/bash: -c: line 0: unexpected EOF while looking for matching `\"'\n",
            "/bin/bash: -c: line 1: syntax error: unexpected end of file\n"
          ]
        }
      ]
    },
    {
      "cell_type": "code",
      "source": [
        ""
      ],
      "metadata": {
        "id": "tCnj9m_0hseI"
      },
      "execution_count": null,
      "outputs": []
    },
    {
      "cell_type": "markdown",
      "source": [
        ""
      ],
      "metadata": {
        "id": "OLGcdlye3MMU"
      }
    }
  ]
}