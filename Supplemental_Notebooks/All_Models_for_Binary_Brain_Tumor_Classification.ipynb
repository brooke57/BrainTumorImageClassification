{
  "nbformat": 4,
  "nbformat_minor": 0,
  "metadata": {
    "colab": {
      "name": "All Models for Binary Brain Tumor Classification.ipynb",
      "provenance": [],
      "collapsed_sections": [],
      "authorship_tag": "ABX9TyMIw4N5S3CpiDGchsmfE3Rv",
      "include_colab_link": true
    },
    "kernelspec": {
      "name": "python3",
      "display_name": "Python 3"
    },
    "language_info": {
      "name": "python"
    },
    "accelerator": "GPU"
  },
  "cells": [
    {
      "cell_type": "markdown",
      "metadata": {
        "id": "view-in-github",
        "colab_type": "text"
      },
      "source": [
        "<a href=\"https://colab.research.google.com/github/brooke57/BrainTumorImageClassification/blob/main/All_Models_for_Binary_Brain_Tumor_Classification.ipynb\" target=\"_parent\"><img src=\"https://colab.research.google.com/assets/colab-badge.svg\" alt=\"Open In Colab\"/></a>"
      ]
    },
    {
      "cell_type": "markdown",
      "metadata": {
        "id": "cGUOvl6aGZO_"
      },
      "source": [
        "## **Binary Brain Tumor Classification: All Models**"
      ]
    },
    {
      "cell_type": "code",
      "metadata": {
        "id": "3Q14WNQt3OnJ"
      },
      "source": [
        "# Set random state for numpy operations\n",
        "from numpy.random import seed\n",
        "seed(2)\n",
        "# Set random state for tensorflow operations\n",
        "from tensorflow.random import set_seed\n",
        "set_seed(3)\n",
        "# General imports\n",
        "import pandas as pd\n",
        "import numpy as np\n",
        "import matplotlib.pyplot as plt\n",
        "from sklearn.model_selection import train_test_split\n",
        "from tensorflow import keras\n",
        "from tensorflow.keras import layers\n",
        "from tensorflow.keras import regularizers\n",
        "from tensorflow.keras.models import load_model\n",
        "from keras.callbacks import EarlyStopping, ModelCheckpoint\n",
        "from keras.models import load_model\n",
        "import seaborn as sns\n",
        "from mlxtend.plotting import plot_decision_regions\n",
        "from sklearn.metrics import confusion_matrix\n",
        "import cv2\n",
        "import PIL"
      ],
      "execution_count": 1,
      "outputs": []
    },
    {
      "cell_type": "code",
      "metadata": {
        "id": "qg4yte_PG5Dh"
      },
      "source": [
        "# Defining a function that will freeze all layers in a pretrained and original network\n",
        "def Freeze_Pretrained_Base(pretrain, model):\n",
        "    \n",
        "    '''This function will freeze all layers in a pretrained and original network\n",
        "      pretrain: refers to any instantiated pretrained network\n",
        "      model: the name of the model you are adding the pretrained network to\n",
        "    '''\n",
        "    pretrain.trainable = False\n",
        "    for layer in model.layers:\n",
        "        print(layer.name, layer.trainable)\n",
        "    print(len(model.trainable_weights))"
      ],
      "execution_count": 2,
      "outputs": []
    },
    {
      "cell_type": "code",
      "metadata": {
        "id": "vgrV6lL-G8vE"
      },
      "source": [
        "# Re-freezing everything except for the last layer of the pretrained CNN\n",
        "# Code structure from https://github.com/learn-co-curriculum/dsc-using-pretrained-networks-codealong\n",
        "def Unfreeze_Layers(pretrain, layer_list):\n",
        "    '''This function takes an instantiated pretrained neural network and a list containing layers to be frozen,\n",
        "    and freezes those layers in the pretrained neural network.\n",
        "    \n",
        "    pretrain: refers to the instantiated pretrained neural network\n",
        "    layer_list: refers to the list of layers to be frozen in the instantiated pretrained neural network.'''\n",
        "\n",
        "    pretrain.trainable = True\n",
        "    for layer in  pretrain.layers:\n",
        "        if layer.name in layer_list:\n",
        "            layer.trainable = True\n",
        "        else:\n",
        "            layer.trainable = False\n",
        "        \n",
        "    for layer in pretrain.layers:\n",
        "        print(layer.name, layer.trainable)\n",
        "    print(len(pretrain.trainable_weights))"
      ],
      "execution_count": 3,
      "outputs": []
    },
    {
      "cell_type": "code",
      "metadata": {
        "id": "pPK6ogMxHB79"
      },
      "source": [
        "def visualize_training_results(history):\n",
        "    '''\n",
        "    From https://machinelearningmastery.com/display-deep-learning-model-training-history-in-keras/\n",
        "    \n",
        "    Input: keras history object (output from trained model)\n",
        "    '''\n",
        "    fig, (ax1, ax2) = plt.subplots(2, sharex=True)\n",
        "    fig.suptitle('Model Results')\n",
        "\n",
        "    # summarize history for accuracy\n",
        "    ax1.plot(history.history['acc'])\n",
        "    ax1.plot(history.history['val_acc'])\n",
        "    ax1.set_ylabel('Accuracy')\n",
        "    ax1.legend(['train', 'test'], loc='upper left')\n",
        "    # summarize history for loss\n",
        "    ax2.plot(history.history['loss'])\n",
        "    ax2.plot(history.history['val_loss'])\n",
        "    ax2.set_ylabel('Loss')\n",
        "    ax2.legend(['train', 'test'], loc='upper left')\n",
        "    \n",
        "    plt.xlabel('Epoch')\n",
        "    plt.show()"
      ],
      "execution_count": 4,
      "outputs": []
    },
    {
      "cell_type": "code",
      "metadata": {
        "id": "Wc3C6S9WpuIC"
      },
      "source": [
        "def print_metrics(saved_model_name, generator, test_or_val):\n",
        "\n",
        "  superior_model = load_model(saved_model_name)\n",
        "  final_scores = superior_model.evaluate_generator(generator)\n",
        "  metrics = ['Loss', 'Accuracy', 'Recall', 'Precision', 'True Positives', 'True Negatives', 'False Positives', 'False Negatives' ]\n",
        "  \n",
        "  for i, metric in enumerate(metrics):\n",
        "    print(test_or_val+' '+ metric + ':', final_scores[i])"
      ],
      "execution_count": 5,
      "outputs": []
    },
    {
      "cell_type": "code",
      "metadata": {
        "id": "eIx9TPCIHFef"
      },
      "source": [
        "def print_metrics_confusionmatrix(saved_model_name, generator, test_or_val):\n",
        "\n",
        "  superior_model = load_model(saved_model_name)\n",
        "  final_scores = superior_model.evaluate_generator(generator)\n",
        "  network_matrix(final_scores)\n",
        "  metrics = ['Loss', 'Accuracy', 'Recall', 'Precision', 'True Positives', 'True Negatives', 'False Positives', 'False Negatives' ]\n",
        "  \n",
        "  for i, metric in enumerate(metrics):\n",
        "    print(test_or_val+' '+ metric + ':', final_scores[i])"
      ],
      "execution_count": 6,
      "outputs": []
    },
    {
      "cell_type": "code",
      "metadata": {
        "id": "Vhkmwv8FHGi_"
      },
      "source": [
        "# I modified this function slightly from the one found on: \n",
        "# https://github.com/austint1121/OES-PneumoniaClassification/blob/main/Final_Notebook.ipynb\n",
        "\n",
        "def network_matrix(model_scores):\n",
        "    \"\"\"\n",
        "    Plots a confusion matrix using the scores that come from evaluating a \n",
        "    neural network model using either testing or validation data\n",
        "   \n",
        "  \n",
        "    Parameters:\n",
        "    model_scores = load_model('model_name.h5').evaluate_generator(test/val_generator) \n",
        "  \n",
        "    Returns:\n",
        "    confusion matrix\n",
        "    \"\"\"\n",
        "    tp = np.round((model_scores[4])/(model_scores[4] + model_scores[7]), 2)\n",
        "    fp = np.round((model_scores[6])/(model_scores[6] + model_scores[5]), 2)\n",
        "    fn = np.round((model_scores[7])/(model_scores[7] + model_scores[4]), 2)\n",
        "    tn = np.round((model_scores[5])/(model_scores[5] + model_scores[6]), 2)\n",
        "    \n",
        "    conf = np.array([[tp, fp], [fn, tn]])\n",
        "    fig, ax = plt.subplots(figsize=(10, 8))\n",
        "    heat = sns.heatmap(conf, annot=True, fmt='g', ax=ax )\n",
        "    heat.set_xticklabels(['Brain Tumor', 'Normal'], fontsize=15)\n",
        "    heat.set_yticklabels(['Brain Tumor', 'Normal'], fontsize=15)\n",
        "    plt.ylabel('True Label',fontsize=18)\n",
        "    plt.xlabel('Predicted Label', fontsize=18)"
      ],
      "execution_count": 7,
      "outputs": []
    },
    {
      "cell_type": "markdown",
      "metadata": {
        "id": "-yOFkcuLHPGk"
      },
      "source": [
        "## **Data Retrieval and Loading**\n",
        "\n",
        "First, I loaded data that I downloaded from kaggle onto my google drive account. Then I followed instructions from [this blog](https://towardsdatascience.com/an-informative-colab-guide-to-load-image-datasets-from-github-kaggle-and-local-machine-75cae89ffa1e) to load the data into this google colab notebook."
      ]
    },
    {
      "cell_type": "code",
      "metadata": {
        "id": "YJgRszjzHNdP",
        "colab": {
          "base_uri": "https://localhost:8080/"
        },
        "outputId": "aa8119d1-dd92-4310-abe4-1086cddd7865"
      },
      "source": [
        "# Retrieve the data\n",
        "from google.colab import drive\n",
        "drive.mount('/content/drive')"
      ],
      "execution_count": 10,
      "outputs": [
        {
          "output_type": "stream",
          "name": "stdout",
          "text": [
            "Mounted at /content/drive\n"
          ]
        }
      ]
    },
    {
      "cell_type": "code",
      "metadata": {
        "id": "oMTT-p76Ha0q"
      },
      "source": [
        "#Import libraries\n",
        "import zipfile\n",
        "import os\n",
        "# Load the data\n",
        "zip_ref = zipfile.ZipFile('/content/drive/MyDrive/Brain_MRI_Tumor_Images.zip', 'r') #Opens the zip file in read mode\n",
        "zip_ref.extractall('/tmp') # Takes out files and puts them into the /tmp folder\n",
        "zip_ref.close()"
      ],
      "execution_count": 11,
      "outputs": []
    },
    {
      "cell_type": "code",
      "metadata": {
        "id": "zaWm6xulHcKN"
      },
      "source": [
        "# Specify the train and test file paths\n",
        "base_direc = '/tmp/Brain_MRI_Tumor_Images'\n",
        "train_direc = os.path.join(base_direc, 'Training')\n",
        "test_direc = os.path.join(base_direc, 'Testing')"
      ],
      "execution_count": 12,
      "outputs": []
    },
    {
      "cell_type": "code",
      "metadata": {
        "id": "rqIdYijIHenA",
        "colab": {
          "base_uri": "https://localhost:8080/"
        },
        "outputId": "5612c667-6792-4b6c-a70e-a8963f6904de"
      },
      "source": [
        "# Code structure from https://github.com/austint1121/OES-PneumoniaClassification/blob/main/Final_Notebook.ipynb\n",
        "# Set up ImageDataGenerator\n",
        "train_imagegen = keras.preprocessing.image.ImageDataGenerator(rescale=1./255,\n",
        "                                   zoom_range=([0.6,1]),\n",
        "                                   rotation_range=10,                           \n",
        "                                   brightness_range=([0.6, 1.5]),\n",
        "                                   horizontal_flip=True,\n",
        "                                   validation_split=0.06) # this will set aside a part of training set for validation data\n",
        "test_imagegen = keras.preprocessing.image.ImageDataGenerator(rescale=1./255,\n",
        "                                   zoom_range=([0.6,1]),\n",
        "                                   rotation_range=10,\n",
        "                                   brightness_range=([0.6,1.5]),\n",
        "                                   horizontal_flip=True)\n",
        "# Bring the data in\n",
        "train_generator = train_imagegen.flow_from_directory(\n",
        "                                    train_direc,\n",
        "                                    classes={'no_tumor_train':0,\n",
        "                                            'AllTumorsTrain':1},\n",
        "                                    target_size=(200,200),\n",
        "                                    batch_size=20,\n",
        "                                    seed=42,\n",
        "                                    class_mode='binary',\n",
        "                                    subset='training')\n",
        "\n",
        "test_generator = test_imagegen.flow_from_directory(\n",
        "                                    test_direc,\n",
        "                                     classes={'no_tumor_test':0,\n",
        "                                            'AllTumorsTest':1},\n",
        "                                    target_size=(200,200),\n",
        "                                    batch_size=20,\n",
        "                                    seed=42,\n",
        "                                    class_mode='binary')\n",
        "\n",
        "val_generator = train_imagegen.flow_from_directory(\n",
        "                                    train_direc,\n",
        "                                     classes={'no_tumor_train':0,\n",
        "                                            'AllTumorsTrain':1},\n",
        "                                    target_size=(200,200),\n",
        "                                    batch_size=20,\n",
        "                                    seed=42,\n",
        "                                    class_mode='binary',\n",
        "                                    subset='validation')"
      ],
      "execution_count": 13,
      "outputs": [
        {
          "output_type": "stream",
          "name": "stdout",
          "text": [
            "Found 2699 images belonging to 2 classes.\n",
            "Found 394 images belonging to 2 classes.\n",
            "Found 171 images belonging to 2 classes.\n"
          ]
        }
      ]
    },
    {
      "cell_type": "markdown",
      "metadata": {
        "id": "OmCjjOpMIpga"
      },
      "source": [
        "## **Baseline CNN Model**"
      ]
    },
    {
      "cell_type": "code",
      "metadata": {
        "id": "wqjNt7hkIp2F"
      },
      "source": [
        "# Building the first baseline model; structure is modified from one shown on:\n",
        "# https://machinelearningmastery.com/how-to-develop-a-cnn-from-scratch-for-cifar-10-photo-classification/\n",
        "baseline = keras.Sequential()\n",
        "baseline.add(layers.Conv2D(32, (3,3), activation='relu', input_shape=(200,200,3)))\n",
        "baseline.add(layers.MaxPooling2D(2,2))\n",
        "baseline.add(layers.Conv2D(64, (3,3), activation='relu'))\n",
        "baseline.add(layers.MaxPooling2D(2,2))\n",
        "\n",
        "baseline.add(layers.Flatten())\n",
        "baseline.add(layers.Dense(128, activation='relu'))\n",
        "baseline.add(layers.Dense(1, activation='sigmoid'))\n",
        "\n",
        "baseline.compile(loss='binary_crossentropy',\n",
        "                optimizer='adam',\n",
        "                metrics=['acc', 'Recall', 'Precision', 'TruePositives', 'TrueNegatives', 'FalsePositives', 'FalseNegatives'])"
      ],
      "execution_count": 16,
      "outputs": []
    },
    {
      "cell_type": "code",
      "metadata": {
        "id": "poS89fI_IvJL",
        "colab": {
          "base_uri": "https://localhost:8080/"
        },
        "outputId": "254edb47-3b97-4194-9fd8-2886f40a51be"
      },
      "source": [
        "# Has been rerun\n",
        "# Info for how to construct steps_per_epoch value from:\n",
        "# https://stackoverflow.com/questions/46010565/checking-validation-results-in-keras-shows-only-50-correct-clearly-random\n",
        "baseline_results = baseline.fit_generator(train_generator,\n",
        "                                         steps_per_epoch=2699 // 20 +1,# number of samples / batch size plus one, so that every batch is included\n",
        "                                         epochs=10,\n",
        "                                        validation_data=test_generator,\n",
        "                                         validation_steps= 394 // 20+1)"
      ],
      "execution_count": 17,
      "outputs": [
        {
          "output_type": "stream",
          "name": "stderr",
          "text": [
            "/usr/local/lib/python3.7/dist-packages/ipykernel_launcher.py:8: UserWarning: `Model.fit_generator` is deprecated and will be removed in a future version. Please use `Model.fit`, which supports generators.\n",
            "  \n"
          ]
        },
        {
          "output_type": "stream",
          "name": "stdout",
          "text": [
            "Epoch 1/10\n",
            "135/135 [==============================] - 39s 280ms/step - loss: 0.4599 - acc: 0.8644 - recall: 0.9970 - precision: 0.8660 - true_positives: 2320.0000 - true_negatives: 13.0000 - false_positives: 359.0000 - false_negatives: 7.0000 - val_loss: 0.6066 - val_acc: 0.6701 - val_recall: 0.7509 - val_precision: 0.7891 - val_true_positives: 217.0000 - val_true_negatives: 47.0000 - val_false_positives: 58.0000 - val_false_negatives: 72.0000\n",
            "Epoch 2/10\n",
            "135/135 [==============================] - 37s 277ms/step - loss: 0.2750 - acc: 0.9014 - recall: 0.9746 - precision: 0.9164 - true_positives: 2268.0000 - true_negatives: 165.0000 - false_positives: 207.0000 - false_negatives: 59.0000 - val_loss: 0.6078 - val_acc: 0.7335 - val_recall: 0.8097 - val_precision: 0.8239 - val_true_positives: 234.0000 - val_true_negatives: 55.0000 - val_false_positives: 50.0000 - val_false_negatives: 55.0000\n",
            "Epoch 3/10\n",
            "135/135 [==============================] - 37s 275ms/step - loss: 0.2309 - acc: 0.9133 - recall: 0.9669 - precision: 0.9348 - true_positives: 2250.0000 - true_negatives: 215.0000 - false_positives: 157.0000 - false_negatives: 77.0000 - val_loss: 0.5999 - val_acc: 0.6701 - val_recall: 0.7543 - val_precision: 0.7870 - val_true_positives: 218.0000 - val_true_negatives: 46.0000 - val_false_positives: 59.0000 - val_false_negatives: 71.0000\n",
            "Epoch 4/10\n",
            "135/135 [==============================] - 37s 276ms/step - loss: 0.2094 - acc: 0.9200 - recall: 0.9682 - precision: 0.9407 - true_positives: 2253.0000 - true_negatives: 230.0000 - false_positives: 142.0000 - false_negatives: 74.0000 - val_loss: 0.7001 - val_acc: 0.6066 - val_recall: 0.5571 - val_precision: 0.8564 - val_true_positives: 161.0000 - val_true_negatives: 78.0000 - val_false_positives: 27.0000 - val_false_negatives: 128.0000\n",
            "Epoch 5/10\n",
            "135/135 [==============================] - 38s 278ms/step - loss: 0.2283 - acc: 0.9114 - recall: 0.9669 - precision: 0.9328 - true_positives: 2250.0000 - true_negatives: 210.0000 - false_positives: 162.0000 - false_negatives: 77.0000 - val_loss: 0.5739 - val_acc: 0.7310 - val_recall: 0.7647 - val_precision: 0.8533 - val_true_positives: 221.0000 - val_true_negatives: 67.0000 - val_false_positives: 38.0000 - val_false_negatives: 68.0000\n",
            "Epoch 6/10\n",
            "135/135 [==============================] - 37s 277ms/step - loss: 0.1927 - acc: 0.9226 - recall: 0.9669 - precision: 0.9446 - true_positives: 2250.0000 - true_negatives: 240.0000 - false_positives: 132.0000 - false_negatives: 77.0000 - val_loss: 0.6381 - val_acc: 0.6624 - val_recall: 0.6540 - val_precision: 0.8514 - val_true_positives: 189.0000 - val_true_negatives: 72.0000 - val_false_positives: 33.0000 - val_false_negatives: 100.0000\n",
            "Epoch 7/10\n",
            "135/135 [==============================] - 37s 276ms/step - loss: 0.1767 - acc: 0.9315 - recall: 0.9708 - precision: 0.9508 - true_positives: 2259.0000 - true_negatives: 255.0000 - false_positives: 117.0000 - false_negatives: 68.0000 - val_loss: 0.8943 - val_acc: 0.5584 - val_recall: 0.4810 - val_precision: 0.8528 - val_true_positives: 139.0000 - val_true_negatives: 81.0000 - val_false_positives: 24.0000 - val_false_negatives: 150.0000\n",
            "Epoch 8/10\n",
            "135/135 [==============================] - 37s 275ms/step - loss: 0.1837 - acc: 0.9307 - recall: 0.9695 - precision: 0.9511 - true_positives: 2256.0000 - true_negatives: 256.0000 - false_positives: 116.0000 - false_negatives: 71.0000 - val_loss: 0.6711 - val_acc: 0.6751 - val_recall: 0.6851 - val_precision: 0.8426 - val_true_positives: 198.0000 - val_true_negatives: 68.0000 - val_false_positives: 37.0000 - val_false_negatives: 91.0000\n",
            "Epoch 9/10\n",
            "135/135 [==============================] - 37s 276ms/step - loss: 0.1837 - acc: 0.9281 - recall: 0.9656 - precision: 0.9517 - true_positives: 2247.0000 - true_negatives: 258.0000 - false_positives: 114.0000 - false_negatives: 80.0000 - val_loss: 0.6164 - val_acc: 0.6371 - val_recall: 0.5986 - val_precision: 0.8650 - val_true_positives: 173.0000 - val_true_negatives: 78.0000 - val_false_positives: 27.0000 - val_false_negatives: 116.0000\n",
            "Epoch 10/10\n",
            "135/135 [==============================] - 37s 275ms/step - loss: 0.1539 - acc: 0.9385 - recall: 0.9721 - precision: 0.9573 - true_positives: 2262.0000 - true_negatives: 271.0000 - false_positives: 101.0000 - false_negatives: 65.0000 - val_loss: 0.7056 - val_acc: 0.6523 - val_recall: 0.6471 - val_precision: 0.8423 - val_true_positives: 187.0000 - val_true_negatives: 70.0000 - val_false_positives: 35.0000 - val_false_negatives: 102.0000\n"
          ]
        }
      ]
    },
    {
      "cell_type": "code",
      "metadata": {
        "id": "tOQwVNo4I9Lr",
        "colab": {
          "base_uri": "https://localhost:8080/",
          "height": 308
        },
        "outputId": "85fed63b-0573-452d-fcb6-a8b05d5f9524"
      },
      "source": [
        "visualize_training_results(baseline_results)"
      ],
      "execution_count": 18,
      "outputs": [
        {
          "output_type": "display_data",
          "data": {
            "image/png": "[encoded data removed]",
            "text/plain": [
              "<Figure size 432x288 with 2 Axes>"
            ]
          },
          "metadata": {
            "needs_background": "light"
          }
        }
      ]
    },
    {
      "cell_type": "markdown",
      "metadata": {
        "id": "oPxrlYPtJBln"
      },
      "source": [
        "**Analysis of Model**\n",
        "\n",
        "In the last epoch, the training accuracy is 93% and testing accuracy is 58%, with a training loss of 17% and a testing loss of 76%. Testing recall is 50% and testing precision is 86%. Obviously, the model is overfitting, and loss is quite high; the recall score is very low as well. In the next model iteration, I will add another dense layer, which will hopefully help the model pick up on more patterns, and some dropout layers for a form of regularization."
      ]
    },
    {
      "cell_type": "markdown",
      "metadata": {
        "id": "qOI1a6gEJOa0"
      },
      "source": [
        "## **Adding another Dense layer and Dropout layers**"
      ]
    },
    {
      "cell_type": "code",
      "metadata": {
        "id": "UimaztGZJGXE"
      },
      "source": [
        "# Adding another dense layer and a couple of dropout layers; structure is modified from one shown on:\n",
        "# https://machinelearningmastery.com/how-to-develop-a-cnn-from-scratch-for-cifar-10-photo-classification/\n",
        "layers_drop = keras.Sequential()\n",
        "layers_drop.add(layers.Conv2D(32, (3,3), activation='relu', input_shape=(200,200,3)))\n",
        "layers_drop.add(layers.MaxPooling2D(2,2))\n",
        "layers_drop.add(layers.Conv2D(64, (3,3), activation='relu'))\n",
        "layers_drop.add(layers.MaxPooling2D(2,2))\n",
        "\n",
        "layers_drop.add(layers.Flatten())\n",
        "layers_drop.add(layers.Dense(128, activation='relu'))\n",
        "layers_drop.add(layers.Dropout(0.3))\n",
        "layers_drop.add(layers.Dense(64, activation='relu'))\n",
        "layers_drop.add(layers.Dropout(0.3))\n",
        "layers_drop.add(layers.Dense(1, activation='sigmoid'))\n",
        "\n",
        "layers_drop.compile(loss='binary_crossentropy',\n",
        "                optimizer='adam',\n",
        "                metrics=['acc', 'Recall', 'Precision', 'TruePositives', 'TrueNegatives', 'FalsePositives', 'FalseNegatives'])"
      ],
      "execution_count": 19,
      "outputs": []
    },
    {
      "cell_type": "code",
      "metadata": {
        "id": "O0rdeNTwJVZE",
        "colab": {
          "base_uri": "https://localhost:8080/"
        },
        "outputId": "c3c2d83e-43f0-4653-f8bb-90ac504e7d94"
      },
      "source": [
        "# has been rerun\n",
        "# Fitting the model\n",
        "layers_drop_results = layers_drop.fit_generator(train_generator,\n",
        "                                         steps_per_epoch=2699 // 20+1,# number of samples / batch size\n",
        "                                         epochs=10,\n",
        "                                         validation_data=test_generator,\n",
        "                                        validation_steps= 394 // 20+1)"
      ],
      "execution_count": 20,
      "outputs": [
        {
          "output_type": "stream",
          "name": "stderr",
          "text": [
            "/usr/local/lib/python3.7/dist-packages/ipykernel_launcher.py:7: UserWarning: `Model.fit_generator` is deprecated and will be removed in a future version. Please use `Model.fit`, which supports generators.\n",
            "  import sys\n"
          ]
        },
        {
          "output_type": "stream",
          "name": "stdout",
          "text": [
            "Epoch 1/10\n",
            "135/135 [==============================] - 40s 284ms/step - loss: 0.4637 - acc: 0.8581 - recall: 0.9914 - precision: 0.8640 - true_positives: 2307.0000 - true_negatives: 9.0000 - false_positives: 363.0000 - false_negatives: 20.0000 - val_loss: 0.6027 - val_acc: 0.7335 - val_recall: 1.0000 - val_precision: 0.7335 - val_true_positives: 289.0000 - val_true_negatives: 0.0000e+00 - val_false_positives: 105.0000 - val_false_negatives: 0.0000e+00\n",
            "Epoch 2/10\n",
            "135/135 [==============================] - 37s 278ms/step - loss: 0.3379 - acc: 0.8725 - recall: 0.9944 - precision: 0.8749 - true_positives: 2314.0000 - true_negatives: 41.0000 - false_positives: 331.0000 - false_negatives: 13.0000 - val_loss: 0.5985 - val_acc: 0.7132 - val_recall: 0.7924 - val_precision: 0.8121 - val_true_positives: 229.0000 - val_true_negatives: 52.0000 - val_false_positives: 53.0000 - val_false_negatives: 60.0000\n",
            "Epoch 3/10\n",
            "135/135 [==============================] - 37s 278ms/step - loss: 0.2935 - acc: 0.8989 - recall: 0.9759 - precision: 0.9128 - true_positives: 2271.0000 - true_negatives: 155.0000 - false_positives: 217.0000 - false_negatives: 56.0000 - val_loss: 0.8406 - val_acc: 0.6320 - val_recall: 0.6159 - val_precision: 0.8396 - val_true_positives: 178.0000 - val_true_negatives: 71.0000 - val_false_positives: 34.0000 - val_false_negatives: 111.0000\n",
            "Epoch 4/10\n",
            "135/135 [==============================] - 37s 277ms/step - loss: 0.2668 - acc: 0.8977 - recall: 0.9768 - precision: 0.9110 - true_positives: 2273.0000 - true_negatives: 150.0000 - false_positives: 222.0000 - false_negatives: 54.0000 - val_loss: 0.8277 - val_acc: 0.6345 - val_recall: 0.5952 - val_precision: 0.8643 - val_true_positives: 172.0000 - val_true_negatives: 78.0000 - val_false_positives: 27.0000 - val_false_negatives: 117.0000\n",
            "Epoch 5/10\n",
            "135/135 [==============================] - 37s 277ms/step - loss: 0.2386 - acc: 0.9107 - recall: 0.9678 - precision: 0.9313 - true_positives: 2252.0000 - true_negatives: 206.0000 - false_positives: 166.0000 - false_negatives: 75.0000 - val_loss: 0.5487 - val_acc: 0.7259 - val_recall: 0.7578 - val_precision: 0.8521 - val_true_positives: 219.0000 - val_true_negatives: 67.0000 - val_false_positives: 38.0000 - val_false_negatives: 70.0000\n",
            "Epoch 6/10\n",
            "135/135 [==============================] - 37s 277ms/step - loss: 0.2260 - acc: 0.9148 - recall: 0.9686 - precision: 0.9349 - true_positives: 2254.0000 - true_negatives: 215.0000 - false_positives: 157.0000 - false_negatives: 73.0000 - val_loss: 0.5560 - val_acc: 0.7284 - val_recall: 0.7336 - val_precision: 0.8760 - val_true_positives: 212.0000 - val_true_negatives: 75.0000 - val_false_positives: 30.0000 - val_false_negatives: 77.0000\n",
            "Epoch 7/10\n",
            "135/135 [==============================] - 37s 277ms/step - loss: 0.2250 - acc: 0.9192 - recall: 0.9738 - precision: 0.9352 - true_positives: 2266.0000 - true_negatives: 215.0000 - false_positives: 157.0000 - false_negatives: 61.0000 - val_loss: 0.7417 - val_acc: 0.6497 - val_recall: 0.5917 - val_precision: 0.8953 - val_true_positives: 171.0000 - val_true_negatives: 85.0000 - val_false_positives: 20.0000 - val_false_negatives: 118.0000\n",
            "Epoch 8/10\n",
            "135/135 [==============================] - 37s 276ms/step - loss: 0.2136 - acc: 0.9215 - recall: 0.9695 - precision: 0.9412 - true_positives: 2256.0000 - true_negatives: 231.0000 - false_positives: 141.0000 - false_negatives: 71.0000 - val_loss: 0.6864 - val_acc: 0.6726 - val_recall: 0.6332 - val_precision: 0.8883 - val_true_positives: 183.0000 - val_true_negatives: 82.0000 - val_false_positives: 23.0000 - val_false_negatives: 106.0000\n",
            "Epoch 9/10\n",
            "135/135 [==============================] - 37s 276ms/step - loss: 0.2040 - acc: 0.9200 - recall: 0.9691 - precision: 0.9400 - true_positives: 2255.0000 - true_negatives: 228.0000 - false_positives: 144.0000 - false_negatives: 72.0000 - val_loss: 0.5922 - val_acc: 0.7208 - val_recall: 0.7266 - val_precision: 0.8714 - val_true_positives: 210.0000 - val_true_negatives: 74.0000 - val_false_positives: 31.0000 - val_false_negatives: 79.0000\n",
            "Epoch 10/10\n",
            "135/135 [==============================] - 38s 278ms/step - loss: 0.1787 - acc: 0.9278 - recall: 0.9661 - precision: 0.9509 - true_positives: 2248.0000 - true_negatives: 256.0000 - false_positives: 116.0000 - false_negatives: 79.0000 - val_loss: 0.5889 - val_acc: 0.6345 - val_recall: 0.5813 - val_precision: 0.8796 - val_true_positives: 168.0000 - val_true_negatives: 82.0000 - val_false_positives: 23.0000 - val_false_negatives: 121.0000\n"
          ]
        }
      ]
    },
    {
      "cell_type": "code",
      "metadata": {
        "id": "-olIcdyRJZbI",
        "colab": {
          "base_uri": "https://localhost:8080/",
          "height": 308
        },
        "outputId": "b96fcdbc-77c3-44c0-ee1e-e59c449938ae"
      },
      "source": [
        "# Look at how accuracy and loss change across the epochs, for training and testing data\n",
        "visualize_training_results(layers_drop_results)"
      ],
      "execution_count": 21,
      "outputs": [
        {
          "output_type": "display_data",
          "data": {
            "image/png": "[encoded data removed]",
            "text/plain": [
              "<Figure size 432x288 with 2 Axes>"
            ]
          },
          "metadata": {
            "needs_background": "light"
          }
        }
      ]
    },
    {
      "cell_type": "markdown",
      "metadata": {
        "id": "a7Kn8puRJbN_"
      },
      "source": [
        "**Analysis of Model**\n",
        "\n",
        "In this iteration, training accuracy ends up at 92%, and testing ends up at 70%, so the model is still overfitting. As for loss, training loss is 21% and testing loss is 57%, which is not drastically different from the last model. Testing recall is 65% and testing precision is 91%. In the next model iteration I am going to try including another Convolution Layer, to see if this will help the model pick up on more patterns."
      ]
    },
    {
      "cell_type": "code",
      "metadata": {
        "id": "phUtGNI8VJtl"
      },
      "source": [
        ""
      ],
      "execution_count": null,
      "outputs": []
    },
    {
      "cell_type": "markdown",
      "metadata": {
        "id": "SzCw_K0ZJf-M"
      },
      "source": [
        "## **Accounting for Class Imbalance**"
      ]
    },
    {
      "cell_type": "code",
      "metadata": {
        "id": "_RmWJhs_JeTI"
      },
      "source": [
        "# Accounting for class imbalance; structure is modified from one shown on:\n",
        "# https://machinelearningmastery.com/how-to-develop-a-cnn-from-scratch-for-cifar-10-photo-classification/\n",
        "\n",
        "class_ld = keras.Sequential()\n",
        "class_ld.add(layers.Conv2D(32, (3,3), activation='relu', input_shape=(200,200,3)))\n",
        "class_ld.add(layers.MaxPooling2D(2,2))\n",
        "class_ld.add(layers.Conv2D(64, (3,3), activation='relu'))\n",
        "class_ld.add(layers.MaxPooling2D(2,2))\n",
        "\n",
        "class_ld.add(layers.Flatten())\n",
        "class_ld.add(layers.Dense(128, activation='relu'))\n",
        "class_ld.add(layers.Dropout(0.3))\n",
        "class_ld.add(layers.Dense(64, activation='relu'))\n",
        "class_ld.add(layers.Dropout(0.3))\n",
        "class_ld.add(layers.Dense(1, activation='sigmoid'))\n",
        "\n",
        "class_ld.compile(loss='binary_crossentropy',\n",
        "                optimizer='adam',\n",
        "                metrics=['acc', 'Recall', 'Precision', 'TruePositives', 'TrueNegatives', 'FalsePositives', 'FalseNegatives'])\n",
        "weights = {0: 6.255, # NO TUMOR\n",
        "          1: 1.} #  TUMOR \n",
        "# there are 6.255 times as many images of MRIs with tumors than without"
      ],
      "execution_count": null,
      "outputs": []
    },
    {
      "cell_type": "code",
      "metadata": {
        "id": "w8rgHdAuJpfC"
      },
      "source": [
        "# has been rerun\n",
        "# Fitting the model\n",
        "class_ld_results = class_ld.fit_generator(train_generator,\n",
        "                                          class_weight=weights,\n",
        "                                         steps_per_epoch=2699//20+1,# number of samples / batch size\n",
        "                                         epochs=10,\n",
        "                                         validation_data=test_generator,\n",
        "                                         validation_steps=394//20+1)"
      ],
      "execution_count": null,
      "outputs": []
    },
    {
      "cell_type": "code",
      "metadata": {
        "id": "S4Jiu3l2Jtp9"
      },
      "source": [
        "# Look at how accuracy and loss change across the epochs, for training and testing data\n",
        "visualize_training_results(class_ld_results)"
      ],
      "execution_count": null,
      "outputs": []
    },
    {
      "cell_type": "markdown",
      "metadata": {
        "id": "xemzlMv0Ju1i"
      },
      "source": [
        "**Analysis of Model**\n",
        "\n",
        "In this model iteration, training accuracy was about 87% and testing accuracy is about 49%, so the model is still overfitting, more so than in the last model. Loss for training is at around 58% and testing loss is around 133%. Testing recall is 32% and testing precision is 95%; it is clear that accounting for class imbalance in this way has made the model worse. Further research lead me to a [great article](https://www.analyticsvidhya.com/blog/2020/10/improve-class-imbalance-class-weights/), which discusses how class weights should be calculated. It mentions how adding too much weight to the minority class can sometimes cause the model to show a bias towards it, getting more images in the majority class wrong and making the model less robust. The calculation for what weight to put on the minority class is: total # samples / (2 * number of samples in the minority class). This calculation applied to the training data samples is as follows: 2870/(2*395), which comes out to be about 3.63. So, the class weight for the minority class, in this case \"no_tumor\" MRIs, should be close to 3.63. In the next model, I will see if a class weight of three applied to the no tumor images will be beneficial."
      ]
    },
    {
      "cell_type": "markdown",
      "metadata": {
        "id": "tDLOEeoHJyzt"
      },
      "source": [
        "## **Adjusting Class Weights of Previous Model**"
      ]
    },
    {
      "cell_type": "code",
      "metadata": {
        "id": "OBtXUWfvJx3q"
      },
      "source": [
        "# Accounting for class imbalance; structure is modified from one shown on:\n",
        "# https://machinelearningmastery.com/how-to-develop-a-cnn-from-scratch-for-cifar-10-photo-classification/\n",
        "\n",
        "adjclass_ld = keras.Sequential()\n",
        "adjclass_ld.add(layers.Conv2D(32, (3,3), activation='relu', input_shape=(200,200,3)))\n",
        "adjclass_ld.add(layers.MaxPooling2D(2,2))\n",
        "adjclass_ld.add(layers.Conv2D(64, (3,3), activation='relu'))\n",
        "adjclass_ld.add(layers.MaxPooling2D(2,2))\n",
        "\n",
        "adjclass_ld.add(layers.Flatten())\n",
        "adjclass_ld.add(layers.Dense(128, activation='relu'))\n",
        "adjclass_ld.add(layers.Dropout(0.3))\n",
        "adjclass_ld.add(layers.Dense(64, activation='relu'))\n",
        "adjclass_ld.add(layers.Dropout(0.3))\n",
        "adjclass_ld.add(layers.Dense(1, activation='sigmoid'))\n",
        "\n",
        "adjclass_ld.compile(loss='binary_crossentropy',\n",
        "                optimizer='adam',\n",
        "                metrics=['acc', 'Recall', 'Precision', 'TruePositives', 'TrueNegatives', 'FalsePositives', 'FalseNegatives'])\n",
        "# Incorporating adjusted class weights; compiling and fitting the model\n",
        "weights3 = {0: 3, # NO TUMOR\n",
        "          1:1.} # TUMOR \n",
        "# there are 6.255 times as many images of MRIs with tumors than without, but acording to the class weight calculation, I should \n",
        "# use a number close to 3.63 for the minority class, in this case the no tumor, or \"zero\" class."
      ],
      "execution_count": null,
      "outputs": []
    },
    {
      "cell_type": "code",
      "metadata": {
        "id": "sMiLcDYzJ6RA"
      },
      "source": [
        "# has been rerun\n",
        "# Fitting the model\n",
        "adjclass_ld_results = adjclass_ld.fit_generator(train_generator,\n",
        "                                          class_weight=weights3,\n",
        "                                         steps_per_epoch=2699//20+1,# number of samples / batch size\n",
        "                                         epochs=10,\n",
        "                                         validation_data=test_generator,\n",
        "                                         validation_steps=394//20+1)"
      ],
      "execution_count": null,
      "outputs": []
    },
    {
      "cell_type": "code",
      "metadata": {
        "id": "BOiozt7UJ9tB"
      },
      "source": [
        "visualize_training_results(adjclass_ld_results)"
      ],
      "execution_count": null,
      "outputs": []
    },
    {
      "cell_type": "markdown",
      "metadata": {
        "id": "5bXFOrNsKA42"
      },
      "source": [
        "**Analysis of model**\n",
        "\n",
        "Training accuracy is 91% and testing accuracy is 60%, with a training loss of 35% and a testing loss of 80%. Testing recall is 49% and testing precision is 93%. Although this model still requires much fine tuning, it is clear that adjusting the class weights made it perform a bit better, so these weights will be used from now on. In the next iteration, I will try incorporating class weights."
      ]
    },
    {
      "cell_type": "markdown",
      "metadata": {
        "id": "4nl0IE8GVFaf"
      },
      "source": [
        "## **Adding another Convolution Layer**"
      ]
    },
    {
      "cell_type": "code",
      "metadata": {
        "id": "D3oITVPcVS-b"
      },
      "source": [
        "# Another Convolution layer; structure is modified from one shown on:\n",
        "# https://machinelearningmastery.com/how-to-develop-a-cnn-from-scratch-for-cifar-10-photo-classification/\n",
        "class_con = keras.Sequential()\n",
        "class_con.add(layers.Conv2D(32, (3,3), activation='relu', input_shape=(200,200,3)))\n",
        "class_con.add(layers.MaxPooling2D(2,2))\n",
        "class_con.add(layers.Conv2D(64, (3,3), activation='relu'))\n",
        "class_con.add(layers.MaxPooling2D(2,2))\n",
        "class_con.add(layers.Conv2D(128, (3,3), activation='relu'))\n",
        "class_con.add(layers.MaxPooling2D(2,2))\n",
        "\n",
        "class_con.add(layers.Flatten())\n",
        "class_con.add(layers.Dense(128, activation='relu'))\n",
        "class_con.add(layers.Dropout(0.3))\n",
        "class_con.add(layers.Dense(64, activation='relu'))\n",
        "class_con.add(layers.Dropout(0.3))\n",
        "class_con.add(layers.Dense(1, activation='sigmoid'))\n",
        "\n",
        "class_con.compile(loss='binary_crossentropy',\n",
        "                optimizer='adam',\n",
        "                metrics=['acc', 'Recall', 'Precision', 'TruePositives', 'TrueNegatives', 'FalsePositives', 'FalseNegatives'])\n",
        "weights3 = {0: 3, # NO TUMOR\n",
        "          1: 1.} # TUMOR"
      ],
      "execution_count": null,
      "outputs": []
    },
    {
      "cell_type": "code",
      "metadata": {
        "id": "u-277jDvVWeV",
        "colab": {
          "base_uri": "https://localhost:8080/"
        },
        "outputId": "da910f12-eda1-480c-8670-473bbc25f9fb"
      },
      "source": [
        "class_con_results = class_con.fit_generator(train_generator,\n",
        "                                          class_weight=weights3,\n",
        "                                         steps_per_epoch=2699//20+1,# number of samples / batch size\n",
        "                                         epochs=10,\n",
        "                                         validation_data=test_generator,\n",
        "                                         validation_steps=394//20+1)"
      ],
      "execution_count": null,
      "outputs": [
        {
          "output_type": "stream",
          "name": "stderr",
          "text": [
            "/usr/local/lib/python3.7/dist-packages/ipykernel_launcher.py:6: UserWarning: `Model.fit_generator` is deprecated and will be removed in a future version. Please use `Model.fit`, which supports generators.\n",
            "  \n"
          ]
        },
        {
          "output_type": "stream",
          "name": "stdout",
          "text": [
            "Epoch 1/10\n",
            "135/135 [==============================] - 46s 271ms/step - loss: 0.7695 - acc: 0.8477 - recall: 0.9648 - precision: 0.8722 - true_positives: 2245.0000 - true_negatives: 43.0000 - false_positives: 329.0000 - false_negatives: 82.0000 - val_loss: 0.6625 - val_acc: 0.5863 - val_recall: 0.5744 - val_precision: 0.8058 - val_true_positives: 166.0000 - val_true_negatives: 65.0000 - val_false_positives: 40.0000 - val_false_negatives: 123.0000\n",
            "Epoch 2/10\n",
            "135/135 [==============================] - 36s 269ms/step - loss: 0.6209 - acc: 0.8562 - recall: 0.9050 - precision: 0.9265 - true_positives: 2106.0000 - true_negatives: 205.0000 - false_positives: 167.0000 - false_negatives: 221.0000 - val_loss: 0.6544 - val_acc: 0.6523 - val_recall: 0.7163 - val_precision: 0.7901 - val_true_positives: 207.0000 - val_true_negatives: 50.0000 - val_false_positives: 55.0000 - val_false_negatives: 82.0000\n",
            "Epoch 3/10\n",
            "135/135 [==============================] - 36s 270ms/step - loss: 0.5075 - acc: 0.8674 - recall: 0.8994 - precision: 0.9441 - true_positives: 2093.0000 - true_negatives: 248.0000 - false_positives: 124.0000 - false_negatives: 234.0000 - val_loss: 0.7695 - val_acc: 0.6396 - val_recall: 0.6263 - val_precision: 0.8419 - val_true_positives: 181.0000 - val_true_negatives: 71.0000 - val_false_positives: 34.0000 - val_false_negatives: 108.0000\n",
            "Epoch 4/10\n",
            "135/135 [==============================] - 36s 268ms/step - loss: 0.4530 - acc: 0.9011 - recall: 0.9252 - precision: 0.9586 - true_positives: 2153.0000 - true_negatives: 279.0000 - false_positives: 93.0000 - false_negatives: 174.0000 - val_loss: 1.3356 - val_acc: 0.4569 - val_recall: 0.3391 - val_precision: 0.8099 - val_true_positives: 98.0000 - val_true_negatives: 82.0000 - val_false_positives: 23.0000 - val_false_negatives: 191.0000\n",
            "Epoch 5/10\n",
            "135/135 [==============================] - 36s 269ms/step - loss: 0.4272 - acc: 0.9029 - recall: 0.9226 - precision: 0.9632 - true_positives: 2147.0000 - true_negatives: 290.0000 - false_positives: 82.0000 - false_negatives: 180.0000 - val_loss: 0.8064 - val_acc: 0.5330 - val_recall: 0.4498 - val_precision: 0.8387 - val_true_positives: 130.0000 - val_true_negatives: 80.0000 - val_false_positives: 25.0000 - val_false_negatives: 159.0000\n",
            "Epoch 6/10\n",
            "135/135 [==============================] - 37s 271ms/step - loss: 0.4036 - acc: 0.9011 - recall: 0.9192 - precision: 0.9644 - true_positives: 2139.0000 - true_negatives: 293.0000 - false_positives: 79.0000 - false_negatives: 188.0000 - val_loss: 0.9354 - val_acc: 0.5863 - val_recall: 0.5190 - val_precision: 0.8621 - val_true_positives: 150.0000 - val_true_negatives: 81.0000 - val_false_positives: 24.0000 - val_false_negatives: 139.0000\n",
            "Epoch 7/10\n",
            "135/135 [==============================] - 36s 270ms/step - loss: 0.3735 - acc: 0.9089 - recall: 0.9235 - precision: 0.9693 - true_positives: 2149.0000 - true_negatives: 304.0000 - false_positives: 68.0000 - false_negatives: 178.0000 - val_loss: 0.8460 - val_acc: 0.5457 - val_recall: 0.4533 - val_precision: 0.8618 - val_true_positives: 131.0000 - val_true_negatives: 84.0000 - val_false_positives: 21.0000 - val_false_negatives: 158.0000\n",
            "Epoch 8/10\n",
            "135/135 [==============================] - 36s 268ms/step - loss: 0.3399 - acc: 0.9177 - recall: 0.9308 - precision: 0.9726 - true_positives: 2166.0000 - true_negatives: 311.0000 - false_positives: 61.0000 - false_negatives: 161.0000 - val_loss: 1.1068 - val_acc: 0.5305 - val_recall: 0.4118 - val_precision: 0.8881 - val_true_positives: 119.0000 - val_true_negatives: 90.0000 - val_false_positives: 15.0000 - val_false_negatives: 170.0000\n",
            "Epoch 9/10\n",
            "135/135 [==============================] - 36s 267ms/step - loss: 0.3545 - acc: 0.9122 - recall: 0.9244 - precision: 0.9724 - true_positives: 2151.0000 - true_negatives: 311.0000 - false_positives: 61.0000 - false_negatives: 176.0000 - val_loss: 0.8196 - val_acc: 0.5761 - val_recall: 0.4913 - val_precision: 0.8765 - val_true_positives: 142.0000 - val_true_negatives: 85.0000 - val_false_positives: 20.0000 - val_false_negatives: 147.0000\n",
            "Epoch 10/10\n",
            "135/135 [==============================] - 36s 268ms/step - loss: 0.3125 - acc: 0.9196 - recall: 0.9291 - precision: 0.9765 - true_positives: 2162.0000 - true_negatives: 320.0000 - false_positives: 52.0000 - false_negatives: 165.0000 - val_loss: 0.7552 - val_acc: 0.5939 - val_recall: 0.5156 - val_precision: 0.8817 - val_true_positives: 149.0000 - val_true_negatives: 85.0000 - val_false_positives: 20.0000 - val_false_negatives: 140.0000\n"
          ]
        }
      ]
    },
    {
      "cell_type": "code",
      "metadata": {
        "id": "teg7ZqBQVYku",
        "colab": {
          "base_uri": "https://localhost:8080/",
          "height": 308
        },
        "outputId": "7787815b-6b83-4bfc-d3f5-e18da3de08d5"
      },
      "source": [
        "visualize_training_results(class_con_results)"
      ],
      "execution_count": null,
      "outputs": [
        {
          "output_type": "display_data",
          "data": {
            "image/png": "[encoded data removed]",
            "text/plain": [
              "<Figure size 432x288 with 2 Axes>"
            ]
          },
          "metadata": {
            "needs_background": "light"
          }
        }
      ]
    },
    {
      "cell_type": "markdown",
      "metadata": {
        "id": "TLOReWX7dFU4"
      },
      "source": [
        "**Analysis of Model**\n",
        "\n",
        "The last epoch had a training accuracy of 92% and a testing accuracy of 59%, with a training loss of 33% and a testing loss of 83%. Testing recall is 51% and testing precision is 89%. Adding another convolution layer did not seem to improve the network results; next I will adjust the pooling strategy, to see if this improves the model. "
      ]
    },
    {
      "cell_type": "markdown",
      "metadata": {
        "id": "MNx14qyjVssF"
      },
      "source": [
        "## **Adjusting the Pooling Strategy**"
      ]
    },
    {
      "cell_type": "code",
      "metadata": {
        "id": "ca0SvRvaV07h"
      },
      "source": [
        "# Another Convolution layer; structure is modified from one shown on:\n",
        "# https://machinelearningmastery.com/how-to-develop-a-cnn-from-scratch-for-cifar-10-photo-classification/\n",
        "class_pool = keras.Sequential()\n",
        "class_pool.add(layers.Conv2D(32, (3,3), activation='relu', input_shape=(200,200,3)))\n",
        "class_pool.add(layers.MaxPooling2D(2,2))\n",
        "class_pool.add(layers.Conv2D(64, (3,3), activation='relu'))\n",
        "class_pool.add(layers.MaxPooling2D(3,3))\n",
        "class_pool.add(layers.Conv2D(128, (3,3), activation='relu'))\n",
        "class_pool.add(layers.MaxPooling2D(5,5))\n",
        "\n",
        "class_pool.add(layers.Flatten())\n",
        "class_pool.add(layers.Dense(128, activation='relu'))\n",
        "class_pool.add(layers.Dropout(0.3))\n",
        "class_pool.add(layers.Dense(64, activation='relu'))\n",
        "class_pool.add(layers.Dropout(0.3))\n",
        "class_pool.add(layers.Dense(1, activation='sigmoid'))\n",
        "\n",
        "class_pool.compile(loss='binary_crossentropy',\n",
        "                optimizer='adam',\n",
        "                metrics=['acc', 'Recall', 'Precision', 'TruePositives', 'TrueNegatives', 'FalsePositives', 'FalseNegatives'])\n",
        "weights3 = {0: 3, # NO TUMOR\n",
        "          1: 1.} # TUMOR\n",
        "# there are 6.255 times as many images of MRIs with tumors than without"
      ],
      "execution_count": null,
      "outputs": []
    },
    {
      "cell_type": "code",
      "metadata": {
        "id": "fcdMkOQoWBKw",
        "colab": {
          "base_uri": "https://localhost:8080/"
        },
        "outputId": "1ed2cc92-f2eb-499b-e631-a1509859df24"
      },
      "source": [
        "class_pool_results = class_pool.fit_generator(train_generator,\n",
        "                                          class_weight=weights3,\n",
        "                                         steps_per_epoch=2699//20+1 ,# number of samples / batch size\n",
        "                                         epochs=10,\n",
        "                                         validation_data=test_generator,\n",
        "                                         validation_steps=394//20+1)"
      ],
      "execution_count": null,
      "outputs": [
        {
          "output_type": "stream",
          "name": "stderr",
          "text": [
            "/usr/local/lib/python3.7/dist-packages/ipykernel_launcher.py:6: UserWarning: `Model.fit_generator` is deprecated and will be removed in a future version. Please use `Model.fit`, which supports generators.\n",
            "  \n"
          ]
        },
        {
          "output_type": "stream",
          "name": "stdout",
          "text": [
            "Epoch 1/10\n",
            "135/135 [==============================] - 39s 277ms/step - loss: 0.7635 - acc: 0.8503 - recall: 0.9635 - precision: 0.8754 - true_positives: 2242.0000 - true_negatives: 53.0000 - false_positives: 319.0000 - false_negatives: 85.0000 - val_loss: 0.7051 - val_acc: 0.5178 - val_recall: 0.4706 - val_precision: 0.7861 - val_true_positives: 136.0000 - val_true_negatives: 68.0000 - val_false_positives: 37.0000 - val_false_negatives: 153.0000\n",
            "Epoch 2/10\n",
            "135/135 [==============================] - 36s 268ms/step - loss: 0.5703 - acc: 0.8581 - recall: 0.9007 - precision: 0.9324 - true_positives: 2096.0000 - true_negatives: 220.0000 - false_positives: 152.0000 - false_negatives: 231.0000 - val_loss: 0.8085 - val_acc: 0.5381 - val_recall: 0.4394 - val_precision: 0.8639 - val_true_positives: 127.0000 - val_true_negatives: 85.0000 - val_false_positives: 20.0000 - val_false_negatives: 162.0000\n",
            "Epoch 3/10\n",
            "135/135 [==============================] - 36s 269ms/step - loss: 0.5470 - acc: 0.8607 - recall: 0.9098 - precision: 0.9273 - true_positives: 2117.0000 - true_negatives: 206.0000 - false_positives: 166.0000 - false_negatives: 210.0000 - val_loss: 0.8047 - val_acc: 0.5787 - val_recall: 0.5052 - val_precision: 0.8639 - val_true_positives: 146.0000 - val_true_negatives: 82.0000 - val_false_positives: 23.0000 - val_false_negatives: 143.0000\n",
            "Epoch 4/10\n",
            "135/135 [==============================] - 36s 269ms/step - loss: 0.4448 - acc: 0.8911 - recall: 0.9141 - precision: 0.9577 - true_positives: 2127.0000 - true_negatives: 278.0000 - false_positives: 94.0000 - false_negatives: 200.0000 - val_loss: 0.6673 - val_acc: 0.6954 - val_recall: 0.6886 - val_precision: 0.8690 - val_true_positives: 199.0000 - val_true_negatives: 75.0000 - val_false_positives: 30.0000 - val_false_negatives: 90.0000\n",
            "Epoch 5/10\n",
            "135/135 [==============================] - 36s 268ms/step - loss: 0.4125 - acc: 0.9033 - recall: 0.9278 - precision: 0.9587 - true_positives: 2159.0000 - true_negatives: 279.0000 - false_positives: 93.0000 - false_negatives: 168.0000 - val_loss: 0.9299 - val_acc: 0.5152 - val_recall: 0.4014 - val_precision: 0.8657 - val_true_positives: 116.0000 - val_true_negatives: 87.0000 - val_false_positives: 18.0000 - val_false_negatives: 173.0000\n",
            "Epoch 6/10\n",
            "135/135 [==============================] - 36s 266ms/step - loss: 0.3609 - acc: 0.9085 - recall: 0.9244 - precision: 0.9680 - true_positives: 2151.0000 - true_negatives: 301.0000 - false_positives: 71.0000 - false_negatives: 176.0000 - val_loss: 0.7342 - val_acc: 0.5558 - val_recall: 0.4983 - val_precision: 0.8276 - val_true_positives: 144.0000 - val_true_negatives: 75.0000 - val_false_positives: 30.0000 - val_false_negatives: 145.0000\n",
            "Epoch 7/10\n",
            "135/135 [==============================] - 36s 267ms/step - loss: 0.3546 - acc: 0.9122 - recall: 0.9248 - precision: 0.9720 - true_positives: 2152.0000 - true_negatives: 310.0000 - false_positives: 62.0000 - false_negatives: 175.0000 - val_loss: 0.9089 - val_acc: 0.5457 - val_recall: 0.4360 - val_precision: 0.8873 - val_true_positives: 126.0000 - val_true_negatives: 89.0000 - val_false_positives: 16.0000 - val_false_negatives: 163.0000\n",
            "Epoch 8/10\n",
            "135/135 [==============================] - 36s 267ms/step - loss: 0.3493 - acc: 0.9063 - recall: 0.9196 - precision: 0.9701 - true_positives: 2140.0000 - true_negatives: 306.0000 - false_positives: 66.0000 - false_negatives: 187.0000 - val_loss: 0.8654 - val_acc: 0.5482 - val_recall: 0.4325 - val_precision: 0.8993 - val_true_positives: 125.0000 - val_true_negatives: 91.0000 - val_false_positives: 14.0000 - val_false_negatives: 164.0000\n",
            "Epoch 9/10\n",
            "135/135 [==============================] - 36s 268ms/step - loss: 0.3245 - acc: 0.9211 - recall: 0.9317 - precision: 0.9757 - true_positives: 2168.0000 - true_negatives: 318.0000 - false_positives: 54.0000 - false_negatives: 159.0000 - val_loss: 0.9475 - val_acc: 0.4898 - val_recall: 0.3529 - val_precision: 0.8793 - val_true_positives: 102.0000 - val_true_negatives: 91.0000 - val_false_positives: 14.0000 - val_false_negatives: 187.0000\n",
            "Epoch 10/10\n",
            "135/135 [==============================] - 36s 267ms/step - loss: 0.3021 - acc: 0.9248 - recall: 0.9364 - precision: 0.9754 - true_positives: 2179.0000 - true_negatives: 317.0000 - false_positives: 55.0000 - false_negatives: 148.0000 - val_loss: 0.8040 - val_acc: 0.5736 - val_recall: 0.4602 - val_precision: 0.9172 - val_true_positives: 133.0000 - val_true_negatives: 93.0000 - val_false_positives: 12.0000 - val_false_negatives: 156.0000\n"
          ]
        }
      ]
    },
    {
      "cell_type": "code",
      "metadata": {
        "id": "ppZPfrB7WCOx",
        "colab": {
          "base_uri": "https://localhost:8080/",
          "height": 308
        },
        "outputId": "71ffc1cd-3057-46d8-ae47-452ca09e9720"
      },
      "source": [
        "visualize_training_results(class_pool_results)"
      ],
      "execution_count": null,
      "outputs": [
        {
          "output_type": "display_data",
          "data": {
            "image/png": "[encoded data removed]",
            "text/plain": [
              "<Figure size 432x288 with 2 Axes>"
            ]
          },
          "metadata": {
            "needs_background": "light"
          }
        }
      ]
    },
    {
      "cell_type": "markdown",
      "metadata": {
        "id": "9tOAffDngvqc"
      },
      "source": [
        "**Analysis of Model**\n",
        "\n",
        "The last epoch has a training accuracy of 93% and a testing accuracy of 48%, with a training loss of 29% and a testing loss of 107%. Testing recall is 31% and testing precision is 95%. Testing accuracy and loss has increased since the last model, so it seems that the original pooling strategy is best. In the next iteration, I will introduce padding to see if this helps make the network more accuarte."
      ]
    },
    {
      "cell_type": "markdown",
      "metadata": {
        "id": "GitRE-eMWOU2"
      },
      "source": [
        "## **Model with Padding**"
      ]
    },
    {
      "cell_type": "code",
      "metadata": {
        "id": "ZELdIl0GWRVE"
      },
      "source": [
        "# Another Convolution layer; structure is modified from one shown on:\n",
        "# https://machinelearningmastery.com/how-to-develop-a-cnn-from-scratch-for-cifar-10-photo-classification/\n",
        "np.random.seed(42)\n",
        "class_pad = keras.Sequential()\n",
        "class_pad.add(layers.Conv2D(32, (3,3), activation='relu', padding='same', input_shape=(200,200,3)))\n",
        "class_pad.add(layers.MaxPooling2D(2,2))\n",
        "class_pad.add(layers.Conv2D(64, (3,3), activation='relu', padding='same'))\n",
        "class_pad.add(layers.MaxPooling2D(2,2))\n",
        "class_pad.add(layers.Conv2D(128, (3,3), activation='relu', padding='same'))\n",
        "class_pad.add(layers.MaxPooling2D(2,2))\n",
        "\n",
        "class_pad.add(layers.Flatten())\n",
        "class_pad.add(layers.Dense(128, activation='relu'))\n",
        "class_pad.add(layers.Dropout(0.3))\n",
        "class_pad.add(layers.Dense(64, activation='relu'))\n",
        "class_pad.add(layers.Dropout(0.3))\n",
        "class_pad.add(layers.Dense(1, activation='sigmoid'))\n",
        "\n",
        "class_pad.compile(loss='binary_crossentropy',\n",
        "                optimizer='adam',\n",
        "                metrics=['acc', 'Recall', 'Precision', 'TruePositives', 'TrueNegatives', 'FalsePositives', 'FalseNegatives'])\n",
        "weights3 = {0: 3, # NO TUMOR\n",
        "          1: 1.} # TUMOR\n",
        "# there are 6.255 times as many images of MRIs with tumors than without"
      ],
      "execution_count": 7,
      "outputs": []
    },
    {
      "cell_type": "code",
      "metadata": {
        "id": "tb25SwfdWcUs"
      },
      "source": [
        "early_stop = [EarlyStopping(monitor='val_loss', patience=3, restore_best_weights=True),\n",
        "            ModelCheckpoint(filepath='best_model.h5', monitor='val_loss',\n",
        "                           save_best_only=True)]"
      ],
      "execution_count": 8,
      "outputs": []
    },
    {
      "cell_type": "code",
      "metadata": {
        "id": "EXlm7haVWfMG",
        "colab": {
          "base_uri": "https://localhost:8080/"
        },
        "outputId": "018e43c3-026b-421e-dddb-f6a931f7600b"
      },
      "source": [
        "class_pad_results = class_pad.fit_generator(train_generator,\n",
        "                                          class_weight=weights3,\n",
        "                                         steps_per_epoch=2699//20+1,# number of samples / batch size\n",
        "                                         epochs=10,\n",
        "                                         validation_data=test_generator,\n",
        "                                         validation_steps=394//20+1)"
      ],
      "execution_count": 14,
      "outputs": [
        {
          "output_type": "stream",
          "name": "stderr",
          "text": [
            "/usr/local/lib/python3.7/dist-packages/ipykernel_launcher.py:6: UserWarning: `Model.fit_generator` is deprecated and will be removed in a future version. Please use `Model.fit`, which supports generators.\n",
            "  \n"
          ]
        },
        {
          "output_type": "stream",
          "name": "stdout",
          "text": [
            "Epoch 1/10\n",
            "135/135 [==============================] - 48s 285ms/step - loss: 0.8265 - acc: 0.8611 - recall: 0.9957 - precision: 0.8639 - true_positives: 2317.0000 - true_negatives: 7.0000 - false_positives: 365.0000 - false_negatives: 10.0000 - val_loss: 0.6717 - val_acc: 0.7005 - val_recall: 0.9481 - val_precision: 0.7268 - val_true_positives: 274.0000 - val_true_negatives: 2.0000 - val_false_positives: 103.0000 - val_false_negatives: 15.0000\n",
            "Epoch 2/10\n",
            "135/135 [==============================] - 37s 277ms/step - loss: 0.6847 - acc: 0.8355 - recall: 0.9085 - precision: 0.9015 - true_positives: 2114.0000 - true_negatives: 141.0000 - false_positives: 231.0000 - false_negatives: 213.0000 - val_loss: 0.6757 - val_acc: 0.6345 - val_recall: 0.6228 - val_precision: 0.8372 - val_true_positives: 180.0000 - val_true_negatives: 70.0000 - val_false_positives: 35.0000 - val_false_negatives: 109.0000\n",
            "Epoch 3/10\n",
            "135/135 [==============================] - 37s 275ms/step - loss: 0.5507 - acc: 0.8677 - recall: 0.9072 - precision: 0.9374 - true_positives: 2111.0000 - true_negatives: 231.0000 - false_positives: 141.0000 - false_negatives: 216.0000 - val_loss: 0.8172 - val_acc: 0.5609 - val_recall: 0.4844 - val_precision: 0.8537 - val_true_positives: 140.0000 - val_true_negatives: 81.0000 - val_false_positives: 24.0000 - val_false_negatives: 149.0000\n",
            "Epoch 4/10\n",
            "135/135 [==============================] - 37s 276ms/step - loss: 0.4571 - acc: 0.8955 - recall: 0.9239 - precision: 0.9534 - true_positives: 2150.0000 - true_negatives: 267.0000 - false_positives: 105.0000 - false_negatives: 177.0000 - val_loss: 1.0406 - val_acc: 0.4746 - val_recall: 0.3529 - val_precision: 0.8361 - val_true_positives: 102.0000 - val_true_negatives: 85.0000 - val_false_positives: 20.0000 - val_false_negatives: 187.0000\n",
            "Epoch 5/10\n",
            "135/135 [==============================] - 37s 277ms/step - loss: 0.4238 - acc: 0.8937 - recall: 0.9128 - precision: 0.9620 - true_positives: 2124.0000 - true_negatives: 288.0000 - false_positives: 84.0000 - false_negatives: 203.0000 - val_loss: 0.9271 - val_acc: 0.4543 - val_recall: 0.3183 - val_precision: 0.8364 - val_true_positives: 92.0000 - val_true_negatives: 87.0000 - val_false_positives: 18.0000 - val_false_negatives: 197.0000\n",
            "Epoch 6/10\n",
            "135/135 [==============================] - 37s 276ms/step - loss: 0.3995 - acc: 0.9003 - recall: 0.9214 - precision: 0.9614 - true_positives: 2144.0000 - true_negatives: 286.0000 - false_positives: 86.0000 - false_negatives: 183.0000 - val_loss: 1.1342 - val_acc: 0.4289 - val_recall: 0.2422 - val_precision: 0.9211 - val_true_positives: 70.0000 - val_true_negatives: 99.0000 - val_false_positives: 6.0000 - val_false_negatives: 219.0000\n",
            "Epoch 7/10\n",
            "135/135 [==============================] - 37s 275ms/step - loss: 0.3741 - acc: 0.9152 - recall: 0.9295 - precision: 0.9708 - true_positives: 2163.0000 - true_negatives: 307.0000 - false_positives: 65.0000 - false_negatives: 164.0000 - val_loss: 0.8000 - val_acc: 0.7132 - val_recall: 0.8062 - val_precision: 0.8034 - val_true_positives: 233.0000 - val_true_negatives: 48.0000 - val_false_positives: 57.0000 - val_false_negatives: 56.0000\n",
            "Epoch 8/10\n",
            "135/135 [==============================] - 37s 275ms/step - loss: 0.3527 - acc: 0.9133 - recall: 0.9291 - precision: 0.9691 - true_positives: 2162.0000 - true_negatives: 303.0000 - false_positives: 69.0000 - false_negatives: 165.0000 - val_loss: 0.7690 - val_acc: 0.5025 - val_recall: 0.3875 - val_precision: 0.8550 - val_true_positives: 112.0000 - val_true_negatives: 86.0000 - val_false_positives: 19.0000 - val_false_negatives: 177.0000\n",
            "Epoch 9/10\n",
            "135/135 [==============================] - 37s 276ms/step - loss: 0.3308 - acc: 0.9185 - recall: 0.9312 - precision: 0.9731 - true_positives: 2167.0000 - true_negatives: 312.0000 - false_positives: 60.0000 - false_negatives: 160.0000 - val_loss: 0.8931 - val_acc: 0.5305 - val_recall: 0.4118 - val_precision: 0.8881 - val_true_positives: 119.0000 - val_true_negatives: 90.0000 - val_false_positives: 15.0000 - val_false_negatives: 170.0000\n",
            "Epoch 10/10\n",
            "135/135 [==============================] - 37s 275ms/step - loss: 0.3235 - acc: 0.9066 - recall: 0.9171 - precision: 0.9731 - true_positives: 2134.0000 - true_negatives: 313.0000 - false_positives: 59.0000 - false_negatives: 193.0000 - val_loss: 0.8039 - val_acc: 0.5508 - val_recall: 0.4325 - val_precision: 0.9058 - val_true_positives: 125.0000 - val_true_negatives: 92.0000 - val_false_positives: 13.0000 - val_false_negatives: 164.0000\n"
          ]
        }
      ]
    },
    {
      "cell_type": "code",
      "metadata": {
        "id": "E9FEzPrSWjCe",
        "colab": {
          "base_uri": "https://localhost:8080/",
          "height": 308
        },
        "outputId": "732b977d-3e4c-4478-ffb7-aeb0696204a2"
      },
      "source": [
        "visualize_training_results(class_pad_results)"
      ],
      "execution_count": 15,
      "outputs": [
        {
          "output_type": "display_data",
          "data": {
            "image/png": "[encoded data removed]",
            "text/plain": [
              "<Figure size 432x288 with 2 Axes>"
            ]
          },
          "metadata": {
            "needs_background": "light"
          }
        }
      ]
    },
    {
      "cell_type": "markdown",
      "metadata": {
        "id": "3LbEWcJHldCX"
      },
      "source": [
        "**Analysis of Model**\n",
        "\n",
        "The last epoch has a training accuracy of 93% and a testing accuracy of 61%, with a training loss of 30% and a testing loss of 71%. Testing recall is 56%, testing precision is 98%. Testing accuracy and loss are better than in the last model iteration, but the results still aren't great. In the next iteration, I will try introducing Batch Normalization, as this standardizes the input to each layer, and has the potential to decrease the potential to decrease the number of required training epochs to get optimal weights, according to [this article](https://machinelearningmastery.com/batch-normalization-for-training-of-deep-neural-networks/#:~:text=Batch%20normalization%20is%20a%20technique,required%20to%20train%20deep%20networks.)."
      ]
    },
    {
      "cell_type": "markdown",
      "metadata": {
        "id": "rRzHZcqFKGHZ"
      },
      "source": [
        "## **Model with Batch Normalization**"
      ]
    },
    {
      "cell_type": "code",
      "metadata": {
        "id": "75PHZ2KAKEL0"
      },
      "source": [
        "# Adding Batch Normalization; structure is modified from one shown on:\n",
        "# https://machinelearningmastery.com/how-to-develop-a-cnn-from-scratch-for-cifar-10-photo-classification/\n",
        "class_n = keras.Sequential()\n",
        "class_n.add(layers.Conv2D(32, (3,3), activation='relu', input_shape=(200,200,3)))\n",
        "class_n.add(layers.BatchNormalization())\n",
        "class_n.add(layers.MaxPooling2D(2,2))\n",
        "class_n.add(layers.Conv2D(64, (3,3), activation='relu'))\n",
        "class_n.add(layers.BatchNormalization())\n",
        "class_n.add(layers.MaxPooling2D(2,2))\n",
        "class_n.add(layers.Conv2D(128, (3,3), activation='relu'))\n",
        "class_n.add(layers.BatchNormalization())\n",
        "class_n.add(layers.MaxPooling2D(2,2))\n",
        "\n",
        "class_n.add(layers.Flatten())\n",
        "class_n.add(layers.Dense(128, activation='relu'))\n",
        "class_n.add(layers.Dropout(0.3))\n",
        "class_n.add(layers.Dense(1, activation='sigmoid'))\n",
        "\n",
        "class_n.compile(loss='binary_crossentropy',\n",
        "                optimizer='adam',\n",
        "                metrics=['acc', 'Recall', 'Precision', 'TruePositives', 'TrueNegatives', 'FalsePositives', 'FalseNegatives'])\n",
        "# Incorporating adjusted class weights; compiling and fitting the model\n",
        "weights3 = {0: 3, # NO TUMOR\n",
        "          1:1.} # TUMOR \n",
        "# there are 6.255 times as many images of MRIs with tumors than without, but acording to the class weight calculation, I should \n",
        "# use a number close to 3.63 for the minority class, in this case the no tumor, or \"zero\" class."
      ],
      "execution_count": null,
      "outputs": []
    },
    {
      "cell_type": "code",
      "metadata": {
        "id": "O2H0-A5pKMAZ"
      },
      "source": [
        "early_stop_bn1 = [EarlyStopping(monitor='val_loss', patience=12, restore_best_weights=True),\n",
        "            ModelCheckpoint(filepath='bn_best_model.h5', monitor='val_loss',\n",
        "                           save_best_only=True)]"
      ],
      "execution_count": null,
      "outputs": []
    },
    {
      "cell_type": "code",
      "metadata": {
        "id": "iaA5mTqCKQRU"
      },
      "source": [
        "class_n_results = class_n.fit_generator(train_generator,\n",
        "                                          class_weight=weights3,\n",
        "                                         steps_per_epoch=2699//20+1,# number of samples / batch size\n",
        "                                         epochs=20,\n",
        "                                         callbacks=early_stop_bn1,\n",
        "                                         validation_data=test_generator,\n",
        "                                         validation_steps=394//20+1)"
      ],
      "execution_count": null,
      "outputs": []
    },
    {
      "cell_type": "code",
      "metadata": {
        "id": "Km0sVnG4KTJd"
      },
      "source": [
        "# Look at how accuracy and loss change across the epochs, for training and testing data\n",
        "visualize_training_results(class_n_results)"
      ],
      "execution_count": null,
      "outputs": []
    },
    {
      "cell_type": "markdown",
      "metadata": {
        "id": "PGuc6uL_KWEq"
      },
      "source": [
        "**Analysis of Model**\n",
        "\n",
        " In the epoch with the lowest testing loss, training accuracy is 91% and testing accuracy is 66%, with a training loss of 30% and a testing loss of 56%. Testing recall is 57% and testing precision is 96%. Loss has been decreased in this model iteration compared to the last.\n",
        " \n",
        " Because batch normalization makes the network more stable, it is possible to use larger learning rates, which could potentially help the model reach optimal accuracy and minimal loss more quickly, so that is what I will try next."
      ]
    },
    {
      "cell_type": "markdown",
      "metadata": {
        "id": "GiyRfdWUKZm_"
      },
      "source": [
        "## **Using a Bigger Learning Rate since I am using Batch Normalization**"
      ]
    },
    {
      "cell_type": "code",
      "metadata": {
        "id": "z90Pu53VKWs1"
      },
      "source": [
        "# Establishing an instance of Adam with a bigger learning rate\n",
        "adam_mlr = keras.optimizers.Adam(epsilon=0.01)"
      ],
      "execution_count": null,
      "outputs": []
    },
    {
      "cell_type": "code",
      "metadata": {
        "id": "R98YsZddKdKI"
      },
      "source": [
        "# Using Batch Normalization; structure is modified from one shown on:\n",
        "# https://machinelearningmastery.com/how-to-develop-a-cnn-from-scratch-for-cifar-10-photo-classification/\n",
        "class_na = keras.Sequential()\n",
        "class_na.add(layers.Conv2D(32, (3,3), activation='relu', input_shape=(200,200,3)))\n",
        "class_na.add(layers.BatchNormalization())\n",
        "class_na.add(layers.MaxPooling2D(2,2))\n",
        "class_na.add(layers.Conv2D(64, (3,3), activation='relu'))\n",
        "class_na.add(layers.BatchNormalization())\n",
        "class_na.add(layers.MaxPooling2D(2,2))\n",
        "class_na.add(layers.Conv2D(128, (3,3), activation='relu'))\n",
        "class_na.add(layers.BatchNormalization())\n",
        "class_na.add(layers.MaxPooling2D(2,2))\n",
        "\n",
        "class_na.add(layers.Flatten())\n",
        "class_na.add(layers.Dense(128, activation='relu'))\n",
        "class_na.add(layers.Dropout(0.3))\n",
        "class_na.add(layers.Dense(1, activation='sigmoid'))\n",
        "\n",
        "class_na.compile(loss='binary_crossentropy',\n",
        "                optimizer=adam_mlr,\n",
        "                metrics=['acc', 'Recall', 'Precision', 'TruePositives', 'TrueNegatives', 'FalsePositives', 'FalseNegatives'])\n",
        "# Incorporating adjusted class weights; compiling and fitting the model\n",
        "weights3 = {0: 3, # NO TUMOR\n",
        "          1:1.} # TUMOR \n",
        "# there are 6.255 times as many images of MRIs with tumors than without, but acording to the class weight calculation, I should \n",
        "# use a number close to 3.63 for the minority class, in this case the no tumor, or \"zero\" class."
      ],
      "execution_count": null,
      "outputs": []
    },
    {
      "cell_type": "code",
      "metadata": {
        "id": "rcn1Kc9pKgPU"
      },
      "source": [
        "early_stop_bl1 = [EarlyStopping(monitor='val_loss', patience=12, restore_best_weights=True),\n",
        "            ModelCheckpoint(filepath='bl_best_model.h5', monitor='val_loss',\n",
        "                           save_best_only=True)]"
      ],
      "execution_count": null,
      "outputs": []
    },
    {
      "cell_type": "code",
      "metadata": {
        "id": "KhIG9qHjKjab"
      },
      "source": [
        "# Using a bigger learning rate; fitting the model\n",
        "class_na_results = class_na.fit_generator(train_generator,\n",
        "                                          class_weight=weights3,\n",
        "                                         steps_per_epoch=2699//20+1,# number of samples / batch size\n",
        "                                         epochs=20,\n",
        "                                         callbacks=early_stop_bl1,\n",
        "                                         validation_data=test_generator,\n",
        "                                         validation_steps=394//20+1)"
      ],
      "execution_count": null,
      "outputs": []
    },
    {
      "cell_type": "code",
      "metadata": {
        "id": "PRt6k6wqKnuY"
      },
      "source": [
        "# Look at how accuracy and loss change across the epochs, for training and testing data\n",
        "visualize_training_results(class_na_results)"
      ],
      "execution_count": null,
      "outputs": []
    },
    {
      "cell_type": "markdown",
      "metadata": {
        "id": "JJHx2d_hKoyN"
      },
      "source": [
        "**Analysis of Model**\n",
        "\n",
        "In the epoch with the lowest testing loss, training accuracy is 91% while testing accuracy is 75%. Training loss is 27%, while testing loss is 43%. \n",
        "Testing recall is 89% and testing precision is 90%. Testing accuracy is a little greater and testing loss is a bit lower than in the last iteration, so it looks like using a bigger learning rate in combination with Batch Normalization was a good idea. "
      ]
    },
    {
      "cell_type": "markdown",
      "metadata": {
        "id": "fUJKbwYvKu3a"
      },
      "source": [
        "## **Model with Batch Normalization and more Dropout Layers**"
      ]
    },
    {
      "cell_type": "code",
      "metadata": {
        "id": "ZC0SdfwxKrZL"
      },
      "source": [
        "# Using Batch normalization with more layers; structure is modified from one shown on:\n",
        "# https://machinelearningmastery.com/how-to-develop-a-cnn-from-scratch-for-cifar-10-photo-classification/\n",
        "class_nd = keras.Sequential()\n",
        "\n",
        "class_nd.add(layers.Conv2D(32, (3,3), activation='relu', input_shape=(200,200,3)))\n",
        "class_nd.add(layers.BatchNormalization())\n",
        "class_nd.add(layers.MaxPooling2D(2,2))\n",
        "class_nd.add(layers.Dropout(0.25))\n",
        "\n",
        "class_nd.add(layers.Conv2D(64, (3,3), activation='relu'))\n",
        "class_nd.add(layers.BatchNormalization())\n",
        "class_nd.add(layers.MaxPooling2D(2,2))\n",
        "class_nd.add(layers.Dropout(0.25))\n",
        "\n",
        "class_nd.add(layers.Conv2D(128, (3,3), activation='relu'))\n",
        "class_nd.add(layers.BatchNormalization())\n",
        "class_nd.add(layers.MaxPooling2D(2,2))\n",
        "class_nd.add(layers.Dropout(0.25))\n",
        "\n",
        "class_nd.add(layers.Flatten())\n",
        "class_nd.add(layers.Dense(128, activation='relu'))\n",
        "class_nd.add(layers.Dropout(0.4))\n",
        "class_nd.add(layers.Dense(1, activation='sigmoid'))\n",
        "\n",
        "class_nd.compile(loss='binary_crossentropy',\n",
        "                optimizer= adam_mlr,\n",
        "                metrics=['acc', 'Recall', 'Precision', 'TruePositives', 'TrueNegatives', 'FalsePositives', 'FalseNegatives'])\n",
        "# Incorporating adjusted class weights; compiling and fitting the model\n",
        "weights3 = {0: 3, # NO TUMOR\n",
        "          1:1.} # TUMOR \n",
        "# there are 6.255 times as many images of MRIs with tumors than without, but acording to the class weight calculation, I should \n",
        "# use a number close to 3.63 for the minority class, in this case the no tumor, or \"zero\" class."
      ],
      "execution_count": null,
      "outputs": []
    },
    {
      "cell_type": "code",
      "metadata": {
        "id": "WJjWIW3oK8AC"
      },
      "source": [
        "early_stop_bnd = [EarlyStopping(monitor='val_loss', patience=12, restore_best_weights=True),\n",
        "            ModelCheckpoint(filepath='bnd_best_model.h5', monitor='val_loss',\n",
        "                           save_best_only=True)]"
      ],
      "execution_count": null,
      "outputs": []
    },
    {
      "cell_type": "code",
      "metadata": {
        "id": "cSULOF1WK-sK"
      },
      "source": [
        "# Fitting the model\n",
        "class_nd_results = class_nd.fit_generator(train_generator,\n",
        "                                          class_weight=weights3,\n",
        "                                         steps_per_epoch=2699//20+1,# number of samples / batch size\n",
        "                                         epochs=20,\n",
        "                                          callbacks=early_stop_bnd,\n",
        "                                         validation_data=test_generator,\n",
        "                                         validation_steps=394//20+1)"
      ],
      "execution_count": null,
      "outputs": []
    },
    {
      "cell_type": "code",
      "metadata": {
        "id": "BlO-3ejNK_rG"
      },
      "source": [
        "# Look at how accuracy and loss change across the epochs, for training and testing data\n",
        "visualize_training_results(class_nd_results)"
      ],
      "execution_count": null,
      "outputs": []
    },
    {
      "cell_type": "markdown",
      "metadata": {
        "id": "hflWXuFCLFbl"
      },
      "source": [
        "**Analysis of Model**\n",
        "\n",
        "Training accuracy of the epoch with the lowest loss is 86% while testing accuracy is 74%. Training loss is 41% while testing loss is 68%. Testing recall is 100% and testing precision is 74%. Training and Testing loss have both increased, so the dropout layers added after each max pooling step may not be particularly beneficial to the model. Next, I will try using pretrained neural networks."
      ]
    },
    {
      "cell_type": "markdown",
      "metadata": {
        "id": "OtQZO4JymEO0"
      },
      "source": [
        "## **Using the Pre-Trained VGG-19 Weights (this is my FSM)**"
      ]
    },
    {
      "cell_type": "code",
      "metadata": {
        "colab": {
          "base_uri": "https://localhost:8080/",
          "height": 433
        },
        "id": "KwbiBYtbLGKr",
        "outputId": "c41d8f94-8588-4fcd-d53f-570822b67e9a"
      },
      "source": [
        "# Instantiating the pretrained VGG-19 model\n",
        "from keras.applications.vgg19 import VGG19\n",
        "cnn_vgg = VGG19(weights='imagenet',\n",
        "               include_top=False,\n",
        "               input_shape=(200,200,3))"
      ],
      "execution_count": null,
      "outputs": [
        {
          "output_type": "error",
          "ename": "KeyboardInterrupt",
          "evalue": "ignored",
          "traceback": [
            "\u001b[0;31m---------------------------------------------------------------------------\u001b[0m",
            "\u001b[0;31mKeyboardInterrupt\u001b[0m                         Traceback (most recent call last)",
            "\u001b[0;32m<ipython-input-1-12c04c4f2f30>\u001b[0m in \u001b[0;36m<module>\u001b[0;34m()\u001b[0m\n\u001b[1;32m      1\u001b[0m \u001b[0;31m# Instantiating the pretrained VGG-19 model\u001b[0m\u001b[0;34m\u001b[0m\u001b[0;34m\u001b[0m\u001b[0;34m\u001b[0m\u001b[0m\n\u001b[0;32m----> 2\u001b[0;31m \u001b[0;32mfrom\u001b[0m \u001b[0mkeras\u001b[0m\u001b[0;34m.\u001b[0m\u001b[0mapplications\u001b[0m\u001b[0;34m.\u001b[0m\u001b[0mvgg19\u001b[0m \u001b[0;32mimport\u001b[0m \u001b[0mVGG19\u001b[0m\u001b[0;34m\u001b[0m\u001b[0;34m\u001b[0m\u001b[0m\n\u001b[0m\u001b[1;32m      3\u001b[0m cnn_vgg = VGG19(weights='imagenet',\n\u001b[1;32m      4\u001b[0m                \u001b[0minclude_top\u001b[0m\u001b[0;34m=\u001b[0m\u001b[0;32mFalse\u001b[0m\u001b[0;34m,\u001b[0m\u001b[0;34m\u001b[0m\u001b[0;34m\u001b[0m\u001b[0m\n\u001b[1;32m      5\u001b[0m                input_shape=(200,200,3))\n",
            "\u001b[0;32m/usr/local/lib/python3.7/dist-packages/keras/__init__.py\u001b[0m in \u001b[0;36m<module>\u001b[0;34m()\u001b[0m\n\u001b[1;32m     19\u001b[0m \"\"\"\n\u001b[1;32m     20\u001b[0m \u001b[0;31m# pylint: disable=unused-import\u001b[0m\u001b[0;34m\u001b[0m\u001b[0;34m\u001b[0m\u001b[0;34m\u001b[0m\u001b[0m\n\u001b[0;32m---> 21\u001b[0;31m \u001b[0;32mfrom\u001b[0m \u001b[0mtensorflow\u001b[0m\u001b[0;34m.\u001b[0m\u001b[0mpython\u001b[0m \u001b[0;32mimport\u001b[0m \u001b[0mtf2\u001b[0m\u001b[0;34m\u001b[0m\u001b[0;34m\u001b[0m\u001b[0m\n\u001b[0m\u001b[1;32m     22\u001b[0m \u001b[0;32mfrom\u001b[0m \u001b[0mkeras\u001b[0m \u001b[0;32mimport\u001b[0m \u001b[0mdistribute\u001b[0m\u001b[0;34m\u001b[0m\u001b[0;34m\u001b[0m\u001b[0m\n\u001b[1;32m     23\u001b[0m \u001b[0;34m\u001b[0m\u001b[0m\n",
            "\u001b[0;32m/usr/local/lib/python3.7/dist-packages/tensorflow/__init__.py\u001b[0m in \u001b[0;36m<module>\u001b[0;34m()\u001b[0m\n\u001b[1;32m     53\u001b[0m \u001b[0;32mfrom\u001b[0m \u001b[0;34m.\u001b[0m\u001b[0m_api\u001b[0m\u001b[0;34m.\u001b[0m\u001b[0mv2\u001b[0m \u001b[0;32mimport\u001b[0m \u001b[0mautograph\u001b[0m\u001b[0;34m\u001b[0m\u001b[0;34m\u001b[0m\u001b[0m\n\u001b[1;32m     54\u001b[0m \u001b[0;32mfrom\u001b[0m \u001b[0;34m.\u001b[0m\u001b[0m_api\u001b[0m\u001b[0;34m.\u001b[0m\u001b[0mv2\u001b[0m \u001b[0;32mimport\u001b[0m \u001b[0mbitwise\u001b[0m\u001b[0;34m\u001b[0m\u001b[0;34m\u001b[0m\u001b[0m\n\u001b[0;32m---> 55\u001b[0;31m \u001b[0;32mfrom\u001b[0m \u001b[0;34m.\u001b[0m\u001b[0m_api\u001b[0m\u001b[0;34m.\u001b[0m\u001b[0mv2\u001b[0m \u001b[0;32mimport\u001b[0m \u001b[0mcompat\u001b[0m\u001b[0;34m\u001b[0m\u001b[0;34m\u001b[0m\u001b[0m\n\u001b[0m\u001b[1;32m     56\u001b[0m \u001b[0;32mfrom\u001b[0m \u001b[0;34m.\u001b[0m\u001b[0m_api\u001b[0m\u001b[0;34m.\u001b[0m\u001b[0mv2\u001b[0m \u001b[0;32mimport\u001b[0m \u001b[0mconfig\u001b[0m\u001b[0;34m\u001b[0m\u001b[0;34m\u001b[0m\u001b[0m\n\u001b[1;32m     57\u001b[0m \u001b[0;32mfrom\u001b[0m \u001b[0;34m.\u001b[0m\u001b[0m_api\u001b[0m\u001b[0;34m.\u001b[0m\u001b[0mv2\u001b[0m \u001b[0;32mimport\u001b[0m \u001b[0mdata\u001b[0m\u001b[0;34m\u001b[0m\u001b[0;34m\u001b[0m\u001b[0m\n",
            "\u001b[0;32m/usr/local/lib/python3.7/dist-packages/tensorflow/_api/v2/compat/__init__.py\u001b[0m in \u001b[0;36m<module>\u001b[0;34m()\u001b[0m\n\u001b[1;32m     37\u001b[0m \u001b[0;32mimport\u001b[0m \u001b[0msys\u001b[0m \u001b[0;32mas\u001b[0m \u001b[0m_sys\u001b[0m\u001b[0;34m\u001b[0m\u001b[0;34m\u001b[0m\u001b[0m\n\u001b[1;32m     38\u001b[0m \u001b[0;34m\u001b[0m\u001b[0m\n\u001b[0;32m---> 39\u001b[0;31m \u001b[0;32mfrom\u001b[0m \u001b[0;34m.\u001b[0m \u001b[0;32mimport\u001b[0m \u001b[0mv1\u001b[0m\u001b[0;34m\u001b[0m\u001b[0;34m\u001b[0m\u001b[0m\n\u001b[0m\u001b[1;32m     40\u001b[0m \u001b[0;32mfrom\u001b[0m \u001b[0;34m.\u001b[0m \u001b[0;32mimport\u001b[0m \u001b[0mv2\u001b[0m\u001b[0;34m\u001b[0m\u001b[0;34m\u001b[0m\u001b[0m\n\u001b[1;32m     41\u001b[0m \u001b[0;32mfrom\u001b[0m \u001b[0mtensorflow\u001b[0m\u001b[0;34m.\u001b[0m\u001b[0mpython\u001b[0m\u001b[0;34m.\u001b[0m\u001b[0mcompat\u001b[0m\u001b[0;34m.\u001b[0m\u001b[0mcompat\u001b[0m \u001b[0;32mimport\u001b[0m \u001b[0mforward_compatibility_horizon\u001b[0m\u001b[0;34m\u001b[0m\u001b[0;34m\u001b[0m\u001b[0m\n",
            "\u001b[0;32m/usr/local/lib/python3.7/dist-packages/tensorflow/_api/v2/compat/v1/__init__.py\u001b[0m in \u001b[0;36m<module>\u001b[0;34m()\u001b[0m\n\u001b[1;32m     32\u001b[0m \u001b[0;32mfrom\u001b[0m \u001b[0;34m.\u001b[0m \u001b[0;32mimport\u001b[0m \u001b[0mautograph\u001b[0m\u001b[0;34m\u001b[0m\u001b[0;34m\u001b[0m\u001b[0m\n\u001b[1;32m     33\u001b[0m \u001b[0;32mfrom\u001b[0m \u001b[0;34m.\u001b[0m \u001b[0;32mimport\u001b[0m \u001b[0mbitwise\u001b[0m\u001b[0;34m\u001b[0m\u001b[0;34m\u001b[0m\u001b[0m\n\u001b[0;32m---> 34\u001b[0;31m \u001b[0;32mfrom\u001b[0m \u001b[0;34m.\u001b[0m \u001b[0;32mimport\u001b[0m \u001b[0mcompat\u001b[0m\u001b[0;34m\u001b[0m\u001b[0;34m\u001b[0m\u001b[0m\n\u001b[0m\u001b[1;32m     35\u001b[0m \u001b[0;32mfrom\u001b[0m \u001b[0;34m.\u001b[0m \u001b[0;32mimport\u001b[0m \u001b[0mconfig\u001b[0m\u001b[0;34m\u001b[0m\u001b[0;34m\u001b[0m\u001b[0m\n\u001b[1;32m     36\u001b[0m \u001b[0;32mfrom\u001b[0m \u001b[0;34m.\u001b[0m \u001b[0;32mimport\u001b[0m \u001b[0mdata\u001b[0m\u001b[0;34m\u001b[0m\u001b[0;34m\u001b[0m\u001b[0m\n",
            "\u001b[0;32m/usr/local/lib/python3.7/dist-packages/tensorflow/_api/v2/compat/v1/compat/__init__.py\u001b[0m in \u001b[0;36m<module>\u001b[0;34m()\u001b[0m\n\u001b[1;32m     37\u001b[0m \u001b[0;32mimport\u001b[0m \u001b[0msys\u001b[0m \u001b[0;32mas\u001b[0m \u001b[0m_sys\u001b[0m\u001b[0;34m\u001b[0m\u001b[0;34m\u001b[0m\u001b[0m\n\u001b[1;32m     38\u001b[0m \u001b[0;34m\u001b[0m\u001b[0m\n\u001b[0;32m---> 39\u001b[0;31m \u001b[0;32mfrom\u001b[0m \u001b[0;34m.\u001b[0m \u001b[0;32mimport\u001b[0m \u001b[0mv1\u001b[0m\u001b[0;34m\u001b[0m\u001b[0;34m\u001b[0m\u001b[0m\n\u001b[0m\u001b[1;32m     40\u001b[0m \u001b[0;32mfrom\u001b[0m \u001b[0;34m.\u001b[0m \u001b[0;32mimport\u001b[0m \u001b[0mv2\u001b[0m\u001b[0;34m\u001b[0m\u001b[0;34m\u001b[0m\u001b[0m\n\u001b[1;32m     41\u001b[0m \u001b[0;32mfrom\u001b[0m \u001b[0mtensorflow\u001b[0m\u001b[0;34m.\u001b[0m\u001b[0mpython\u001b[0m\u001b[0;34m.\u001b[0m\u001b[0mcompat\u001b[0m\u001b[0;34m.\u001b[0m\u001b[0mcompat\u001b[0m \u001b[0;32mimport\u001b[0m \u001b[0mforward_compatibility_horizon\u001b[0m\u001b[0;34m\u001b[0m\u001b[0;34m\u001b[0m\u001b[0m\n",
            "\u001b[0;32m/usr/local/lib/python3.7/dist-packages/tensorflow/_api/v2/compat/v1/compat/v1/__init__.py\u001b[0m in \u001b[0;36m<module>\u001b[0;34m()\u001b[0m\n\u001b[1;32m     49\u001b[0m \u001b[0;32mfrom\u001b[0m \u001b[0mtensorflow\u001b[0m\u001b[0;34m.\u001b[0m\u001b[0m_api\u001b[0m\u001b[0;34m.\u001b[0m\u001b[0mv2\u001b[0m\u001b[0;34m.\u001b[0m\u001b[0mcompat\u001b[0m\u001b[0;34m.\u001b[0m\u001b[0mv1\u001b[0m \u001b[0;32mimport\u001b[0m \u001b[0mlayers\u001b[0m\u001b[0;34m\u001b[0m\u001b[0;34m\u001b[0m\u001b[0m\n\u001b[1;32m     50\u001b[0m \u001b[0;32mfrom\u001b[0m \u001b[0mtensorflow\u001b[0m\u001b[0;34m.\u001b[0m\u001b[0m_api\u001b[0m\u001b[0;34m.\u001b[0m\u001b[0mv2\u001b[0m\u001b[0;34m.\u001b[0m\u001b[0mcompat\u001b[0m\u001b[0;34m.\u001b[0m\u001b[0mv1\u001b[0m \u001b[0;32mimport\u001b[0m \u001b[0mlinalg\u001b[0m\u001b[0;34m\u001b[0m\u001b[0;34m\u001b[0m\u001b[0m\n\u001b[0;32m---> 51\u001b[0;31m \u001b[0;32mfrom\u001b[0m \u001b[0mtensorflow\u001b[0m\u001b[0;34m.\u001b[0m\u001b[0m_api\u001b[0m\u001b[0;34m.\u001b[0m\u001b[0mv2\u001b[0m\u001b[0;34m.\u001b[0m\u001b[0mcompat\u001b[0m\u001b[0;34m.\u001b[0m\u001b[0mv1\u001b[0m \u001b[0;32mimport\u001b[0m \u001b[0mlite\u001b[0m\u001b[0;34m\u001b[0m\u001b[0;34m\u001b[0m\u001b[0m\n\u001b[0m\u001b[1;32m     52\u001b[0m \u001b[0;32mfrom\u001b[0m \u001b[0mtensorflow\u001b[0m\u001b[0;34m.\u001b[0m\u001b[0m_api\u001b[0m\u001b[0;34m.\u001b[0m\u001b[0mv2\u001b[0m\u001b[0;34m.\u001b[0m\u001b[0mcompat\u001b[0m\u001b[0;34m.\u001b[0m\u001b[0mv1\u001b[0m \u001b[0;32mimport\u001b[0m \u001b[0mlogging\u001b[0m\u001b[0;34m\u001b[0m\u001b[0;34m\u001b[0m\u001b[0m\n\u001b[1;32m     53\u001b[0m \u001b[0;32mfrom\u001b[0m \u001b[0mtensorflow\u001b[0m\u001b[0;34m.\u001b[0m\u001b[0m_api\u001b[0m\u001b[0;34m.\u001b[0m\u001b[0mv2\u001b[0m\u001b[0;34m.\u001b[0m\u001b[0mcompat\u001b[0m\u001b[0;34m.\u001b[0m\u001b[0mv1\u001b[0m \u001b[0;32mimport\u001b[0m \u001b[0mlookup\u001b[0m\u001b[0;34m\u001b[0m\u001b[0;34m\u001b[0m\u001b[0m\n",
            "\u001b[0;32m/usr/local/lib/python3.7/dist-packages/tensorflow/_api/v2/compat/v1/lite/__init__.py\u001b[0m in \u001b[0;36m<module>\u001b[0;34m()\u001b[0m\n\u001b[1;32m      9\u001b[0m \u001b[0;34m\u001b[0m\u001b[0m\n\u001b[1;32m     10\u001b[0m \u001b[0;32mfrom\u001b[0m \u001b[0;34m.\u001b[0m \u001b[0;32mimport\u001b[0m \u001b[0mconstants\u001b[0m\u001b[0;34m\u001b[0m\u001b[0;34m\u001b[0m\u001b[0m\n\u001b[0;32m---> 11\u001b[0;31m \u001b[0;32mfrom\u001b[0m \u001b[0;34m.\u001b[0m \u001b[0;32mimport\u001b[0m \u001b[0mexperimental\u001b[0m\u001b[0;34m\u001b[0m\u001b[0;34m\u001b[0m\u001b[0m\n\u001b[0m\u001b[1;32m     12\u001b[0m \u001b[0;32mfrom\u001b[0m \u001b[0mtensorflow\u001b[0m\u001b[0;34m.\u001b[0m\u001b[0mlite\u001b[0m\u001b[0;34m.\u001b[0m\u001b[0mpython\u001b[0m\u001b[0;34m.\u001b[0m\u001b[0mlite\u001b[0m \u001b[0;32mimport\u001b[0m \u001b[0mInterpreter\u001b[0m\u001b[0;34m\u001b[0m\u001b[0;34m\u001b[0m\u001b[0m\n\u001b[1;32m     13\u001b[0m \u001b[0;32mfrom\u001b[0m \u001b[0mtensorflow\u001b[0m\u001b[0;34m.\u001b[0m\u001b[0mlite\u001b[0m\u001b[0;34m.\u001b[0m\u001b[0mpython\u001b[0m\u001b[0;34m.\u001b[0m\u001b[0mlite\u001b[0m \u001b[0;32mimport\u001b[0m \u001b[0mOpHint\u001b[0m\u001b[0;34m\u001b[0m\u001b[0;34m\u001b[0m\u001b[0m\n",
            "\u001b[0;32m/usr/local/lib/python3.7/dist-packages/tensorflow/_api/v2/compat/v1/lite/experimental/__init__.py\u001b[0m in \u001b[0;36m<module>\u001b[0;34m()\u001b[0m\n\u001b[1;32m      8\u001b[0m \u001b[0;32mimport\u001b[0m \u001b[0msys\u001b[0m \u001b[0;32mas\u001b[0m \u001b[0m_sys\u001b[0m\u001b[0;34m\u001b[0m\u001b[0;34m\u001b[0m\u001b[0m\n\u001b[1;32m      9\u001b[0m \u001b[0;34m\u001b[0m\u001b[0m\n\u001b[0;32m---> 10\u001b[0;31m \u001b[0;32mfrom\u001b[0m \u001b[0;34m.\u001b[0m \u001b[0;32mimport\u001b[0m \u001b[0mauthoring\u001b[0m\u001b[0;34m\u001b[0m\u001b[0;34m\u001b[0m\u001b[0m\n\u001b[0m\u001b[1;32m     11\u001b[0m \u001b[0;32mfrom\u001b[0m \u001b[0mtensorflow\u001b[0m\u001b[0;34m.\u001b[0m\u001b[0mlite\u001b[0m\u001b[0;34m.\u001b[0m\u001b[0mpython\u001b[0m\u001b[0;34m.\u001b[0m\u001b[0manalyzer\u001b[0m \u001b[0;32mimport\u001b[0m \u001b[0mModelAnalyzer\u001b[0m \u001b[0;32mas\u001b[0m \u001b[0mAnalyzer\u001b[0m\u001b[0;34m\u001b[0m\u001b[0;34m\u001b[0m\u001b[0m\n\u001b[1;32m     12\u001b[0m \u001b[0;32mfrom\u001b[0m \u001b[0mtensorflow\u001b[0m\u001b[0;34m.\u001b[0m\u001b[0mlite\u001b[0m\u001b[0;34m.\u001b[0m\u001b[0mpython\u001b[0m\u001b[0;34m.\u001b[0m\u001b[0mlite\u001b[0m \u001b[0;32mimport\u001b[0m \u001b[0mOpResolverType\u001b[0m\u001b[0;34m\u001b[0m\u001b[0;34m\u001b[0m\u001b[0m\n",
            "\u001b[0;32m/usr/local/lib/python3.7/dist-packages/tensorflow/_api/v2/compat/v1/lite/experimental/authoring/__init__.py\u001b[0m in \u001b[0;36m<module>\u001b[0;34m()\u001b[0m\n\u001b[1;32m      8\u001b[0m \u001b[0;32mimport\u001b[0m \u001b[0msys\u001b[0m \u001b[0;32mas\u001b[0m \u001b[0m_sys\u001b[0m\u001b[0;34m\u001b[0m\u001b[0;34m\u001b[0m\u001b[0m\n\u001b[1;32m      9\u001b[0m \u001b[0;34m\u001b[0m\u001b[0m\n\u001b[0;32m---> 10\u001b[0;31m \u001b[0;32mfrom\u001b[0m \u001b[0mtensorflow\u001b[0m\u001b[0;34m.\u001b[0m\u001b[0mlite\u001b[0m\u001b[0;34m.\u001b[0m\u001b[0mpython\u001b[0m\u001b[0;34m.\u001b[0m\u001b[0mauthoring\u001b[0m\u001b[0;34m.\u001b[0m\u001b[0mauthoring\u001b[0m \u001b[0;32mimport\u001b[0m \u001b[0mcompatible\u001b[0m\u001b[0;34m\u001b[0m\u001b[0;34m\u001b[0m\u001b[0m\n\u001b[0m\u001b[1;32m     11\u001b[0m \u001b[0;34m\u001b[0m\u001b[0m\n\u001b[1;32m     12\u001b[0m \u001b[0;32mdel\u001b[0m \u001b[0m_print_function\u001b[0m\u001b[0;34m\u001b[0m\u001b[0;34m\u001b[0m\u001b[0m\n",
            "\u001b[0;32m/usr/local/lib/python3.7/dist-packages/tensorflow/lite/python/authoring/authoring.py\u001b[0m in \u001b[0;36m<module>\u001b[0;34m()\u001b[0m\n\u001b[1;32m     41\u001b[0m \u001b[0;34m\u001b[0m\u001b[0m\n\u001b[1;32m     42\u001b[0m \u001b[0;31m# pylint: disable=g-import-not-at-top\u001b[0m\u001b[0;34m\u001b[0m\u001b[0;34m\u001b[0m\u001b[0;34m\u001b[0m\u001b[0m\n\u001b[0;32m---> 43\u001b[0;31m \u001b[0;32mfrom\u001b[0m \u001b[0mtensorflow\u001b[0m\u001b[0;34m.\u001b[0m\u001b[0mlite\u001b[0m\u001b[0;34m.\u001b[0m\u001b[0mpython\u001b[0m \u001b[0;32mimport\u001b[0m \u001b[0mconvert\u001b[0m\u001b[0;34m\u001b[0m\u001b[0;34m\u001b[0m\u001b[0m\n\u001b[0m\u001b[1;32m     44\u001b[0m \u001b[0;32mfrom\u001b[0m \u001b[0mtensorflow\u001b[0m\u001b[0;34m.\u001b[0m\u001b[0mlite\u001b[0m\u001b[0;34m.\u001b[0m\u001b[0mpython\u001b[0m \u001b[0;32mimport\u001b[0m \u001b[0mlite\u001b[0m\u001b[0;34m\u001b[0m\u001b[0;34m\u001b[0m\u001b[0m\n\u001b[1;32m     45\u001b[0m \u001b[0;32mfrom\u001b[0m \u001b[0mtensorflow\u001b[0m\u001b[0;34m.\u001b[0m\u001b[0mlite\u001b[0m\u001b[0;34m.\u001b[0m\u001b[0mpython\u001b[0m\u001b[0;34m.\u001b[0m\u001b[0mmetrics_wrapper\u001b[0m \u001b[0;32mimport\u001b[0m \u001b[0mconverter_error_data_pb2\u001b[0m\u001b[0;34m\u001b[0m\u001b[0;34m\u001b[0m\u001b[0m\n",
            "\u001b[0;32m/usr/local/lib/python3.7/dist-packages/tensorflow/lite/python/convert.py\u001b[0m in \u001b[0;36m<module>\u001b[0;34m()\u001b[0m\n\u001b[1;32m     31\u001b[0m \u001b[0;34m\u001b[0m\u001b[0m\n\u001b[1;32m     32\u001b[0m \u001b[0;32mfrom\u001b[0m \u001b[0mtensorflow\u001b[0m\u001b[0;34m.\u001b[0m\u001b[0mlite\u001b[0m\u001b[0;34m.\u001b[0m\u001b[0mpython\u001b[0m \u001b[0;32mimport\u001b[0m \u001b[0mlite_constants\u001b[0m\u001b[0;34m\u001b[0m\u001b[0;34m\u001b[0m\u001b[0m\n\u001b[0;32m---> 33\u001b[0;31m \u001b[0;32mfrom\u001b[0m \u001b[0mtensorflow\u001b[0m\u001b[0;34m.\u001b[0m\u001b[0mlite\u001b[0m\u001b[0;34m.\u001b[0m\u001b[0mpython\u001b[0m \u001b[0;32mimport\u001b[0m \u001b[0mutil\u001b[0m\u001b[0;34m\u001b[0m\u001b[0;34m\u001b[0m\u001b[0m\n\u001b[0m\u001b[1;32m     34\u001b[0m \u001b[0;32mfrom\u001b[0m \u001b[0mtensorflow\u001b[0m\u001b[0;34m.\u001b[0m\u001b[0mlite\u001b[0m\u001b[0;34m.\u001b[0m\u001b[0mpython\u001b[0m \u001b[0;32mimport\u001b[0m \u001b[0mwrap_toco\u001b[0m\u001b[0;34m\u001b[0m\u001b[0;34m\u001b[0m\u001b[0m\n\u001b[1;32m     35\u001b[0m \u001b[0;32mfrom\u001b[0m \u001b[0mtensorflow\u001b[0m\u001b[0;34m.\u001b[0m\u001b[0mlite\u001b[0m\u001b[0;34m.\u001b[0m\u001b[0mpython\u001b[0m\u001b[0;34m.\u001b[0m\u001b[0mconvert_phase\u001b[0m \u001b[0;32mimport\u001b[0m \u001b[0mComponent\u001b[0m\u001b[0;34m\u001b[0m\u001b[0;34m\u001b[0m\u001b[0m\n",
            "\u001b[0;32m/usr/local/lib/python3.7/dist-packages/tensorflow/lite/python/util.py\u001b[0m in \u001b[0;36m<module>\u001b[0;34m()\u001b[0m\n\u001b[1;32m     53\u001b[0m \u001b[0;31m# pylint: disable=unused-import\u001b[0m\u001b[0;34m\u001b[0m\u001b[0;34m\u001b[0m\u001b[0;34m\u001b[0m\u001b[0m\n\u001b[1;32m     54\u001b[0m \u001b[0;32mtry\u001b[0m\u001b[0;34m:\u001b[0m\u001b[0;34m\u001b[0m\u001b[0;34m\u001b[0m\u001b[0m\n\u001b[0;32m---> 55\u001b[0;31m   \u001b[0;32mfrom\u001b[0m \u001b[0mjax\u001b[0m \u001b[0;32mimport\u001b[0m \u001b[0mxla_computation\u001b[0m \u001b[0;32mas\u001b[0m \u001b[0m_xla_computation\u001b[0m\u001b[0;34m\u001b[0m\u001b[0;34m\u001b[0m\u001b[0m\n\u001b[0m\u001b[1;32m     56\u001b[0m \u001b[0;32mexcept\u001b[0m \u001b[0mImportError\u001b[0m\u001b[0;34m:\u001b[0m\u001b[0;34m\u001b[0m\u001b[0;34m\u001b[0m\u001b[0m\n\u001b[1;32m     57\u001b[0m   \u001b[0m_xla_computation\u001b[0m \u001b[0;34m=\u001b[0m \u001b[0;32mNone\u001b[0m\u001b[0;34m\u001b[0m\u001b[0;34m\u001b[0m\u001b[0m\n",
            "\u001b[0;32m/usr/local/lib/python3.7/dist-packages/jax/__init__.py\u001b[0m in \u001b[0;36m<module>\u001b[0;34m()\u001b[0m\n\u001b[1;32m    125\u001b[0m \u001b[0;32mfrom\u001b[0m \u001b[0;34m.\u001b[0m \u001b[0;32mimport\u001b[0m \u001b[0mimage\u001b[0m \u001b[0;32mas\u001b[0m \u001b[0mimage\u001b[0m\u001b[0;34m\u001b[0m\u001b[0;34m\u001b[0m\u001b[0m\n\u001b[1;32m    126\u001b[0m \u001b[0;32mfrom\u001b[0m \u001b[0;34m.\u001b[0m \u001b[0;32mimport\u001b[0m \u001b[0mlax\u001b[0m \u001b[0;32mas\u001b[0m \u001b[0mlax\u001b[0m\u001b[0;34m\u001b[0m\u001b[0;34m\u001b[0m\u001b[0m\n\u001b[0;32m--> 127\u001b[0;31m \u001b[0;32mfrom\u001b[0m \u001b[0;34m.\u001b[0m \u001b[0;32mimport\u001b[0m \u001b[0mnn\u001b[0m \u001b[0;32mas\u001b[0m \u001b[0mnn\u001b[0m\u001b[0;34m\u001b[0m\u001b[0;34m\u001b[0m\u001b[0m\n\u001b[0m\u001b[1;32m    128\u001b[0m \u001b[0;32mfrom\u001b[0m \u001b[0;34m.\u001b[0m \u001b[0;32mimport\u001b[0m \u001b[0mnumpy\u001b[0m \u001b[0;32mas\u001b[0m \u001b[0mnumpy\u001b[0m\u001b[0;34m\u001b[0m\u001b[0;34m\u001b[0m\u001b[0m\n\u001b[1;32m    129\u001b[0m \u001b[0;32mfrom\u001b[0m \u001b[0;34m.\u001b[0m \u001b[0;32mimport\u001b[0m \u001b[0mops\u001b[0m \u001b[0;32mas\u001b[0m \u001b[0mops\u001b[0m\u001b[0;34m\u001b[0m\u001b[0;34m\u001b[0m\u001b[0m\n",
            "\u001b[0;32m/usr/local/lib/python3.7/dist-packages/jax/nn/__init__.py\u001b[0m in \u001b[0;36m<module>\u001b[0;34m()\u001b[0m\n\u001b[1;32m     19\u001b[0m \u001b[0;32mfrom\u001b[0m \u001b[0mjax\u001b[0m\u001b[0;34m.\u001b[0m\u001b[0mnumpy\u001b[0m \u001b[0;32mimport\u001b[0m \u001b[0mtanh\u001b[0m \u001b[0;32mas\u001b[0m \u001b[0mtanh\u001b[0m\u001b[0;34m\u001b[0m\u001b[0;34m\u001b[0m\u001b[0m\n\u001b[1;32m     20\u001b[0m \u001b[0;32mfrom\u001b[0m \u001b[0;34m.\u001b[0m \u001b[0;32mimport\u001b[0m \u001b[0minitializers\u001b[0m \u001b[0;32mas\u001b[0m \u001b[0minitializers\u001b[0m\u001b[0;34m\u001b[0m\u001b[0;34m\u001b[0m\u001b[0m\n\u001b[0;32m---> 21\u001b[0;31m from jax._src.nn.functions import (\n\u001b[0m\u001b[1;32m     22\u001b[0m   \u001b[0mcelu\u001b[0m \u001b[0;32mas\u001b[0m \u001b[0mcelu\u001b[0m\u001b[0;34m,\u001b[0m\u001b[0;34m\u001b[0m\u001b[0;34m\u001b[0m\u001b[0m\n\u001b[1;32m     23\u001b[0m   \u001b[0melu\u001b[0m \u001b[0;32mas\u001b[0m \u001b[0melu\u001b[0m\u001b[0;34m,\u001b[0m\u001b[0;34m\u001b[0m\u001b[0;34m\u001b[0m\u001b[0m\n",
            "\u001b[0;32m/usr/local/lib/python3.7/dist-packages/jax/_src/nn/functions.py\u001b[0m in \u001b[0;36m<module>\u001b[0;34m()\u001b[0m\n\u001b[1;32m     26\u001b[0m \u001b[0;32mfrom\u001b[0m \u001b[0mjax\u001b[0m\u001b[0;34m.\u001b[0m\u001b[0mcore\u001b[0m \u001b[0;32mimport\u001b[0m \u001b[0mAxisName\u001b[0m\u001b[0;34m\u001b[0m\u001b[0;34m\u001b[0m\u001b[0m\n\u001b[1;32m     27\u001b[0m \u001b[0;32mfrom\u001b[0m \u001b[0;34m.\u001b[0m\u001b[0;34m.\u001b[0m \u001b[0;32mimport\u001b[0m \u001b[0mutil\u001b[0m\u001b[0;34m\u001b[0m\u001b[0;34m\u001b[0m\u001b[0m\n\u001b[0;32m---> 28\u001b[0;31m \u001b[0;32mfrom\u001b[0m \u001b[0mjax\u001b[0m\u001b[0;34m.\u001b[0m\u001b[0mscipy\u001b[0m\u001b[0;34m.\u001b[0m\u001b[0mspecial\u001b[0m \u001b[0;32mimport\u001b[0m \u001b[0mexpit\u001b[0m\u001b[0;34m\u001b[0m\u001b[0;34m\u001b[0m\u001b[0m\n\u001b[0m\u001b[1;32m     29\u001b[0m \u001b[0;32mfrom\u001b[0m \u001b[0mjax\u001b[0m\u001b[0;34m.\u001b[0m\u001b[0mscipy\u001b[0m\u001b[0;34m.\u001b[0m\u001b[0mspecial\u001b[0m \u001b[0;32mimport\u001b[0m \u001b[0mlogsumexp\u001b[0m \u001b[0;32mas\u001b[0m \u001b[0m_logsumexp\u001b[0m\u001b[0;34m\u001b[0m\u001b[0;34m\u001b[0m\u001b[0m\n\u001b[1;32m     30\u001b[0m \u001b[0;32mimport\u001b[0m \u001b[0mjax\u001b[0m\u001b[0;34m.\u001b[0m\u001b[0mnumpy\u001b[0m \u001b[0;32mas\u001b[0m \u001b[0mjnp\u001b[0m\u001b[0;34m\u001b[0m\u001b[0;34m\u001b[0m\u001b[0m\n",
            "\u001b[0;32m/usr/local/lib/python3.7/dist-packages/jax/scipy/__init__.py\u001b[0m in \u001b[0;36m<module>\u001b[0;34m()\u001b[0m\n\u001b[1;32m     16\u001b[0m \u001b[0;32mfrom\u001b[0m \u001b[0;34m.\u001b[0m \u001b[0;32mimport\u001b[0m \u001b[0mlinalg\u001b[0m \u001b[0;32mas\u001b[0m \u001b[0mlinalg\u001b[0m\u001b[0;34m\u001b[0m\u001b[0;34m\u001b[0m\u001b[0m\n\u001b[1;32m     17\u001b[0m \u001b[0;32mfrom\u001b[0m \u001b[0;34m.\u001b[0m \u001b[0;32mimport\u001b[0m \u001b[0mndimage\u001b[0m \u001b[0;32mas\u001b[0m \u001b[0mndimage\u001b[0m\u001b[0;34m\u001b[0m\u001b[0;34m\u001b[0m\u001b[0m\n\u001b[0;32m---> 18\u001b[0;31m \u001b[0;32mfrom\u001b[0m \u001b[0;34m.\u001b[0m \u001b[0;32mimport\u001b[0m \u001b[0msignal\u001b[0m \u001b[0;32mas\u001b[0m \u001b[0msignal\u001b[0m\u001b[0;34m\u001b[0m\u001b[0;34m\u001b[0m\u001b[0m\n\u001b[0m\u001b[1;32m     19\u001b[0m \u001b[0;32mfrom\u001b[0m \u001b[0;34m.\u001b[0m \u001b[0;32mimport\u001b[0m \u001b[0msparse\u001b[0m \u001b[0;32mas\u001b[0m \u001b[0msparse\u001b[0m\u001b[0;34m\u001b[0m\u001b[0;34m\u001b[0m\u001b[0m\n\u001b[1;32m     20\u001b[0m \u001b[0;32mfrom\u001b[0m \u001b[0;34m.\u001b[0m \u001b[0;32mimport\u001b[0m \u001b[0mspecial\u001b[0m \u001b[0;32mas\u001b[0m \u001b[0mspecial\u001b[0m\u001b[0;34m\u001b[0m\u001b[0;34m\u001b[0m\u001b[0m\n",
            "\u001b[0;32m/usr/local/lib/python3.7/dist-packages/jax/scipy/signal.py\u001b[0m in \u001b[0;36m<module>\u001b[0;34m()\u001b[0m\n\u001b[1;32m     15\u001b[0m \u001b[0;31m# flake8: noqa: F401\u001b[0m\u001b[0;34m\u001b[0m\u001b[0;34m\u001b[0m\u001b[0;34m\u001b[0m\u001b[0m\n\u001b[1;32m     16\u001b[0m \u001b[0;34m\u001b[0m\u001b[0m\n\u001b[0;32m---> 17\u001b[0;31m from jax._src.scipy.signal import (\n\u001b[0m\u001b[1;32m     18\u001b[0m   \u001b[0mconvolve\u001b[0m \u001b[0;32mas\u001b[0m \u001b[0mconvolve\u001b[0m\u001b[0;34m,\u001b[0m\u001b[0;34m\u001b[0m\u001b[0;34m\u001b[0m\u001b[0m\n\u001b[1;32m     19\u001b[0m   \u001b[0mconvolve2d\u001b[0m \u001b[0;32mas\u001b[0m \u001b[0mconvolve2d\u001b[0m\u001b[0;34m,\u001b[0m\u001b[0;34m\u001b[0m\u001b[0;34m\u001b[0m\u001b[0m\n",
            "\u001b[0;32m/usr/local/lib/python3.7/dist-packages/jax/_src/scipy/signal.py\u001b[0m in \u001b[0;36m<module>\u001b[0;34m()\u001b[0m\n\u001b[1;32m     13\u001b[0m \u001b[0;31m# limitations under the License.\u001b[0m\u001b[0;34m\u001b[0m\u001b[0;34m\u001b[0m\u001b[0;34m\u001b[0m\u001b[0m\n\u001b[1;32m     14\u001b[0m \u001b[0;34m\u001b[0m\u001b[0m\n\u001b[0;32m---> 15\u001b[0;31m \u001b[0;32mimport\u001b[0m \u001b[0mscipy\u001b[0m\u001b[0;34m.\u001b[0m\u001b[0msignal\u001b[0m \u001b[0;32mas\u001b[0m \u001b[0mosp_signal\u001b[0m\u001b[0;34m\u001b[0m\u001b[0;34m\u001b[0m\u001b[0m\n\u001b[0m\u001b[1;32m     16\u001b[0m \u001b[0;32mimport\u001b[0m \u001b[0mwarnings\u001b[0m\u001b[0;34m\u001b[0m\u001b[0;34m\u001b[0m\u001b[0m\n\u001b[1;32m     17\u001b[0m \u001b[0;34m\u001b[0m\u001b[0m\n",
            "\u001b[0;32m/usr/local/lib/python3.7/dist-packages/scipy/signal/__init__.py\u001b[0m in \u001b[0;36m<module>\u001b[0;34m()\u001b[0m\n\u001b[1;32m    301\u001b[0m \u001b[0;32mfrom\u001b[0m \u001b[0;34m.\u001b[0m\u001b[0mfilter_design\u001b[0m \u001b[0;32mimport\u001b[0m \u001b[0;34m*\u001b[0m\u001b[0;34m\u001b[0m\u001b[0;34m\u001b[0m\u001b[0m\n\u001b[1;32m    302\u001b[0m \u001b[0;32mfrom\u001b[0m \u001b[0;34m.\u001b[0m\u001b[0mfir_filter_design\u001b[0m \u001b[0;32mimport\u001b[0m \u001b[0;34m*\u001b[0m\u001b[0;34m\u001b[0m\u001b[0;34m\u001b[0m\u001b[0m\n\u001b[0;32m--> 303\u001b[0;31m \u001b[0;32mfrom\u001b[0m \u001b[0;34m.\u001b[0m\u001b[0mltisys\u001b[0m \u001b[0;32mimport\u001b[0m \u001b[0;34m*\u001b[0m\u001b[0;34m\u001b[0m\u001b[0;34m\u001b[0m\u001b[0m\n\u001b[0m\u001b[1;32m    304\u001b[0m \u001b[0;32mfrom\u001b[0m \u001b[0;34m.\u001b[0m\u001b[0mlti_conversion\u001b[0m \u001b[0;32mimport\u001b[0m \u001b[0;34m*\u001b[0m\u001b[0;34m\u001b[0m\u001b[0;34m\u001b[0m\u001b[0m\n\u001b[1;32m    305\u001b[0m \u001b[0;32mfrom\u001b[0m \u001b[0;34m.\u001b[0m\u001b[0msignaltools\u001b[0m \u001b[0;32mimport\u001b[0m \u001b[0;34m*\u001b[0m\u001b[0;34m\u001b[0m\u001b[0;34m\u001b[0m\u001b[0m\n",
            "\u001b[0;32m/usr/local/lib/python3.7/dist-packages/scipy/signal/ltisys.py\u001b[0m in \u001b[0;36m<module>\u001b[0;34m()\u001b[0m\n\u001b[1;32m     29\u001b[0m \u001b[0;32mimport\u001b[0m \u001b[0mscipy\u001b[0m\u001b[0;34m.\u001b[0m\u001b[0m_lib\u001b[0m\u001b[0;34m.\u001b[0m\u001b[0msix\u001b[0m \u001b[0;32mas\u001b[0m \u001b[0msix\u001b[0m\u001b[0;34m\u001b[0m\u001b[0;34m\u001b[0m\u001b[0m\n\u001b[1;32m     30\u001b[0m \u001b[0;32mfrom\u001b[0m \u001b[0mscipy\u001b[0m\u001b[0;34m.\u001b[0m\u001b[0mlinalg\u001b[0m \u001b[0;32mimport\u001b[0m \u001b[0mqr\u001b[0m \u001b[0;32mas\u001b[0m \u001b[0ms_qr\u001b[0m\u001b[0;34m\u001b[0m\u001b[0;34m\u001b[0m\u001b[0m\n\u001b[0;32m---> 31\u001b[0;31m \u001b[0;32mfrom\u001b[0m \u001b[0mscipy\u001b[0m \u001b[0;32mimport\u001b[0m \u001b[0mintegrate\u001b[0m\u001b[0;34m,\u001b[0m \u001b[0minterpolate\u001b[0m\u001b[0;34m,\u001b[0m \u001b[0mlinalg\u001b[0m\u001b[0;34m\u001b[0m\u001b[0;34m\u001b[0m\u001b[0m\n\u001b[0m\u001b[1;32m     32\u001b[0m \u001b[0;32mfrom\u001b[0m \u001b[0mscipy\u001b[0m\u001b[0;34m.\u001b[0m\u001b[0minterpolate\u001b[0m \u001b[0;32mimport\u001b[0m \u001b[0minterp1d\u001b[0m\u001b[0;34m\u001b[0m\u001b[0;34m\u001b[0m\u001b[0m\n\u001b[1;32m     33\u001b[0m \u001b[0;32mfrom\u001b[0m \u001b[0mscipy\u001b[0m\u001b[0;34m.\u001b[0m\u001b[0m_lib\u001b[0m\u001b[0;34m.\u001b[0m\u001b[0msix\u001b[0m \u001b[0;32mimport\u001b[0m \u001b[0mxrange\u001b[0m\u001b[0;34m\u001b[0m\u001b[0;34m\u001b[0m\u001b[0m\n",
            "\u001b[0;32m/usr/local/lib/python3.7/dist-packages/scipy/interpolate/__init__.py\u001b[0m in \u001b[0;36m<module>\u001b[0;34m()\u001b[0m\n\u001b[1;32m    165\u001b[0m \u001b[0;32mfrom\u001b[0m \u001b[0m__future__\u001b[0m \u001b[0;32mimport\u001b[0m \u001b[0mdivision\u001b[0m\u001b[0;34m,\u001b[0m \u001b[0mprint_function\u001b[0m\u001b[0;34m,\u001b[0m \u001b[0mabsolute_import\u001b[0m\u001b[0;34m\u001b[0m\u001b[0;34m\u001b[0m\u001b[0m\n\u001b[1;32m    166\u001b[0m \u001b[0;34m\u001b[0m\u001b[0m\n\u001b[0;32m--> 167\u001b[0;31m \u001b[0;32mfrom\u001b[0m \u001b[0;34m.\u001b[0m\u001b[0minterpolate\u001b[0m \u001b[0;32mimport\u001b[0m \u001b[0;34m*\u001b[0m\u001b[0;34m\u001b[0m\u001b[0;34m\u001b[0m\u001b[0m\n\u001b[0m\u001b[1;32m    168\u001b[0m \u001b[0;32mfrom\u001b[0m \u001b[0;34m.\u001b[0m\u001b[0mfitpack\u001b[0m \u001b[0;32mimport\u001b[0m \u001b[0;34m*\u001b[0m\u001b[0;34m\u001b[0m\u001b[0;34m\u001b[0m\u001b[0m\n\u001b[1;32m    169\u001b[0m \u001b[0;34m\u001b[0m\u001b[0m\n",
            "\u001b[0;32m/usr/local/lib/python3.7/dist-packages/scipy/interpolate/interpolate.py\u001b[0m in \u001b[0;36m<module>\u001b[0;34m()\u001b[0m\n\u001b[1;32m     18\u001b[0m \u001b[0;32mfrom\u001b[0m \u001b[0mscipy\u001b[0m\u001b[0;34m.\u001b[0m\u001b[0m_lib\u001b[0m\u001b[0;34m.\u001b[0m\u001b[0msix\u001b[0m \u001b[0;32mimport\u001b[0m \u001b[0mxrange\u001b[0m\u001b[0;34m,\u001b[0m \u001b[0minteger_types\u001b[0m\u001b[0;34m,\u001b[0m \u001b[0mstring_types\u001b[0m\u001b[0;34m\u001b[0m\u001b[0;34m\u001b[0m\u001b[0m\n\u001b[1;32m     19\u001b[0m \u001b[0;34m\u001b[0m\u001b[0m\n\u001b[0;32m---> 20\u001b[0;31m \u001b[0;32mfrom\u001b[0m \u001b[0;34m.\u001b[0m \u001b[0;32mimport\u001b[0m \u001b[0mfitpack\u001b[0m\u001b[0;34m\u001b[0m\u001b[0;34m\u001b[0m\u001b[0m\n\u001b[0m\u001b[1;32m     21\u001b[0m \u001b[0;32mfrom\u001b[0m \u001b[0;34m.\u001b[0m \u001b[0;32mimport\u001b[0m \u001b[0mdfitpack\u001b[0m\u001b[0;34m\u001b[0m\u001b[0;34m\u001b[0m\u001b[0m\n\u001b[1;32m     22\u001b[0m \u001b[0;32mfrom\u001b[0m \u001b[0;34m.\u001b[0m \u001b[0;32mimport\u001b[0m \u001b[0m_fitpack\u001b[0m\u001b[0;34m\u001b[0m\u001b[0;34m\u001b[0m\u001b[0m\n",
            "\u001b[0;32m/usr/local/lib/python3.7/dist-packages/scipy/interpolate/fitpack.py\u001b[0m in \u001b[0;36m<module>\u001b[0;34m()\u001b[0m\n\u001b[1;32m      8\u001b[0m \u001b[0;32mimport\u001b[0m \u001b[0mnumpy\u001b[0m \u001b[0;32mas\u001b[0m \u001b[0mnp\u001b[0m\u001b[0;34m\u001b[0m\u001b[0;34m\u001b[0m\u001b[0m\n\u001b[1;32m      9\u001b[0m \u001b[0;34m\u001b[0m\u001b[0m\n\u001b[0;32m---> 10\u001b[0;31m \u001b[0;32mfrom\u001b[0m \u001b[0;34m.\u001b[0m\u001b[0m_fitpack_impl\u001b[0m \u001b[0;32mimport\u001b[0m \u001b[0mbisplrep\u001b[0m\u001b[0;34m,\u001b[0m \u001b[0mbisplev\u001b[0m\u001b[0;34m,\u001b[0m \u001b[0mdblint\u001b[0m\u001b[0;34m\u001b[0m\u001b[0;34m\u001b[0m\u001b[0m\n\u001b[0m\u001b[1;32m     11\u001b[0m \u001b[0;32mfrom\u001b[0m \u001b[0;34m.\u001b[0m \u001b[0;32mimport\u001b[0m \u001b[0m_fitpack_impl\u001b[0m \u001b[0;32mas\u001b[0m \u001b[0m_impl\u001b[0m\u001b[0;34m\u001b[0m\u001b[0;34m\u001b[0m\u001b[0m\n\u001b[1;32m     12\u001b[0m \u001b[0;32mfrom\u001b[0m \u001b[0;34m.\u001b[0m\u001b[0m_bsplines\u001b[0m \u001b[0;32mimport\u001b[0m \u001b[0mBSpline\u001b[0m\u001b[0;34m\u001b[0m\u001b[0;34m\u001b[0m\u001b[0m\n",
            "\u001b[0;32m/usr/local/lib/python3.7/dist-packages/scipy/interpolate/_fitpack_impl.py\u001b[0m in \u001b[0;36m<module>\u001b[0;34m()\u001b[0m\n\u001b[1;32m     35\u001b[0m \u001b[0;31m# Try to replace _fitpack interface with\u001b[0m\u001b[0;34m\u001b[0m\u001b[0;34m\u001b[0m\u001b[0;34m\u001b[0m\u001b[0m\n\u001b[1;32m     36\u001b[0m \u001b[0;31m#  f2py-generated version\u001b[0m\u001b[0;34m\u001b[0m\u001b[0;34m\u001b[0m\u001b[0;34m\u001b[0m\u001b[0m\n\u001b[0;32m---> 37\u001b[0;31m \u001b[0;32mfrom\u001b[0m \u001b[0;34m.\u001b[0m \u001b[0;32mimport\u001b[0m \u001b[0mdfitpack\u001b[0m\u001b[0;34m\u001b[0m\u001b[0;34m\u001b[0m\u001b[0m\n\u001b[0m\u001b[1;32m     38\u001b[0m \u001b[0;34m\u001b[0m\u001b[0m\n\u001b[1;32m     39\u001b[0m \u001b[0;34m\u001b[0m\u001b[0m\n",
            "\u001b[0;31mKeyboardInterrupt\u001b[0m: "
          ]
        }
      ]
    },
    {
      "cell_type": "code",
      "metadata": {
        "id": "wrCge56wmK_J"
      },
      "source": [
        "# Build first model using pretrained VGG 19 as first layer, and then some dense layers on top\n",
        "pretrained = keras.Sequential()\n",
        "pretrained.add(cnn_vgg)\n",
        "pretrained.add(layers.Flatten())\n",
        "pretrained.add(layers.Dense(128, activation='relu'))\n",
        "pretrained.add(layers.Dense(1, activation='sigmoid'))"
      ],
      "execution_count": null,
      "outputs": []
    },
    {
      "cell_type": "code",
      "metadata": {
        "id": "REQcZxobmSF_"
      },
      "source": [
        "Freeze_Pretrained_Base(cnn_vgg, pretrained)"
      ],
      "execution_count": null,
      "outputs": []
    },
    {
      "cell_type": "code",
      "metadata": {
        "id": "wIeCgL4OmW1-"
      },
      "source": [
        "early_stop_pre1 = [EarlyStopping(monitor='val_loss', patience=12, restore_best_weights=True),\n",
        "            ModelCheckpoint(filepath='pre1_best_model.h5', monitor='val_loss',\n",
        "                           save_best_only=True)]"
      ],
      "execution_count": null,
      "outputs": []
    },
    {
      "cell_type": "code",
      "metadata": {
        "id": "4MRkgsNnmZ-G"
      },
      "source": [
        "pretrained.compile(loss='binary_crossentropy',\n",
        "                optimizer='adam',\n",
        "                metrics=['acc', 'Recall', 'Precision', 'TruePositives', 'TrueNegatives', 'FalsePositives', 'FalseNegatives'])\n",
        "\n",
        "pretrained_results = pretrained.fit_generator(train_generator,\n",
        "                                         steps_per_epoch=2699//20+1,# number of samples / batch size\n",
        "                                         epochs=20,\n",
        "                                        callbacks= early_stop_pre1,\n",
        "                                         validation_data=test_generator,\n",
        "                                             validation_steps=394//20+1)"
      ],
      "execution_count": null,
      "outputs": []
    },
    {
      "cell_type": "code",
      "metadata": {
        "id": "bs1TyIMbmgBq"
      },
      "source": [
        "visualize_training_results(pretrained_results)"
      ],
      "execution_count": null,
      "outputs": []
    },
    {
      "cell_type": "markdown",
      "metadata": {
        "id": "_3_tJBt9mlBc"
      },
      "source": [
        "**Analysis of Model**\n",
        "\n",
        "The epoch with the lowest testing loss has a training accuracy of 95% and a testing accuracy of 82%, with a training loss of 14% and a testing loss of 45%. Testing recall is 87%, and testing precision is 88%. Testing loss is lower and testing accuracy is higher than in the previous model, so using pretrianed models looks promising. In the next iteration, I will try fine tuning this network by adding dropout layers and unfreezing some of the outer layers of the pretrained network so they can learn from the images in this dataset."
      ]
    },
    {
      "cell_type": "markdown",
      "metadata": {
        "id": "mWqjJBVOmmbE"
      },
      "source": [
        "## **Adding Dropout Layers and unfreezing outer layers**"
      ]
    },
    {
      "cell_type": "code",
      "metadata": {
        "id": "UK2u0wcymiwK"
      },
      "source": [
        "# Build first model using pretrained VGG 19 as first layer, and then some dense layers on top\n",
        "b5c3c4_drop = keras.Sequential()\n",
        "b5c3c4_drop.add(cnn_vgg)\n",
        "b5c3c4_drop.add(layers.Dropout(0.4))\n",
        "b5c3c4_drop.add(layers.Flatten())\n",
        "b5c3c4_drop.add(layers.Dense(128, activation='relu'))\n",
        "b5c3c4_drop.add(layers.Dropout(0.4))\n",
        "b5c3c4_drop.add(layers.Dense(1, activation='sigmoid'))"
      ],
      "execution_count": null,
      "outputs": []
    },
    {
      "cell_type": "code",
      "metadata": {
        "id": "puumUdK0m6lK"
      },
      "source": [
        "Freeze_Pretrained_Base(cnn_vgg, b5c3c4_drop)"
      ],
      "execution_count": null,
      "outputs": []
    },
    {
      "cell_type": "code",
      "metadata": {
        "id": "aMqUuyLzm-Bf"
      },
      "source": [
        "cnn_vgg.summary()"
      ],
      "execution_count": null,
      "outputs": []
    },
    {
      "cell_type": "code",
      "metadata": {
        "id": "i5kqUI2XnCJ-"
      },
      "source": [
        "unfreeze2 = ['block5_conv3','block5_conv4']"
      ],
      "execution_count": null,
      "outputs": []
    },
    {
      "cell_type": "code",
      "metadata": {
        "id": "zh3eAGHtnDL0"
      },
      "source": [
        "Unfreeze_Layers(cnn_vgg, unfreeze2)"
      ],
      "execution_count": null,
      "outputs": []
    },
    {
      "cell_type": "code",
      "metadata": {
        "id": "8ydy9lb1nG1o"
      },
      "source": [
        "early_stop_pre2 = [EarlyStopping(monitor='val_loss', patience=12, restore_best_weights=True),\n",
        "            ModelCheckpoint(filepath='pre2_best_model.h5', monitor='val_loss',\n",
        "                           save_best_only=True)]"
      ],
      "execution_count": null,
      "outputs": []
    },
    {
      "cell_type": "code",
      "metadata": {
        "id": "ixW6aYuwnNBx"
      },
      "source": [
        "b5c3c4_drop.compile(loss='binary_crossentropy',\n",
        "                optimizer='adam',\n",
        "                metrics=['acc', 'Recall', 'Precision', 'TruePositives', 'TrueNegatives', 'FalsePositives', 'FalseNegatives'])\n",
        "\n",
        "b5c3c4_drop_results = b5c3c4_drop.fit_generator(train_generator,\n",
        "                                         steps_per_epoch=2699//20+1,# number of samples / batch size\n",
        "                                         epochs=20,\n",
        "                                        callbacks= early_stop_pre2,\n",
        "                                         validation_data=test_generator,\n",
        "                                             validation_steps=394//20+1)"
      ],
      "execution_count": null,
      "outputs": []
    },
    {
      "cell_type": "code",
      "metadata": {
        "id": "nAkTfNv5nQDc"
      },
      "source": [
        "visualize_training_results(b5c3c4_drop_results)"
      ],
      "execution_count": null,
      "outputs": []
    },
    {
      "cell_type": "markdown",
      "metadata": {
        "id": "Tm4UfHDjnRBZ"
      },
      "source": [
        "**Analysis of Model**\n",
        "\n",
        "The epoch with the lowest testing loss has a training acuracy of 92% and a testing accuracy of 76%, with a training loss of 23% and a testing loss of 50%. Testing recall is 83% and testing precision is 94%. This model is performing worse than the last pretrained model with all layers frozen and no dropout layers, so in the next iteration I will freeze all layers and remove one of the dropout layers to see if this helps."
      ]
    },
    {
      "cell_type": "markdown",
      "metadata": {
        "id": "_engtqX7ncCX"
      },
      "source": [
        "## **Freezing all Layers, just including one dropout layer**"
      ]
    },
    {
      "cell_type": "code",
      "metadata": {
        "id": "gr181flSnZLx"
      },
      "source": [
        "# Build first model using pretrained VGG 19 as first layer, and then some dense layers on top\n",
        "pre_drop = keras.Sequential()\n",
        "pre_drop.add(cnn_vgg)\n",
        "pre_drop.add(layers.Flatten())\n",
        "pre_drop.add(layers.Dense(128, activation='relu'))\n",
        "pre_drop.add(layers.Dropout(0.4))\n",
        "pre_drop.add(layers.Dense(1, activation='sigmoid'))"
      ],
      "execution_count": null,
      "outputs": []
    },
    {
      "cell_type": "code",
      "metadata": {
        "id": "_knLmChYnini"
      },
      "source": [
        "Freeze_Pretrained_Base(cnn_vgg, pre_drop)"
      ],
      "execution_count": null,
      "outputs": []
    },
    {
      "cell_type": "code",
      "metadata": {
        "id": "ZfTZhVUpnjjo"
      },
      "source": [
        "early_stop_pre3 = [EarlyStopping(monitor='val_loss', patience=12, restore_best_weights=True),\n",
        "            ModelCheckpoint(filepath='pre3_best_model.h5', monitor='val_loss',\n",
        "                           save_best_only=True)]"
      ],
      "execution_count": null,
      "outputs": []
    },
    {
      "cell_type": "code",
      "metadata": {
        "id": "RmHvrY_dnmqH"
      },
      "source": [
        "pre_drop.compile(loss='binary_crossentropy',\n",
        "                optimizer='adam',\n",
        "                metrics=['acc', 'Recall', 'Precision', 'TruePositives', 'TrueNegatives', 'FalsePositives', 'FalseNegatives'])\n",
        "\n",
        "pre_drop_results = pre_drop.fit_generator(train_generator,\n",
        "                                         steps_per_epoch=2699//20+1,# number of samples / batch size\n",
        "                                         epochs=20,\n",
        "                                        callbacks= early_stop_pre3,\n",
        "                                         validation_data=test_generator,\n",
        "                                             validation_steps=394//20+1)"
      ],
      "execution_count": null,
      "outputs": []
    },
    {
      "cell_type": "markdown",
      "metadata": {
        "id": "DDjHxrfJnrjk"
      },
      "source": [
        "**Analysis of Model**\n",
        "\n",
        "The epoch with the lowest testing loss had a training accuracy of 93% and a testing accuracy of 75%, with a training loss of 17% and a testing loss of 50%. Testing recall is 75% and Testing precision is 89%. In terms of accuracy and loss, this iteration is performing similarly to the last model, and in terms of recall and precision it is performing worse. Next I will try incorporating class weights into pretrained network."
      ]
    },
    {
      "cell_type": "markdown",
      "metadata": {
        "id": "dAXjWv9woB0M"
      },
      "source": [
        "## **Incorporating Class Weights into Pretrained VGG-19**"
      ]
    },
    {
      "cell_type": "code",
      "metadata": {
        "id": "bB3UPJ4Nn5r-"
      },
      "source": [
        "# Build first model using pretrained VGG 19 as first layer, and then some dense layers on top\n",
        "w3_b5c1c2 = keras.Sequential()\n",
        "w3_b5c1c2.add(cnn_vgg)\n",
        "w3_b5c1c2.add(layers.Flatten())\n",
        "w3_b5c1c2.add(layers.Dense(128, activation='relu'))\n",
        "w3_b5c1c2.add(layers.Dense(1, activation='sigmoid'))"
      ],
      "execution_count": null,
      "outputs": []
    },
    {
      "cell_type": "code",
      "metadata": {
        "id": "HZ5JKeF4oIGC"
      },
      "source": [
        "Freeze_Pretrained_Base(cnn_vgg, w3_b5c1c2)"
      ],
      "execution_count": null,
      "outputs": []
    },
    {
      "cell_type": "code",
      "metadata": {
        "id": "5LyAbLPxoKYh"
      },
      "source": [
        "early_stop2 = [EarlyStopping(monitor='val_loss', patience=12, restore_best_weights=True),\n",
        "            ModelCheckpoint(filepath='best_model.h5', monitor='val_loss',\n",
        "                           save_best_only=True)]"
      ],
      "execution_count": null,
      "outputs": []
    },
    {
      "cell_type": "code",
      "metadata": {
        "id": "DjcncjxkoQ09"
      },
      "source": [
        "# Incorporating adjusted class weights; compiling and fitting the model\n",
        "weights3 = {0: 3, # NO TUMOR\n",
        "          1:1.} # TUMOR \n",
        "# there are 6.255 times as many images of MRIs with tumors than without, but acording to the class weight calculation, I should \n",
        "# use a number close to 3.63 for the minority class, in this case the no tumor, or \"zero\" class.\n",
        "\n",
        "\n",
        "w3_b5c1c2.compile(loss='binary_crossentropy',\n",
        "                optimizer='adam',\n",
        "                metrics=['acc', 'Recall', 'Precision', 'TruePositives', 'TrueNegatives', 'FalsePositives', 'FalseNegatives'])\n",
        "\n",
        "w3_b5c1c2_results = w3_b5c1c2.fit_generator(train_generator,\n",
        "                                          class_weight = weights3,\n",
        "                                         steps_per_epoch=2699//20+1,# number of samples / batch size + 1\n",
        "                                         epochs=20,\n",
        "                                        callbacks= early_stop2,\n",
        "                                         validation_data=test_generator,\n",
        "                                        validation_steps=394//20+1)"
      ],
      "execution_count": null,
      "outputs": []
    },
    {
      "cell_type": "markdown",
      "metadata": {
        "id": "hCgHfJXeoVeY"
      },
      "source": [
        "**Analysis of Model**\n",
        "\n",
        "The epoch with the lowest testing loss has a training accuracy of 98% and a testing accuracy of 91%, with a training loss of 10% and a testing loss of 26%. Testing recall is 89% and testing precision is 98%.\n",
        "\n",
        "From looking at the training and testing accuracy and loss, it is obvious that this is the most competent model yet. Overfitting has been greatly reduced, testing loss has been reduced considerably, and there is high recall and precision. Now it is time to evaluate the model on the validation hold-out set."
      ]
    },
    {
      "cell_type": "code",
      "metadata": {
        "id": "egTsSVVUoWTE"
      },
      "source": [
        "print_metrics_confusionmatrix('best_model.h5', test_generator, 'Test')"
      ],
      "execution_count": null,
      "outputs": []
    },
    {
      "cell_type": "code",
      "metadata": {
        "id": "zXw5puCbomK1"
      },
      "source": [
        "print_metrics_confusionmatrix('best_model.h5', val_generator, 'Val')"
      ],
      "execution_count": null,
      "outputs": []
    }
  ]
}