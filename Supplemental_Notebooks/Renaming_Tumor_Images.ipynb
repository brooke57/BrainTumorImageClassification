{
 "cells": [
  {
   "cell_type": "markdown",
   "metadata": {},
   "source": [
    "# **Resorting Images from \"Brain Tumor Classification (MRI) Kaggle dataset**"
   ]
  },
  {
   "cell_type": "markdown",
   "metadata": {},
   "source": [
    "This kaggle dataset has a file structure that lends itself best to a multiclass classification problem, but I wanted to change the file structure to be one more conducive to a binary classification problem, so I changed the file structure. First, I downloaded the kaggle data, which was all in a folder called \"archive\" and which I renamed to be \"Brain MRI Tumor Images.\" The file structure of this downloaded data looks like this:"
   ]
  },
  {
   "cell_type": "markdown",
   "metadata": {},
   "source": [
    "![](images/FileStructure.png)"
   ]
  },
  {
   "cell_type": "markdown",
   "metadata": {},
   "source": [
    "To make it a Binary classification problem, I decided to combine the three types of tumors into one folder in both the Training and Testing folder, so that now in each of these folders there would be only two subfolders: either an \"AllTumorsTrain\" or \"AllTumorsTest\" (respective to each parent folder name) and \"no_tumor\".\n",
    "\n",
    "Additionally, because there were some images with the same name between the different subfolders in the Testing folder (not within the same subfolder, but within separate subfolders) I decided to rename these images before combining them into one folder. The code for this is shown below. In order to do this, I put the downloaded file in the same repository level as this notebook."
   ]
  },
  {
   "cell_type": "code",
   "execution_count": 2,
   "metadata": {},
   "outputs": [],
   "source": [
    "# Importing libraries that will be needed for resorting the images amongst the different folders\n",
    "import pandas as pd\n",
    "import os\n",
    "import glob"
   ]
  },
  {
   "cell_type": "code",
   "execution_count": 2,
   "metadata": {},
   "outputs": [
    {
     "name": "stdout",
     "output_type": "stream",
     "text": [
      "\u001b[34mglioma_tumor\u001b[m\u001b[m     \u001b[34mmeningioma_tumor\u001b[m\u001b[m \u001b[34mno_tumor\u001b[m\u001b[m         \u001b[34mpituitary_tumor\u001b[m\u001b[m\r\n"
     ]
    }
   ],
   "source": [
    "!ls Brain_MRI_Tumor_Images/Testing"
   ]
  },
  {
   "cell_type": "code",
   "execution_count": 5,
   "metadata": {},
   "outputs": [],
   "source": [
    "# Rename images in glioma_tumor subfolder so that they are all unique names and can be combined into one folder\n",
    "# code is from this stack overflow article: \n",
    "# https://stackoverflow.com/questions/37695215/how-to-rename-jpg-files-with-running-order-using-python\n",
    "os.chdir('Brain_MRI_Tumor_Images/Testing/glioma_tumor')\n",
    "for index, oldfile in enumerate(glob.glob(\"*.jpg\"), start=1):\n",
    "    newfile = 'Glioma'+'{}.jpg'.format(index)\n",
    "    os.rename (oldfile,newfile)"
   ]
  },
  {
   "cell_type": "code",
   "execution_count": 4,
   "metadata": {},
   "outputs": [],
   "source": [
    "# Rename images in meningioma_tumor subfolder\n",
    "os.chdir('Brain_MRI_Tumor_Images/Testing/meningioma_tumor')\n",
    "for index, oldfile in enumerate(glob.glob(\"*.jpg\"), start=1):\n",
    "    newfile1 = 'Meningioma'+'{}.jpg'.format(index)\n",
    "    os.rename (oldfile,newfile1)"
   ]
  },
  {
   "cell_type": "code",
   "execution_count": 3,
   "metadata": {},
   "outputs": [],
   "source": [
    "# Rename images in no_tumor subfolder\n",
    "os.chdir('Brain_MRI_Tumor_Images/Testing/no_tumor')\n",
    "for index, oldfile in enumerate(glob.glob(\"*.jpg\"), start=1):\n",
    "    newfile2 = 'NoTumor'+'{}.jpg'.format(index)\n",
    "    os.rename (oldfile,newfile2)"
   ]
  },
  {
   "cell_type": "code",
   "execution_count": 3,
   "metadata": {},
   "outputs": [],
   "source": [
    "# Rename images in Pituitary subfolder\n",
    "os.chdir('Brain_MRI_Tumor_Images/Testing/pituitary_tumor')\n",
    "for index, oldfile in enumerate(glob.glob(\"*.jpg\"), start=1):\n",
    "    newfile3 = 'Pituitary'+'{}.jpg'.format(index)\n",
    "    os.rename (oldfile,newfile3)"
   ]
  },
  {
   "cell_type": "markdown",
   "metadata": {},
   "source": [
    "After executing this code, I then combined all of the different tumor types into one folder, for both training and testing data. Then, I uploaded this data back onto kaggle under the name \"Resorted \"BrainTumorClassification(MRI)\" Data. From there, I was able to make a new kaggle notebook using this data. (This resorted data can be accessed on kaggle, with [this link](https://www.kaggle.com/brookejudithsmyth/resortedbraintumorclassificationmridata).)"
   ]
  },
  {
   "cell_type": "markdown",
   "metadata": {},
   "source": [
    "I worked on kaggle for the majority of the time for developing neural networks, but I switched to google Colab in order to have more GPU time. I was able to upload the data I had downloaded from kaggle and resorted using instructions from this [great blog](https://towardsdatascience.com/an-informative-colab-guide-to-load-image-datasets-from-github-kaggle-and-local-machine-75cae89ffa1e). For the details on how I did this, please visit the notebook entitled, 'Colab Binary Brain Tumor Classification.ipynb'."
   ]
  },
  {
   "cell_type": "code",
   "execution_count": null,
   "metadata": {},
   "outputs": [],
   "source": []
  }
 ],
 "metadata": {
  "kernelspec": {
   "display_name": "Python 3",
   "language": "python",
   "name": "python3"
  },
  "language_info": {
   "codemirror_mode": {
    "name": "ipython",
    "version": 3
   },
   "file_extension": ".py",
   "mimetype": "text/x-python",
   "name": "python",
   "nbconvert_exporter": "python",
   "pygments_lexer": "ipython3",
   "version": "3.8.5"
  }
 },
 "nbformat": 4,
 "nbformat_minor": 4
}
